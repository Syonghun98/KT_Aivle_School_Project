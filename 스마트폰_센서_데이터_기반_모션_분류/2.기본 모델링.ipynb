{
 "cells": [
  {
   "cell_type": "markdown",
   "metadata": {
    "id": "NbI_RoQ9AP5r"
   },
   "source": [
    "#**스마트폰 센서 데이터 기반 모션 분류**\n",
    "# 단계2 : 기본 모델링\n"
   ]
  },
  {
   "cell_type": "markdown",
   "metadata": {
    "id": "D67PlTu4JGAY"
   },
   "source": [
    "## 0.미션3"
   ]
  },
  {
   "cell_type": "markdown",
   "metadata": {
    "id": "ubUjMgXEzTUv"
   },
   "source": [
    "* 데이터 전처리\n",
    "    * 가변수화, 데이터 분할, NaN 확인 및 조치, 스케일링 등 필요한 전처리 수행\n",
    "* 다양한 딥러닝 구조의 모델로 분류 모델 생성\n",
    "    * 최소 4개 이상 모델링 수행\n",
    "    * 각 모델별 최소 5회 반복수행해서 얻은 성능의 평균으로 비교\n",
    "    * 각 모델의 성능을 저장하는 별도 데이터 프레임을 만들고 비교\n",
    "* 옵션 : 다음 사항은 선택사항입니다. 시간이 허용하는 범위 내에서 수행하세요.\n",
    "    * 상위 N개 변수를 선정하여 모델링 및 성능 비교\n",
    "        * 모델링에 항상 모든 변수가 필요한 것은 아닙니다.\n",
    "        * 변수 중요도 상위 N개를 선정하여 모델링하고 타 모델과 성능을 비교하세요.\n",
    "        * 상위 N개를 선택하는 방법은, 변수를 하나씩 늘려가며 모델링 및 성능 검증을 수행하여 적절한 지점을 찾는 것입니다.\n",
    "* 성능 가이드\n",
    "    * Accuracy : 0.90 ~ 0.99"
   ]
  },
  {
   "cell_type": "markdown",
   "metadata": {
    "id": "a2oWtdJPzTUy"
   },
   "source": [
    "## 1.환경설정"
   ]
  },
  {
   "cell_type": "markdown",
   "metadata": {
    "id": "OUF6xQFZzTUz"
   },
   "source": [
    "* 세부 요구사항\n",
    "    - 경로 설정 : 구글콜랩\n",
    "        * 구글 드라이브 바로 밑에 project3 폴더를 만들고,\n",
    "        * 데이터 파일을 복사해 넣습니다.\n",
    "    - 기본적으로 필요한 라이브러리를 import 하도록 코드가 작성되어 있습니다.\n",
    "        * 필요하다고 판단되는 라이브러리를 추가하세요.\n"
   ]
  },
  {
   "cell_type": "markdown",
   "metadata": {
    "id": "4bg7tWxSzTU0"
   },
   "source": [
    "### (1) 경로 설정"
   ]
  },
  {
   "cell_type": "markdown",
   "metadata": {
    "id": "o86e1aHRzTU0"
   },
   "source": [
    "* 구글 드라이브 연결"
   ]
  },
  {
   "cell_type": "code",
   "execution_count": 1,
   "metadata": {
    "colab": {
     "base_uri": "https://localhost:8080/"
    },
    "executionInfo": {
     "elapsed": 24106,
     "status": "ok",
     "timestamp": 1729151792258,
     "user": {
      "displayName": "강해찬",
      "userId": "08180896618044652518"
     },
     "user_tz": -540
    },
    "id": "9G0Si0qDzTU0",
    "outputId": "3645d83b-25fc-4912-d68f-ff472c3d566c"
   },
   "outputs": [
    {
     "name": "stdout",
     "output_type": "stream",
     "text": [
      "Mounted at /content/drive\n"
     ]
    }
   ],
   "source": [
    "from google.colab import drive\n",
    "drive.mount('/content/drive')"
   ]
  },
  {
   "cell_type": "code",
   "execution_count": 2,
   "metadata": {
    "executionInfo": {
     "elapsed": 2,
     "status": "ok",
     "timestamp": 1729151792258,
     "user": {
      "displayName": "강해찬",
      "userId": "08180896618044652518"
     },
     "user_tz": -540
    },
    "id": "5i7K-4UGzTU3"
   },
   "outputs": [],
   "source": [
    "path = '/content/drive/MyDrive/project3/'"
   ]
  },
  {
   "cell_type": "markdown",
   "metadata": {
    "id": "0Xnr5atSzTU4"
   },
   "source": [
    "### (2) 라이브러리 불러오기"
   ]
  },
  {
   "cell_type": "markdown",
   "metadata": {
    "id": "waGFA7e9zTU4"
   },
   "source": [
    "* 라이브러리 로딩"
   ]
  },
  {
   "cell_type": "code",
   "execution_count": 3,
   "metadata": {
    "executionInfo": {
     "elapsed": 7893,
     "status": "ok",
     "timestamp": 1729151800150,
     "user": {
      "displayName": "강해찬",
      "userId": "08180896618044652518"
     },
     "user_tz": -540
    },
    "id": "cuVV49MizTU5"
   },
   "outputs": [],
   "source": [
    "import pandas as pd\n",
    "import numpy as np\n",
    "import matplotlib.pyplot as plt\n",
    "import seaborn as sns\n",
    "\n",
    "import joblib\n",
    "from tqdm import tqdm\n",
    "\n",
    "from sklearn.model_selection import train_test_split\n",
    "from sklearn.preprocessing import MinMaxScaler, LabelEncoder\n",
    "from sklearn.metrics import *\n",
    "\n",
    "from keras.models import Sequential\n",
    "from keras.layers import Dense, Flatten, Dropout, Input, BatchNormalization\n",
    "from keras.backend import clear_session\n",
    "from keras.optimizers import Adam\n",
    "\n",
    "from keras.callbacks import EarlyStopping\n",
    "from tensorflow.keras.callbacks import ReduceLROnPlateau"
   ]
  },
  {
   "cell_type": "code",
   "execution_count": 4,
   "metadata": {
    "executionInfo": {
     "elapsed": 7,
     "status": "ok",
     "timestamp": 1729151800150,
     "user": {
      "displayName": "강해찬",
      "userId": "08180896618044652518"
     },
     "user_tz": -540
    },
    "id": "3c4JgiEbNKfo"
   },
   "outputs": [],
   "source": [
    "# 학습곡선 함수\n",
    "def dl_history_plot(history):\n",
    "    plt.figure(figsize=(10,6))\n",
    "    plt.plot(history['loss'], label='train_err', marker = '.')\n",
    "    plt.plot(history['val_loss'], label='val_err', marker = '.')\n",
    "\n",
    "    plt.ylabel('Loss')\n",
    "    plt.xlabel('Epoch')\n",
    "    plt.legend()\n",
    "    plt.grid()\n",
    "    plt.show()"
   ]
  },
  {
   "cell_type": "markdown",
   "metadata": {
    "id": "bA-eHXdwBDCz"
   },
   "source": [
    "### (3) 데이터 불러오기"
   ]
  },
  {
   "cell_type": "markdown",
   "metadata": {
    "id": "HwIACQyupklv"
   },
   "source": [
    "* 주어진 데이터셋\n",
    "    * data01_train.csv : 학습 및 검증용\n",
    "    * data01_test.csv : 테스트용\n",
    "    * feature.csv : feature 이름을 계층구조로 정리한 데이터\n",
    "\n",
    "* 세부 요구사항\n",
    "    * 칼럼 삭제 : data01_train.csv와 data01_test.csv 에서 'subject' 칼럼은 불필요하므로 삭제합니다."
   ]
  },
  {
   "cell_type": "markdown",
   "metadata": {
    "id": "fmgUEGOipvG5"
   },
   "source": [
    "#### 1) 데이터로딩"
   ]
  },
  {
   "cell_type": "code",
   "execution_count": 5,
   "metadata": {
    "colab": {
     "base_uri": "https://localhost:8080/",
     "height": 273
    },
    "executionInfo": {
     "elapsed": 1943,
     "status": "ok",
     "timestamp": 1729151802088,
     "user": {
      "displayName": "강해찬",
      "userId": "08180896618044652518"
     },
     "user_tz": -540
    },
    "id": "HdZCcSs6qfRC",
    "outputId": "607d6a2e-e75e-4f6a-b94f-51291d3c3dad"
   },
   "outputs": [
    {
     "data": {
      "application/vnd.google.colaboratory.intrinsic+json": {
       "type": "dataframe",
       "variable_name": "data1"
      },
      "text/html": [
       "\n",
       "  <div id=\"df-d2f9da32-8b9e-4e8f-b015-ae5eac012684\" class=\"colab-df-container\">\n",
       "    <div>\n",
       "<style scoped>\n",
       "    .dataframe tbody tr th:only-of-type {\n",
       "        vertical-align: middle;\n",
       "    }\n",
       "\n",
       "    .dataframe tbody tr th {\n",
       "        vertical-align: top;\n",
       "    }\n",
       "\n",
       "    .dataframe thead th {\n",
       "        text-align: right;\n",
       "    }\n",
       "</style>\n",
       "<table border=\"1\" class=\"dataframe\">\n",
       "  <thead>\n",
       "    <tr style=\"text-align: right;\">\n",
       "      <th></th>\n",
       "      <th>tBodyAcc-mean()-X</th>\n",
       "      <th>tBodyAcc-mean()-Y</th>\n",
       "      <th>tBodyAcc-mean()-Z</th>\n",
       "      <th>tBodyAcc-std()-X</th>\n",
       "      <th>tBodyAcc-std()-Y</th>\n",
       "      <th>tBodyAcc-std()-Z</th>\n",
       "      <th>tBodyAcc-mad()-X</th>\n",
       "      <th>tBodyAcc-mad()-Y</th>\n",
       "      <th>tBodyAcc-mad()-Z</th>\n",
       "      <th>tBodyAcc-max()-X</th>\n",
       "      <th>...</th>\n",
       "      <th>fBodyBodyGyroJerkMag-skewness()</th>\n",
       "      <th>fBodyBodyGyroJerkMag-kurtosis()</th>\n",
       "      <th>angle(tBodyAccMean,gravity)</th>\n",
       "      <th>angle(tBodyAccJerkMean),gravityMean)</th>\n",
       "      <th>angle(tBodyGyroMean,gravityMean)</th>\n",
       "      <th>angle(tBodyGyroJerkMean,gravityMean)</th>\n",
       "      <th>angle(X,gravityMean)</th>\n",
       "      <th>angle(Y,gravityMean)</th>\n",
       "      <th>angle(Z,gravityMean)</th>\n",
       "      <th>Activity</th>\n",
       "    </tr>\n",
       "  </thead>\n",
       "  <tbody>\n",
       "    <tr>\n",
       "      <th>0</th>\n",
       "      <td>0.288508</td>\n",
       "      <td>-0.009196</td>\n",
       "      <td>-0.103362</td>\n",
       "      <td>-0.988986</td>\n",
       "      <td>-0.962797</td>\n",
       "      <td>-0.967422</td>\n",
       "      <td>-0.989000</td>\n",
       "      <td>-0.962596</td>\n",
       "      <td>-0.965650</td>\n",
       "      <td>-0.929747</td>\n",
       "      <td>...</td>\n",
       "      <td>-0.487737</td>\n",
       "      <td>-0.816696</td>\n",
       "      <td>-0.042494</td>\n",
       "      <td>-0.044218</td>\n",
       "      <td>0.307873</td>\n",
       "      <td>0.072790</td>\n",
       "      <td>-0.601120</td>\n",
       "      <td>0.331298</td>\n",
       "      <td>0.165163</td>\n",
       "      <td>STANDING</td>\n",
       "    </tr>\n",
       "    <tr>\n",
       "      <th>1</th>\n",
       "      <td>0.265757</td>\n",
       "      <td>-0.016576</td>\n",
       "      <td>-0.098163</td>\n",
       "      <td>-0.989551</td>\n",
       "      <td>-0.994636</td>\n",
       "      <td>-0.987435</td>\n",
       "      <td>-0.990189</td>\n",
       "      <td>-0.993870</td>\n",
       "      <td>-0.987558</td>\n",
       "      <td>-0.937337</td>\n",
       "      <td>...</td>\n",
       "      <td>-0.237820</td>\n",
       "      <td>-0.693515</td>\n",
       "      <td>-0.062899</td>\n",
       "      <td>0.388459</td>\n",
       "      <td>-0.765014</td>\n",
       "      <td>0.771524</td>\n",
       "      <td>0.345205</td>\n",
       "      <td>-0.769186</td>\n",
       "      <td>-0.147944</td>\n",
       "      <td>LAYING</td>\n",
       "    </tr>\n",
       "    <tr>\n",
       "      <th>2</th>\n",
       "      <td>0.278709</td>\n",
       "      <td>-0.014511</td>\n",
       "      <td>-0.108717</td>\n",
       "      <td>-0.997720</td>\n",
       "      <td>-0.981088</td>\n",
       "      <td>-0.994008</td>\n",
       "      <td>-0.997934</td>\n",
       "      <td>-0.982187</td>\n",
       "      <td>-0.995017</td>\n",
       "      <td>-0.942584</td>\n",
       "      <td>...</td>\n",
       "      <td>-0.535287</td>\n",
       "      <td>-0.829311</td>\n",
       "      <td>0.000265</td>\n",
       "      <td>-0.525022</td>\n",
       "      <td>-0.891875</td>\n",
       "      <td>0.021528</td>\n",
       "      <td>-0.833564</td>\n",
       "      <td>0.202434</td>\n",
       "      <td>-0.032755</td>\n",
       "      <td>STANDING</td>\n",
       "    </tr>\n",
       "    <tr>\n",
       "      <th>3</th>\n",
       "      <td>0.289795</td>\n",
       "      <td>-0.035536</td>\n",
       "      <td>-0.150354</td>\n",
       "      <td>-0.231727</td>\n",
       "      <td>-0.006412</td>\n",
       "      <td>-0.338117</td>\n",
       "      <td>-0.273557</td>\n",
       "      <td>0.014245</td>\n",
       "      <td>-0.347916</td>\n",
       "      <td>0.008288</td>\n",
       "      <td>...</td>\n",
       "      <td>-0.004012</td>\n",
       "      <td>-0.408956</td>\n",
       "      <td>-0.255125</td>\n",
       "      <td>0.612804</td>\n",
       "      <td>0.747381</td>\n",
       "      <td>-0.072944</td>\n",
       "      <td>-0.695819</td>\n",
       "      <td>0.287154</td>\n",
       "      <td>0.111388</td>\n",
       "      <td>WALKING</td>\n",
       "    </tr>\n",
       "    <tr>\n",
       "      <th>4</th>\n",
       "      <td>0.394807</td>\n",
       "      <td>0.034098</td>\n",
       "      <td>0.091229</td>\n",
       "      <td>0.088489</td>\n",
       "      <td>-0.106636</td>\n",
       "      <td>-0.388502</td>\n",
       "      <td>-0.010469</td>\n",
       "      <td>-0.109680</td>\n",
       "      <td>-0.346372</td>\n",
       "      <td>0.584131</td>\n",
       "      <td>...</td>\n",
       "      <td>-0.157832</td>\n",
       "      <td>-0.563437</td>\n",
       "      <td>-0.044344</td>\n",
       "      <td>-0.845268</td>\n",
       "      <td>-0.974650</td>\n",
       "      <td>-0.887846</td>\n",
       "      <td>-0.705029</td>\n",
       "      <td>0.264952</td>\n",
       "      <td>0.137758</td>\n",
       "      <td>WALKING_DOWNSTAIRS</td>\n",
       "    </tr>\n",
       "  </tbody>\n",
       "</table>\n",
       "<p>5 rows × 562 columns</p>\n",
       "</div>\n",
       "    <div class=\"colab-df-buttons\">\n",
       "\n",
       "  <div class=\"colab-df-container\">\n",
       "    <button class=\"colab-df-convert\" onclick=\"convertToInteractive('df-d2f9da32-8b9e-4e8f-b015-ae5eac012684')\"\n",
       "            title=\"Convert this dataframe to an interactive table.\"\n",
       "            style=\"display:none;\">\n",
       "\n",
       "  <svg xmlns=\"http://www.w3.org/2000/svg\" height=\"24px\" viewBox=\"0 -960 960 960\">\n",
       "    <path d=\"M120-120v-720h720v720H120Zm60-500h600v-160H180v160Zm220 220h160v-160H400v160Zm0 220h160v-160H400v160ZM180-400h160v-160H180v160Zm440 0h160v-160H620v160ZM180-180h160v-160H180v160Zm440 0h160v-160H620v160Z\"/>\n",
       "  </svg>\n",
       "    </button>\n",
       "\n",
       "  <style>\n",
       "    .colab-df-container {\n",
       "      display:flex;\n",
       "      gap: 12px;\n",
       "    }\n",
       "\n",
       "    .colab-df-convert {\n",
       "      background-color: #E8F0FE;\n",
       "      border: none;\n",
       "      border-radius: 50%;\n",
       "      cursor: pointer;\n",
       "      display: none;\n",
       "      fill: #1967D2;\n",
       "      height: 32px;\n",
       "      padding: 0 0 0 0;\n",
       "      width: 32px;\n",
       "    }\n",
       "\n",
       "    .colab-df-convert:hover {\n",
       "      background-color: #E2EBFA;\n",
       "      box-shadow: 0px 1px 2px rgba(60, 64, 67, 0.3), 0px 1px 3px 1px rgba(60, 64, 67, 0.15);\n",
       "      fill: #174EA6;\n",
       "    }\n",
       "\n",
       "    .colab-df-buttons div {\n",
       "      margin-bottom: 4px;\n",
       "    }\n",
       "\n",
       "    [theme=dark] .colab-df-convert {\n",
       "      background-color: #3B4455;\n",
       "      fill: #D2E3FC;\n",
       "    }\n",
       "\n",
       "    [theme=dark] .colab-df-convert:hover {\n",
       "      background-color: #434B5C;\n",
       "      box-shadow: 0px 1px 3px 1px rgba(0, 0, 0, 0.15);\n",
       "      filter: drop-shadow(0px 1px 2px rgba(0, 0, 0, 0.3));\n",
       "      fill: #FFFFFF;\n",
       "    }\n",
       "  </style>\n",
       "\n",
       "    <script>\n",
       "      const buttonEl =\n",
       "        document.querySelector('#df-d2f9da32-8b9e-4e8f-b015-ae5eac012684 button.colab-df-convert');\n",
       "      buttonEl.style.display =\n",
       "        google.colab.kernel.accessAllowed ? 'block' : 'none';\n",
       "\n",
       "      async function convertToInteractive(key) {\n",
       "        const element = document.querySelector('#df-d2f9da32-8b9e-4e8f-b015-ae5eac012684');\n",
       "        const dataTable =\n",
       "          await google.colab.kernel.invokeFunction('convertToInteractive',\n",
       "                                                    [key], {});\n",
       "        if (!dataTable) return;\n",
       "\n",
       "        const docLinkHtml = 'Like what you see? Visit the ' +\n",
       "          '<a target=\"_blank\" href=https://colab.research.google.com/notebooks/data_table.ipynb>data table notebook</a>'\n",
       "          + ' to learn more about interactive tables.';\n",
       "        element.innerHTML = '';\n",
       "        dataTable['output_type'] = 'display_data';\n",
       "        await google.colab.output.renderOutput(dataTable, element);\n",
       "        const docLink = document.createElement('div');\n",
       "        docLink.innerHTML = docLinkHtml;\n",
       "        element.appendChild(docLink);\n",
       "      }\n",
       "    </script>\n",
       "  </div>\n",
       "\n",
       "\n",
       "<div id=\"df-c7cb111b-f8d5-4e30-a021-5d24fb8eefac\">\n",
       "  <button class=\"colab-df-quickchart\" onclick=\"quickchart('df-c7cb111b-f8d5-4e30-a021-5d24fb8eefac')\"\n",
       "            title=\"Suggest charts\"\n",
       "            style=\"display:none;\">\n",
       "\n",
       "<svg xmlns=\"http://www.w3.org/2000/svg\" height=\"24px\"viewBox=\"0 0 24 24\"\n",
       "     width=\"24px\">\n",
       "    <g>\n",
       "        <path d=\"M19 3H5c-1.1 0-2 .9-2 2v14c0 1.1.9 2 2 2h14c1.1 0 2-.9 2-2V5c0-1.1-.9-2-2-2zM9 17H7v-7h2v7zm4 0h-2V7h2v10zm4 0h-2v-4h2v4z\"/>\n",
       "    </g>\n",
       "</svg>\n",
       "  </button>\n",
       "\n",
       "<style>\n",
       "  .colab-df-quickchart {\n",
       "      --bg-color: #E8F0FE;\n",
       "      --fill-color: #1967D2;\n",
       "      --hover-bg-color: #E2EBFA;\n",
       "      --hover-fill-color: #174EA6;\n",
       "      --disabled-fill-color: #AAA;\n",
       "      --disabled-bg-color: #DDD;\n",
       "  }\n",
       "\n",
       "  [theme=dark] .colab-df-quickchart {\n",
       "      --bg-color: #3B4455;\n",
       "      --fill-color: #D2E3FC;\n",
       "      --hover-bg-color: #434B5C;\n",
       "      --hover-fill-color: #FFFFFF;\n",
       "      --disabled-bg-color: #3B4455;\n",
       "      --disabled-fill-color: #666;\n",
       "  }\n",
       "\n",
       "  .colab-df-quickchart {\n",
       "    background-color: var(--bg-color);\n",
       "    border: none;\n",
       "    border-radius: 50%;\n",
       "    cursor: pointer;\n",
       "    display: none;\n",
       "    fill: var(--fill-color);\n",
       "    height: 32px;\n",
       "    padding: 0;\n",
       "    width: 32px;\n",
       "  }\n",
       "\n",
       "  .colab-df-quickchart:hover {\n",
       "    background-color: var(--hover-bg-color);\n",
       "    box-shadow: 0 1px 2px rgba(60, 64, 67, 0.3), 0 1px 3px 1px rgba(60, 64, 67, 0.15);\n",
       "    fill: var(--button-hover-fill-color);\n",
       "  }\n",
       "\n",
       "  .colab-df-quickchart-complete:disabled,\n",
       "  .colab-df-quickchart-complete:disabled:hover {\n",
       "    background-color: var(--disabled-bg-color);\n",
       "    fill: var(--disabled-fill-color);\n",
       "    box-shadow: none;\n",
       "  }\n",
       "\n",
       "  .colab-df-spinner {\n",
       "    border: 2px solid var(--fill-color);\n",
       "    border-color: transparent;\n",
       "    border-bottom-color: var(--fill-color);\n",
       "    animation:\n",
       "      spin 1s steps(1) infinite;\n",
       "  }\n",
       "\n",
       "  @keyframes spin {\n",
       "    0% {\n",
       "      border-color: transparent;\n",
       "      border-bottom-color: var(--fill-color);\n",
       "      border-left-color: var(--fill-color);\n",
       "    }\n",
       "    20% {\n",
       "      border-color: transparent;\n",
       "      border-left-color: var(--fill-color);\n",
       "      border-top-color: var(--fill-color);\n",
       "    }\n",
       "    30% {\n",
       "      border-color: transparent;\n",
       "      border-left-color: var(--fill-color);\n",
       "      border-top-color: var(--fill-color);\n",
       "      border-right-color: var(--fill-color);\n",
       "    }\n",
       "    40% {\n",
       "      border-color: transparent;\n",
       "      border-right-color: var(--fill-color);\n",
       "      border-top-color: var(--fill-color);\n",
       "    }\n",
       "    60% {\n",
       "      border-color: transparent;\n",
       "      border-right-color: var(--fill-color);\n",
       "    }\n",
       "    80% {\n",
       "      border-color: transparent;\n",
       "      border-right-color: var(--fill-color);\n",
       "      border-bottom-color: var(--fill-color);\n",
       "    }\n",
       "    90% {\n",
       "      border-color: transparent;\n",
       "      border-bottom-color: var(--fill-color);\n",
       "    }\n",
       "  }\n",
       "</style>\n",
       "\n",
       "  <script>\n",
       "    async function quickchart(key) {\n",
       "      const quickchartButtonEl =\n",
       "        document.querySelector('#' + key + ' button');\n",
       "      quickchartButtonEl.disabled = true;  // To prevent multiple clicks.\n",
       "      quickchartButtonEl.classList.add('colab-df-spinner');\n",
       "      try {\n",
       "        const charts = await google.colab.kernel.invokeFunction(\n",
       "            'suggestCharts', [key], {});\n",
       "      } catch (error) {\n",
       "        console.error('Error during call to suggestCharts:', error);\n",
       "      }\n",
       "      quickchartButtonEl.classList.remove('colab-df-spinner');\n",
       "      quickchartButtonEl.classList.add('colab-df-quickchart-complete');\n",
       "    }\n",
       "    (() => {\n",
       "      let quickchartButtonEl =\n",
       "        document.querySelector('#df-c7cb111b-f8d5-4e30-a021-5d24fb8eefac button');\n",
       "      quickchartButtonEl.style.display =\n",
       "        google.colab.kernel.accessAllowed ? 'block' : 'none';\n",
       "    })();\n",
       "  </script>\n",
       "</div>\n",
       "\n",
       "    </div>\n",
       "  </div>\n"
      ],
      "text/plain": [
       "   tBodyAcc-mean()-X  tBodyAcc-mean()-Y  tBodyAcc-mean()-Z  tBodyAcc-std()-X  \\\n",
       "0           0.288508          -0.009196          -0.103362         -0.988986   \n",
       "1           0.265757          -0.016576          -0.098163         -0.989551   \n",
       "2           0.278709          -0.014511          -0.108717         -0.997720   \n",
       "3           0.289795          -0.035536          -0.150354         -0.231727   \n",
       "4           0.394807           0.034098           0.091229          0.088489   \n",
       "\n",
       "   tBodyAcc-std()-Y  tBodyAcc-std()-Z  tBodyAcc-mad()-X  tBodyAcc-mad()-Y  \\\n",
       "0         -0.962797         -0.967422         -0.989000         -0.962596   \n",
       "1         -0.994636         -0.987435         -0.990189         -0.993870   \n",
       "2         -0.981088         -0.994008         -0.997934         -0.982187   \n",
       "3         -0.006412         -0.338117         -0.273557          0.014245   \n",
       "4         -0.106636         -0.388502         -0.010469         -0.109680   \n",
       "\n",
       "   tBodyAcc-mad()-Z  tBodyAcc-max()-X  ...  fBodyBodyGyroJerkMag-skewness()  \\\n",
       "0         -0.965650         -0.929747  ...                        -0.487737   \n",
       "1         -0.987558         -0.937337  ...                        -0.237820   \n",
       "2         -0.995017         -0.942584  ...                        -0.535287   \n",
       "3         -0.347916          0.008288  ...                        -0.004012   \n",
       "4         -0.346372          0.584131  ...                        -0.157832   \n",
       "\n",
       "   fBodyBodyGyroJerkMag-kurtosis()  angle(tBodyAccMean,gravity)  \\\n",
       "0                        -0.816696                    -0.042494   \n",
       "1                        -0.693515                    -0.062899   \n",
       "2                        -0.829311                     0.000265   \n",
       "3                        -0.408956                    -0.255125   \n",
       "4                        -0.563437                    -0.044344   \n",
       "\n",
       "   angle(tBodyAccJerkMean),gravityMean)  angle(tBodyGyroMean,gravityMean)  \\\n",
       "0                             -0.044218                          0.307873   \n",
       "1                              0.388459                         -0.765014   \n",
       "2                             -0.525022                         -0.891875   \n",
       "3                              0.612804                          0.747381   \n",
       "4                             -0.845268                         -0.974650   \n",
       "\n",
       "   angle(tBodyGyroJerkMean,gravityMean)  angle(X,gravityMean)  \\\n",
       "0                              0.072790             -0.601120   \n",
       "1                              0.771524              0.345205   \n",
       "2                              0.021528             -0.833564   \n",
       "3                             -0.072944             -0.695819   \n",
       "4                             -0.887846             -0.705029   \n",
       "\n",
       "   angle(Y,gravityMean)  angle(Z,gravityMean)            Activity  \n",
       "0              0.331298              0.165163            STANDING  \n",
       "1             -0.769186             -0.147944              LAYING  \n",
       "2              0.202434             -0.032755            STANDING  \n",
       "3              0.287154              0.111388             WALKING  \n",
       "4              0.264952              0.137758  WALKING_DOWNSTAIRS  \n",
       "\n",
       "[5 rows x 562 columns]"
      ]
     },
     "execution_count": 5,
     "metadata": {},
     "output_type": "execute_result"
    }
   ],
   "source": [
    "data1 = pd.read_csv(path + '/data01_train.csv')\n",
    "data1.drop('subject', axis=1, inplace=True)\n",
    "data1.head()"
   ]
  },
  {
   "cell_type": "code",
   "execution_count": 6,
   "metadata": {
    "colab": {
     "base_uri": "https://localhost:8080/",
     "height": 273
    },
    "executionInfo": {
     "elapsed": 959,
     "status": "ok",
     "timestamp": 1729151803039,
     "user": {
      "displayName": "강해찬",
      "userId": "08180896618044652518"
     },
     "user_tz": -540
    },
    "id": "V8tUE_fyqfRC",
    "outputId": "8ff1d761-196b-47b4-d09d-3367130b58fb"
   },
   "outputs": [
    {
     "data": {
      "application/vnd.google.colaboratory.intrinsic+json": {
       "type": "dataframe",
       "variable_name": "data2"
      },
      "text/html": [
       "\n",
       "  <div id=\"df-cbee991a-a6a7-4505-9514-bc0c8c8f2e4d\" class=\"colab-df-container\">\n",
       "    <div>\n",
       "<style scoped>\n",
       "    .dataframe tbody tr th:only-of-type {\n",
       "        vertical-align: middle;\n",
       "    }\n",
       "\n",
       "    .dataframe tbody tr th {\n",
       "        vertical-align: top;\n",
       "    }\n",
       "\n",
       "    .dataframe thead th {\n",
       "        text-align: right;\n",
       "    }\n",
       "</style>\n",
       "<table border=\"1\" class=\"dataframe\">\n",
       "  <thead>\n",
       "    <tr style=\"text-align: right;\">\n",
       "      <th></th>\n",
       "      <th>tBodyAcc-mean()-X</th>\n",
       "      <th>tBodyAcc-mean()-Y</th>\n",
       "      <th>tBodyAcc-mean()-Z</th>\n",
       "      <th>tBodyAcc-std()-X</th>\n",
       "      <th>tBodyAcc-std()-Y</th>\n",
       "      <th>tBodyAcc-std()-Z</th>\n",
       "      <th>tBodyAcc-mad()-X</th>\n",
       "      <th>tBodyAcc-mad()-Y</th>\n",
       "      <th>tBodyAcc-mad()-Z</th>\n",
       "      <th>tBodyAcc-max()-X</th>\n",
       "      <th>...</th>\n",
       "      <th>fBodyBodyGyroJerkMag-skewness()</th>\n",
       "      <th>fBodyBodyGyroJerkMag-kurtosis()</th>\n",
       "      <th>angle(tBodyAccMean,gravity)</th>\n",
       "      <th>angle(tBodyAccJerkMean),gravityMean)</th>\n",
       "      <th>angle(tBodyGyroMean,gravityMean)</th>\n",
       "      <th>angle(tBodyGyroJerkMean,gravityMean)</th>\n",
       "      <th>angle(X,gravityMean)</th>\n",
       "      <th>angle(Y,gravityMean)</th>\n",
       "      <th>angle(Z,gravityMean)</th>\n",
       "      <th>Activity</th>\n",
       "    </tr>\n",
       "  </thead>\n",
       "  <tbody>\n",
       "    <tr>\n",
       "      <th>0</th>\n",
       "      <td>0.284379</td>\n",
       "      <td>-0.021981</td>\n",
       "      <td>-0.116683</td>\n",
       "      <td>-0.992490</td>\n",
       "      <td>-0.979640</td>\n",
       "      <td>-0.963321</td>\n",
       "      <td>-0.992563</td>\n",
       "      <td>-0.977304</td>\n",
       "      <td>-0.958142</td>\n",
       "      <td>-0.938850</td>\n",
       "      <td>...</td>\n",
       "      <td>-0.509523</td>\n",
       "      <td>-0.850065</td>\n",
       "      <td>-0.018043</td>\n",
       "      <td>0.092304</td>\n",
       "      <td>0.074220</td>\n",
       "      <td>-0.714534</td>\n",
       "      <td>-0.671943</td>\n",
       "      <td>-0.018351</td>\n",
       "      <td>-0.185733</td>\n",
       "      <td>SITTING</td>\n",
       "    </tr>\n",
       "    <tr>\n",
       "      <th>1</th>\n",
       "      <td>0.277440</td>\n",
       "      <td>-0.028086</td>\n",
       "      <td>-0.118412</td>\n",
       "      <td>-0.996620</td>\n",
       "      <td>-0.927676</td>\n",
       "      <td>-0.972294</td>\n",
       "      <td>-0.997346</td>\n",
       "      <td>-0.931405</td>\n",
       "      <td>-0.971788</td>\n",
       "      <td>-0.939837</td>\n",
       "      <td>...</td>\n",
       "      <td>-0.210792</td>\n",
       "      <td>-0.613367</td>\n",
       "      <td>-0.022456</td>\n",
       "      <td>-0.155414</td>\n",
       "      <td>0.247498</td>\n",
       "      <td>-0.112257</td>\n",
       "      <td>-0.826816</td>\n",
       "      <td>0.184489</td>\n",
       "      <td>-0.068699</td>\n",
       "      <td>STANDING</td>\n",
       "    </tr>\n",
       "    <tr>\n",
       "      <th>2</th>\n",
       "      <td>0.305833</td>\n",
       "      <td>-0.041023</td>\n",
       "      <td>-0.087303</td>\n",
       "      <td>0.006880</td>\n",
       "      <td>0.182800</td>\n",
       "      <td>-0.237984</td>\n",
       "      <td>0.005642</td>\n",
       "      <td>0.028616</td>\n",
       "      <td>-0.236474</td>\n",
       "      <td>0.016311</td>\n",
       "      <td>...</td>\n",
       "      <td>0.579587</td>\n",
       "      <td>0.394388</td>\n",
       "      <td>-0.362616</td>\n",
       "      <td>0.171069</td>\n",
       "      <td>0.576349</td>\n",
       "      <td>-0.688314</td>\n",
       "      <td>-0.743234</td>\n",
       "      <td>0.272186</td>\n",
       "      <td>0.053101</td>\n",
       "      <td>WALKING</td>\n",
       "    </tr>\n",
       "    <tr>\n",
       "      <th>3</th>\n",
       "      <td>0.276053</td>\n",
       "      <td>-0.016487</td>\n",
       "      <td>-0.108381</td>\n",
       "      <td>-0.995379</td>\n",
       "      <td>-0.983978</td>\n",
       "      <td>-0.975854</td>\n",
       "      <td>-0.995877</td>\n",
       "      <td>-0.985280</td>\n",
       "      <td>-0.974907</td>\n",
       "      <td>-0.941425</td>\n",
       "      <td>...</td>\n",
       "      <td>-0.566291</td>\n",
       "      <td>-0.841455</td>\n",
       "      <td>0.289548</td>\n",
       "      <td>0.079801</td>\n",
       "      <td>-0.020033</td>\n",
       "      <td>0.291898</td>\n",
       "      <td>-0.639435</td>\n",
       "      <td>-0.111998</td>\n",
       "      <td>-0.123298</td>\n",
       "      <td>SITTING</td>\n",
       "    </tr>\n",
       "    <tr>\n",
       "      <th>4</th>\n",
       "      <td>0.271998</td>\n",
       "      <td>0.016904</td>\n",
       "      <td>-0.078856</td>\n",
       "      <td>-0.973468</td>\n",
       "      <td>-0.702462</td>\n",
       "      <td>-0.869450</td>\n",
       "      <td>-0.979810</td>\n",
       "      <td>-0.711601</td>\n",
       "      <td>-0.856807</td>\n",
       "      <td>-0.920760</td>\n",
       "      <td>...</td>\n",
       "      <td>0.447577</td>\n",
       "      <td>0.214219</td>\n",
       "      <td>0.010111</td>\n",
       "      <td>0.114179</td>\n",
       "      <td>-0.830776</td>\n",
       "      <td>-0.325098</td>\n",
       "      <td>-0.840817</td>\n",
       "      <td>0.116237</td>\n",
       "      <td>-0.096615</td>\n",
       "      <td>STANDING</td>\n",
       "    </tr>\n",
       "  </tbody>\n",
       "</table>\n",
       "<p>5 rows × 562 columns</p>\n",
       "</div>\n",
       "    <div class=\"colab-df-buttons\">\n",
       "\n",
       "  <div class=\"colab-df-container\">\n",
       "    <button class=\"colab-df-convert\" onclick=\"convertToInteractive('df-cbee991a-a6a7-4505-9514-bc0c8c8f2e4d')\"\n",
       "            title=\"Convert this dataframe to an interactive table.\"\n",
       "            style=\"display:none;\">\n",
       "\n",
       "  <svg xmlns=\"http://www.w3.org/2000/svg\" height=\"24px\" viewBox=\"0 -960 960 960\">\n",
       "    <path d=\"M120-120v-720h720v720H120Zm60-500h600v-160H180v160Zm220 220h160v-160H400v160Zm0 220h160v-160H400v160ZM180-400h160v-160H180v160Zm440 0h160v-160H620v160ZM180-180h160v-160H180v160Zm440 0h160v-160H620v160Z\"/>\n",
       "  </svg>\n",
       "    </button>\n",
       "\n",
       "  <style>\n",
       "    .colab-df-container {\n",
       "      display:flex;\n",
       "      gap: 12px;\n",
       "    }\n",
       "\n",
       "    .colab-df-convert {\n",
       "      background-color: #E8F0FE;\n",
       "      border: none;\n",
       "      border-radius: 50%;\n",
       "      cursor: pointer;\n",
       "      display: none;\n",
       "      fill: #1967D2;\n",
       "      height: 32px;\n",
       "      padding: 0 0 0 0;\n",
       "      width: 32px;\n",
       "    }\n",
       "\n",
       "    .colab-df-convert:hover {\n",
       "      background-color: #E2EBFA;\n",
       "      box-shadow: 0px 1px 2px rgba(60, 64, 67, 0.3), 0px 1px 3px 1px rgba(60, 64, 67, 0.15);\n",
       "      fill: #174EA6;\n",
       "    }\n",
       "\n",
       "    .colab-df-buttons div {\n",
       "      margin-bottom: 4px;\n",
       "    }\n",
       "\n",
       "    [theme=dark] .colab-df-convert {\n",
       "      background-color: #3B4455;\n",
       "      fill: #D2E3FC;\n",
       "    }\n",
       "\n",
       "    [theme=dark] .colab-df-convert:hover {\n",
       "      background-color: #434B5C;\n",
       "      box-shadow: 0px 1px 3px 1px rgba(0, 0, 0, 0.15);\n",
       "      filter: drop-shadow(0px 1px 2px rgba(0, 0, 0, 0.3));\n",
       "      fill: #FFFFFF;\n",
       "    }\n",
       "  </style>\n",
       "\n",
       "    <script>\n",
       "      const buttonEl =\n",
       "        document.querySelector('#df-cbee991a-a6a7-4505-9514-bc0c8c8f2e4d button.colab-df-convert');\n",
       "      buttonEl.style.display =\n",
       "        google.colab.kernel.accessAllowed ? 'block' : 'none';\n",
       "\n",
       "      async function convertToInteractive(key) {\n",
       "        const element = document.querySelector('#df-cbee991a-a6a7-4505-9514-bc0c8c8f2e4d');\n",
       "        const dataTable =\n",
       "          await google.colab.kernel.invokeFunction('convertToInteractive',\n",
       "                                                    [key], {});\n",
       "        if (!dataTable) return;\n",
       "\n",
       "        const docLinkHtml = 'Like what you see? Visit the ' +\n",
       "          '<a target=\"_blank\" href=https://colab.research.google.com/notebooks/data_table.ipynb>data table notebook</a>'\n",
       "          + ' to learn more about interactive tables.';\n",
       "        element.innerHTML = '';\n",
       "        dataTable['output_type'] = 'display_data';\n",
       "        await google.colab.output.renderOutput(dataTable, element);\n",
       "        const docLink = document.createElement('div');\n",
       "        docLink.innerHTML = docLinkHtml;\n",
       "        element.appendChild(docLink);\n",
       "      }\n",
       "    </script>\n",
       "  </div>\n",
       "\n",
       "\n",
       "<div id=\"df-1e4526db-beb9-45a4-a5e9-64ceba004d28\">\n",
       "  <button class=\"colab-df-quickchart\" onclick=\"quickchart('df-1e4526db-beb9-45a4-a5e9-64ceba004d28')\"\n",
       "            title=\"Suggest charts\"\n",
       "            style=\"display:none;\">\n",
       "\n",
       "<svg xmlns=\"http://www.w3.org/2000/svg\" height=\"24px\"viewBox=\"0 0 24 24\"\n",
       "     width=\"24px\">\n",
       "    <g>\n",
       "        <path d=\"M19 3H5c-1.1 0-2 .9-2 2v14c0 1.1.9 2 2 2h14c1.1 0 2-.9 2-2V5c0-1.1-.9-2-2-2zM9 17H7v-7h2v7zm4 0h-2V7h2v10zm4 0h-2v-4h2v4z\"/>\n",
       "    </g>\n",
       "</svg>\n",
       "  </button>\n",
       "\n",
       "<style>\n",
       "  .colab-df-quickchart {\n",
       "      --bg-color: #E8F0FE;\n",
       "      --fill-color: #1967D2;\n",
       "      --hover-bg-color: #E2EBFA;\n",
       "      --hover-fill-color: #174EA6;\n",
       "      --disabled-fill-color: #AAA;\n",
       "      --disabled-bg-color: #DDD;\n",
       "  }\n",
       "\n",
       "  [theme=dark] .colab-df-quickchart {\n",
       "      --bg-color: #3B4455;\n",
       "      --fill-color: #D2E3FC;\n",
       "      --hover-bg-color: #434B5C;\n",
       "      --hover-fill-color: #FFFFFF;\n",
       "      --disabled-bg-color: #3B4455;\n",
       "      --disabled-fill-color: #666;\n",
       "  }\n",
       "\n",
       "  .colab-df-quickchart {\n",
       "    background-color: var(--bg-color);\n",
       "    border: none;\n",
       "    border-radius: 50%;\n",
       "    cursor: pointer;\n",
       "    display: none;\n",
       "    fill: var(--fill-color);\n",
       "    height: 32px;\n",
       "    padding: 0;\n",
       "    width: 32px;\n",
       "  }\n",
       "\n",
       "  .colab-df-quickchart:hover {\n",
       "    background-color: var(--hover-bg-color);\n",
       "    box-shadow: 0 1px 2px rgba(60, 64, 67, 0.3), 0 1px 3px 1px rgba(60, 64, 67, 0.15);\n",
       "    fill: var(--button-hover-fill-color);\n",
       "  }\n",
       "\n",
       "  .colab-df-quickchart-complete:disabled,\n",
       "  .colab-df-quickchart-complete:disabled:hover {\n",
       "    background-color: var(--disabled-bg-color);\n",
       "    fill: var(--disabled-fill-color);\n",
       "    box-shadow: none;\n",
       "  }\n",
       "\n",
       "  .colab-df-spinner {\n",
       "    border: 2px solid var(--fill-color);\n",
       "    border-color: transparent;\n",
       "    border-bottom-color: var(--fill-color);\n",
       "    animation:\n",
       "      spin 1s steps(1) infinite;\n",
       "  }\n",
       "\n",
       "  @keyframes spin {\n",
       "    0% {\n",
       "      border-color: transparent;\n",
       "      border-bottom-color: var(--fill-color);\n",
       "      border-left-color: var(--fill-color);\n",
       "    }\n",
       "    20% {\n",
       "      border-color: transparent;\n",
       "      border-left-color: var(--fill-color);\n",
       "      border-top-color: var(--fill-color);\n",
       "    }\n",
       "    30% {\n",
       "      border-color: transparent;\n",
       "      border-left-color: var(--fill-color);\n",
       "      border-top-color: var(--fill-color);\n",
       "      border-right-color: var(--fill-color);\n",
       "    }\n",
       "    40% {\n",
       "      border-color: transparent;\n",
       "      border-right-color: var(--fill-color);\n",
       "      border-top-color: var(--fill-color);\n",
       "    }\n",
       "    60% {\n",
       "      border-color: transparent;\n",
       "      border-right-color: var(--fill-color);\n",
       "    }\n",
       "    80% {\n",
       "      border-color: transparent;\n",
       "      border-right-color: var(--fill-color);\n",
       "      border-bottom-color: var(--fill-color);\n",
       "    }\n",
       "    90% {\n",
       "      border-color: transparent;\n",
       "      border-bottom-color: var(--fill-color);\n",
       "    }\n",
       "  }\n",
       "</style>\n",
       "\n",
       "  <script>\n",
       "    async function quickchart(key) {\n",
       "      const quickchartButtonEl =\n",
       "        document.querySelector('#' + key + ' button');\n",
       "      quickchartButtonEl.disabled = true;  // To prevent multiple clicks.\n",
       "      quickchartButtonEl.classList.add('colab-df-spinner');\n",
       "      try {\n",
       "        const charts = await google.colab.kernel.invokeFunction(\n",
       "            'suggestCharts', [key], {});\n",
       "      } catch (error) {\n",
       "        console.error('Error during call to suggestCharts:', error);\n",
       "      }\n",
       "      quickchartButtonEl.classList.remove('colab-df-spinner');\n",
       "      quickchartButtonEl.classList.add('colab-df-quickchart-complete');\n",
       "    }\n",
       "    (() => {\n",
       "      let quickchartButtonEl =\n",
       "        document.querySelector('#df-1e4526db-beb9-45a4-a5e9-64ceba004d28 button');\n",
       "      quickchartButtonEl.style.display =\n",
       "        google.colab.kernel.accessAllowed ? 'block' : 'none';\n",
       "    })();\n",
       "  </script>\n",
       "</div>\n",
       "\n",
       "    </div>\n",
       "  </div>\n"
      ],
      "text/plain": [
       "   tBodyAcc-mean()-X  tBodyAcc-mean()-Y  tBodyAcc-mean()-Z  tBodyAcc-std()-X  \\\n",
       "0           0.284379          -0.021981          -0.116683         -0.992490   \n",
       "1           0.277440          -0.028086          -0.118412         -0.996620   \n",
       "2           0.305833          -0.041023          -0.087303          0.006880   \n",
       "3           0.276053          -0.016487          -0.108381         -0.995379   \n",
       "4           0.271998           0.016904          -0.078856         -0.973468   \n",
       "\n",
       "   tBodyAcc-std()-Y  tBodyAcc-std()-Z  tBodyAcc-mad()-X  tBodyAcc-mad()-Y  \\\n",
       "0         -0.979640         -0.963321         -0.992563         -0.977304   \n",
       "1         -0.927676         -0.972294         -0.997346         -0.931405   \n",
       "2          0.182800         -0.237984          0.005642          0.028616   \n",
       "3         -0.983978         -0.975854         -0.995877         -0.985280   \n",
       "4         -0.702462         -0.869450         -0.979810         -0.711601   \n",
       "\n",
       "   tBodyAcc-mad()-Z  tBodyAcc-max()-X  ...  fBodyBodyGyroJerkMag-skewness()  \\\n",
       "0         -0.958142         -0.938850  ...                        -0.509523   \n",
       "1         -0.971788         -0.939837  ...                        -0.210792   \n",
       "2         -0.236474          0.016311  ...                         0.579587   \n",
       "3         -0.974907         -0.941425  ...                        -0.566291   \n",
       "4         -0.856807         -0.920760  ...                         0.447577   \n",
       "\n",
       "   fBodyBodyGyroJerkMag-kurtosis()  angle(tBodyAccMean,gravity)  \\\n",
       "0                        -0.850065                    -0.018043   \n",
       "1                        -0.613367                    -0.022456   \n",
       "2                         0.394388                    -0.362616   \n",
       "3                        -0.841455                     0.289548   \n",
       "4                         0.214219                     0.010111   \n",
       "\n",
       "   angle(tBodyAccJerkMean),gravityMean)  angle(tBodyGyroMean,gravityMean)  \\\n",
       "0                              0.092304                          0.074220   \n",
       "1                             -0.155414                          0.247498   \n",
       "2                              0.171069                          0.576349   \n",
       "3                              0.079801                         -0.020033   \n",
       "4                              0.114179                         -0.830776   \n",
       "\n",
       "   angle(tBodyGyroJerkMean,gravityMean)  angle(X,gravityMean)  \\\n",
       "0                             -0.714534             -0.671943   \n",
       "1                             -0.112257             -0.826816   \n",
       "2                             -0.688314             -0.743234   \n",
       "3                              0.291898             -0.639435   \n",
       "4                             -0.325098             -0.840817   \n",
       "\n",
       "   angle(Y,gravityMean)  angle(Z,gravityMean)  Activity  \n",
       "0             -0.018351             -0.185733   SITTING  \n",
       "1              0.184489             -0.068699  STANDING  \n",
       "2              0.272186              0.053101   WALKING  \n",
       "3             -0.111998             -0.123298   SITTING  \n",
       "4              0.116237             -0.096615  STANDING  \n",
       "\n",
       "[5 rows x 562 columns]"
      ]
     },
     "execution_count": 6,
     "metadata": {},
     "output_type": "execute_result"
    }
   ],
   "source": [
    "data2 = pd.read_csv(path + '/data01_test.csv')\n",
    "data2.drop('subject', axis=1, inplace=True)\n",
    "data2.head()"
   ]
  },
  {
   "cell_type": "code",
   "execution_count": 7,
   "metadata": {
    "colab": {
     "base_uri": "https://localhost:8080/",
     "height": 206
    },
    "executionInfo": {
     "elapsed": 58,
     "status": "ok",
     "timestamp": 1729151803044,
     "user": {
      "displayName": "강해찬",
      "userId": "08180896618044652518"
     },
     "user_tz": -540
    },
    "id": "FcUbOi_-qfRC",
    "outputId": "77242a49-129c-46b2-c3bc-8d8fa836fbf6"
   },
   "outputs": [
    {
     "data": {
      "application/vnd.google.colaboratory.intrinsic+json": {
       "summary": "{\n  \"name\": \"data3\",\n  \"rows\": 561,\n  \"fields\": [\n    {\n      \"column\": \"sensor\",\n      \"properties\": {\n        \"dtype\": \"category\",\n        \"num_unique_values\": 18,\n        \"samples\": [\n          \"tBodyAcc\",\n          \"tGravityAcc\",\n          \"tBodyGyroMag\"\n        ],\n        \"semantic_type\": \"\",\n        \"description\": \"\"\n      }\n    },\n    {\n      \"column\": \"agg\",\n      \"properties\": {\n        \"dtype\": \"category\",\n        \"num_unique_values\": 27,\n        \"samples\": [\n          \"entropy()\",\n          \"arCoeff()3\",\n          \"arCoeff()\"\n        ],\n        \"semantic_type\": \"\",\n        \"description\": \"\"\n      }\n    },\n    {\n      \"column\": \"axis\",\n      \"properties\": {\n        \"dtype\": \"category\",\n        \"num_unique_values\": 62,\n        \"samples\": [\n          \"33,40.2\",\n          \"33,48.2\",\n          \"X\"\n        ],\n        \"semantic_type\": \"\",\n        \"description\": \"\"\n      }\n    },\n    {\n      \"column\": \"feature_name\",\n      \"properties\": {\n        \"dtype\": \"string\",\n        \"num_unique_values\": 561,\n        \"samples\": [\n          \"fBodyAccMag-skewness()\",\n          \"fBodyAcc-bandsEnergy()-1,24.2\",\n          \"tBodyGyroJerk-energy()-Y\"\n        ],\n        \"semantic_type\": \"\",\n        \"description\": \"\"\n      }\n    }\n  ]\n}",
       "type": "dataframe",
       "variable_name": "data3"
      },
      "text/html": [
       "\n",
       "  <div id=\"df-e0b09acf-da29-4203-96a8-4c65ecbff1d3\" class=\"colab-df-container\">\n",
       "    <div>\n",
       "<style scoped>\n",
       "    .dataframe tbody tr th:only-of-type {\n",
       "        vertical-align: middle;\n",
       "    }\n",
       "\n",
       "    .dataframe tbody tr th {\n",
       "        vertical-align: top;\n",
       "    }\n",
       "\n",
       "    .dataframe thead th {\n",
       "        text-align: right;\n",
       "    }\n",
       "</style>\n",
       "<table border=\"1\" class=\"dataframe\">\n",
       "  <thead>\n",
       "    <tr style=\"text-align: right;\">\n",
       "      <th></th>\n",
       "      <th>sensor</th>\n",
       "      <th>agg</th>\n",
       "      <th>axis</th>\n",
       "      <th>feature_name</th>\n",
       "    </tr>\n",
       "  </thead>\n",
       "  <tbody>\n",
       "    <tr>\n",
       "      <th>0</th>\n",
       "      <td>tBodyAcc</td>\n",
       "      <td>mean()</td>\n",
       "      <td>X</td>\n",
       "      <td>tBodyAcc-mean()-X</td>\n",
       "    </tr>\n",
       "    <tr>\n",
       "      <th>1</th>\n",
       "      <td>tBodyAcc</td>\n",
       "      <td>mean()</td>\n",
       "      <td>Y</td>\n",
       "      <td>tBodyAcc-mean()-Y</td>\n",
       "    </tr>\n",
       "    <tr>\n",
       "      <th>2</th>\n",
       "      <td>tBodyAcc</td>\n",
       "      <td>mean()</td>\n",
       "      <td>Z</td>\n",
       "      <td>tBodyAcc-mean()-Z</td>\n",
       "    </tr>\n",
       "    <tr>\n",
       "      <th>3</th>\n",
       "      <td>tBodyAcc</td>\n",
       "      <td>std()</td>\n",
       "      <td>X</td>\n",
       "      <td>tBodyAcc-std()-X</td>\n",
       "    </tr>\n",
       "    <tr>\n",
       "      <th>4</th>\n",
       "      <td>tBodyAcc</td>\n",
       "      <td>std()</td>\n",
       "      <td>Y</td>\n",
       "      <td>tBodyAcc-std()-Y</td>\n",
       "    </tr>\n",
       "  </tbody>\n",
       "</table>\n",
       "</div>\n",
       "    <div class=\"colab-df-buttons\">\n",
       "\n",
       "  <div class=\"colab-df-container\">\n",
       "    <button class=\"colab-df-convert\" onclick=\"convertToInteractive('df-e0b09acf-da29-4203-96a8-4c65ecbff1d3')\"\n",
       "            title=\"Convert this dataframe to an interactive table.\"\n",
       "            style=\"display:none;\">\n",
       "\n",
       "  <svg xmlns=\"http://www.w3.org/2000/svg\" height=\"24px\" viewBox=\"0 -960 960 960\">\n",
       "    <path d=\"M120-120v-720h720v720H120Zm60-500h600v-160H180v160Zm220 220h160v-160H400v160Zm0 220h160v-160H400v160ZM180-400h160v-160H180v160Zm440 0h160v-160H620v160ZM180-180h160v-160H180v160Zm440 0h160v-160H620v160Z\"/>\n",
       "  </svg>\n",
       "    </button>\n",
       "\n",
       "  <style>\n",
       "    .colab-df-container {\n",
       "      display:flex;\n",
       "      gap: 12px;\n",
       "    }\n",
       "\n",
       "    .colab-df-convert {\n",
       "      background-color: #E8F0FE;\n",
       "      border: none;\n",
       "      border-radius: 50%;\n",
       "      cursor: pointer;\n",
       "      display: none;\n",
       "      fill: #1967D2;\n",
       "      height: 32px;\n",
       "      padding: 0 0 0 0;\n",
       "      width: 32px;\n",
       "    }\n",
       "\n",
       "    .colab-df-convert:hover {\n",
       "      background-color: #E2EBFA;\n",
       "      box-shadow: 0px 1px 2px rgba(60, 64, 67, 0.3), 0px 1px 3px 1px rgba(60, 64, 67, 0.15);\n",
       "      fill: #174EA6;\n",
       "    }\n",
       "\n",
       "    .colab-df-buttons div {\n",
       "      margin-bottom: 4px;\n",
       "    }\n",
       "\n",
       "    [theme=dark] .colab-df-convert {\n",
       "      background-color: #3B4455;\n",
       "      fill: #D2E3FC;\n",
       "    }\n",
       "\n",
       "    [theme=dark] .colab-df-convert:hover {\n",
       "      background-color: #434B5C;\n",
       "      box-shadow: 0px 1px 3px 1px rgba(0, 0, 0, 0.15);\n",
       "      filter: drop-shadow(0px 1px 2px rgba(0, 0, 0, 0.3));\n",
       "      fill: #FFFFFF;\n",
       "    }\n",
       "  </style>\n",
       "\n",
       "    <script>\n",
       "      const buttonEl =\n",
       "        document.querySelector('#df-e0b09acf-da29-4203-96a8-4c65ecbff1d3 button.colab-df-convert');\n",
       "      buttonEl.style.display =\n",
       "        google.colab.kernel.accessAllowed ? 'block' : 'none';\n",
       "\n",
       "      async function convertToInteractive(key) {\n",
       "        const element = document.querySelector('#df-e0b09acf-da29-4203-96a8-4c65ecbff1d3');\n",
       "        const dataTable =\n",
       "          await google.colab.kernel.invokeFunction('convertToInteractive',\n",
       "                                                    [key], {});\n",
       "        if (!dataTable) return;\n",
       "\n",
       "        const docLinkHtml = 'Like what you see? Visit the ' +\n",
       "          '<a target=\"_blank\" href=https://colab.research.google.com/notebooks/data_table.ipynb>data table notebook</a>'\n",
       "          + ' to learn more about interactive tables.';\n",
       "        element.innerHTML = '';\n",
       "        dataTable['output_type'] = 'display_data';\n",
       "        await google.colab.output.renderOutput(dataTable, element);\n",
       "        const docLink = document.createElement('div');\n",
       "        docLink.innerHTML = docLinkHtml;\n",
       "        element.appendChild(docLink);\n",
       "      }\n",
       "    </script>\n",
       "  </div>\n",
       "\n",
       "\n",
       "<div id=\"df-9721d9ba-c823-4e51-9a66-7f634fd1f43f\">\n",
       "  <button class=\"colab-df-quickchart\" onclick=\"quickchart('df-9721d9ba-c823-4e51-9a66-7f634fd1f43f')\"\n",
       "            title=\"Suggest charts\"\n",
       "            style=\"display:none;\">\n",
       "\n",
       "<svg xmlns=\"http://www.w3.org/2000/svg\" height=\"24px\"viewBox=\"0 0 24 24\"\n",
       "     width=\"24px\">\n",
       "    <g>\n",
       "        <path d=\"M19 3H5c-1.1 0-2 .9-2 2v14c0 1.1.9 2 2 2h14c1.1 0 2-.9 2-2V5c0-1.1-.9-2-2-2zM9 17H7v-7h2v7zm4 0h-2V7h2v10zm4 0h-2v-4h2v4z\"/>\n",
       "    </g>\n",
       "</svg>\n",
       "  </button>\n",
       "\n",
       "<style>\n",
       "  .colab-df-quickchart {\n",
       "      --bg-color: #E8F0FE;\n",
       "      --fill-color: #1967D2;\n",
       "      --hover-bg-color: #E2EBFA;\n",
       "      --hover-fill-color: #174EA6;\n",
       "      --disabled-fill-color: #AAA;\n",
       "      --disabled-bg-color: #DDD;\n",
       "  }\n",
       "\n",
       "  [theme=dark] .colab-df-quickchart {\n",
       "      --bg-color: #3B4455;\n",
       "      --fill-color: #D2E3FC;\n",
       "      --hover-bg-color: #434B5C;\n",
       "      --hover-fill-color: #FFFFFF;\n",
       "      --disabled-bg-color: #3B4455;\n",
       "      --disabled-fill-color: #666;\n",
       "  }\n",
       "\n",
       "  .colab-df-quickchart {\n",
       "    background-color: var(--bg-color);\n",
       "    border: none;\n",
       "    border-radius: 50%;\n",
       "    cursor: pointer;\n",
       "    display: none;\n",
       "    fill: var(--fill-color);\n",
       "    height: 32px;\n",
       "    padding: 0;\n",
       "    width: 32px;\n",
       "  }\n",
       "\n",
       "  .colab-df-quickchart:hover {\n",
       "    background-color: var(--hover-bg-color);\n",
       "    box-shadow: 0 1px 2px rgba(60, 64, 67, 0.3), 0 1px 3px 1px rgba(60, 64, 67, 0.15);\n",
       "    fill: var(--button-hover-fill-color);\n",
       "  }\n",
       "\n",
       "  .colab-df-quickchart-complete:disabled,\n",
       "  .colab-df-quickchart-complete:disabled:hover {\n",
       "    background-color: var(--disabled-bg-color);\n",
       "    fill: var(--disabled-fill-color);\n",
       "    box-shadow: none;\n",
       "  }\n",
       "\n",
       "  .colab-df-spinner {\n",
       "    border: 2px solid var(--fill-color);\n",
       "    border-color: transparent;\n",
       "    border-bottom-color: var(--fill-color);\n",
       "    animation:\n",
       "      spin 1s steps(1) infinite;\n",
       "  }\n",
       "\n",
       "  @keyframes spin {\n",
       "    0% {\n",
       "      border-color: transparent;\n",
       "      border-bottom-color: var(--fill-color);\n",
       "      border-left-color: var(--fill-color);\n",
       "    }\n",
       "    20% {\n",
       "      border-color: transparent;\n",
       "      border-left-color: var(--fill-color);\n",
       "      border-top-color: var(--fill-color);\n",
       "    }\n",
       "    30% {\n",
       "      border-color: transparent;\n",
       "      border-left-color: var(--fill-color);\n",
       "      border-top-color: var(--fill-color);\n",
       "      border-right-color: var(--fill-color);\n",
       "    }\n",
       "    40% {\n",
       "      border-color: transparent;\n",
       "      border-right-color: var(--fill-color);\n",
       "      border-top-color: var(--fill-color);\n",
       "    }\n",
       "    60% {\n",
       "      border-color: transparent;\n",
       "      border-right-color: var(--fill-color);\n",
       "    }\n",
       "    80% {\n",
       "      border-color: transparent;\n",
       "      border-right-color: var(--fill-color);\n",
       "      border-bottom-color: var(--fill-color);\n",
       "    }\n",
       "    90% {\n",
       "      border-color: transparent;\n",
       "      border-bottom-color: var(--fill-color);\n",
       "    }\n",
       "  }\n",
       "</style>\n",
       "\n",
       "  <script>\n",
       "    async function quickchart(key) {\n",
       "      const quickchartButtonEl =\n",
       "        document.querySelector('#' + key + ' button');\n",
       "      quickchartButtonEl.disabled = true;  // To prevent multiple clicks.\n",
       "      quickchartButtonEl.classList.add('colab-df-spinner');\n",
       "      try {\n",
       "        const charts = await google.colab.kernel.invokeFunction(\n",
       "            'suggestCharts', [key], {});\n",
       "      } catch (error) {\n",
       "        console.error('Error during call to suggestCharts:', error);\n",
       "      }\n",
       "      quickchartButtonEl.classList.remove('colab-df-spinner');\n",
       "      quickchartButtonEl.classList.add('colab-df-quickchart-complete');\n",
       "    }\n",
       "    (() => {\n",
       "      let quickchartButtonEl =\n",
       "        document.querySelector('#df-9721d9ba-c823-4e51-9a66-7f634fd1f43f button');\n",
       "      quickchartButtonEl.style.display =\n",
       "        google.colab.kernel.accessAllowed ? 'block' : 'none';\n",
       "    })();\n",
       "  </script>\n",
       "</div>\n",
       "\n",
       "    </div>\n",
       "  </div>\n"
      ],
      "text/plain": [
       "     sensor     agg axis       feature_name\n",
       "0  tBodyAcc  mean()    X  tBodyAcc-mean()-X\n",
       "1  tBodyAcc  mean()    Y  tBodyAcc-mean()-Y\n",
       "2  tBodyAcc  mean()    Z  tBodyAcc-mean()-Z\n",
       "3  tBodyAcc   std()    X   tBodyAcc-std()-X\n",
       "4  tBodyAcc   std()    Y   tBodyAcc-std()-Y"
      ]
     },
     "execution_count": 7,
     "metadata": {},
     "output_type": "execute_result"
    }
   ],
   "source": [
    "data3 = pd.read_csv(path + '/features.csv')\n",
    "data3.head()"
   ]
  },
  {
   "cell_type": "markdown",
   "metadata": {
    "id": "aI7qJqz3pr3m"
   },
   "source": [
    "#### 2) 기본 정보 조회"
   ]
  },
  {
   "cell_type": "code",
   "execution_count": 8,
   "metadata": {
    "colab": {
     "base_uri": "https://localhost:8080/"
    },
    "executionInfo": {
     "elapsed": 49,
     "status": "ok",
     "timestamp": 1729151803045,
     "user": {
      "displayName": "강해찬",
      "userId": "08180896618044652518"
     },
     "user_tz": -540
    },
    "id": "yFVSAGNhpr3m",
    "outputId": "d6a6934d-3216-4fac-f19a-d9110786aedf"
   },
   "outputs": [
    {
     "name": "stdout",
     "output_type": "stream",
     "text": [
      "train :  (5881, 562)\n",
      "test :  (1471, 562)\n",
      "features :  (561, 4)\n"
     ]
    }
   ],
   "source": [
    "print('train : ', data1.shape)\n",
    "print('test : ', data2.shape)\n",
    "print('features : ', data3.shape)"
   ]
  },
  {
   "cell_type": "code",
   "execution_count": 9,
   "metadata": {
    "colab": {
     "base_uri": "https://localhost:8080/"
    },
    "executionInfo": {
     "elapsed": 419,
     "status": "ok",
     "timestamp": 1729151803423,
     "user": {
      "displayName": "강해찬",
      "userId": "08180896618044652518"
     },
     "user_tz": -540
    },
    "id": "xJnnr8K-pr3m",
    "outputId": "541d0f17-8101-4a97-e9d2-1dd62fab5e78"
   },
   "outputs": [
    {
     "name": "stdout",
     "output_type": "stream",
     "text": [
      "tBodyAcc-mean()-X                       0\n",
      "tBodyAcc-mean()-Y                       0\n",
      "tBodyAcc-mean()-Z                       0\n",
      "tBodyAcc-std()-X                        0\n",
      "tBodyAcc-std()-Y                        0\n",
      "                                       ..\n",
      "angle(tBodyGyroJerkMean,gravityMean)    0\n",
      "angle(X,gravityMean)                    0\n",
      "angle(Y,gravityMean)                    0\n",
      "angle(Z,gravityMean)                    0\n",
      "Activity                                0\n",
      "Length: 562, dtype: int64\n",
      "********************\n",
      "tBodyAcc-mean()-X                       0\n",
      "tBodyAcc-mean()-Y                       0\n",
      "tBodyAcc-mean()-Z                       0\n",
      "tBodyAcc-std()-X                        0\n",
      "tBodyAcc-std()-Y                        0\n",
      "                                       ..\n",
      "angle(tBodyGyroJerkMean,gravityMean)    0\n",
      "angle(X,gravityMean)                    0\n",
      "angle(Y,gravityMean)                    0\n",
      "angle(Z,gravityMean)                    0\n",
      "Activity                                0\n",
      "Length: 562, dtype: int64\n"
     ]
    }
   ],
   "source": [
    "print(data1.isna().sum())\n",
    "print('*' * 20)\n",
    "print(data2.isna().sum())"
   ]
  },
  {
   "cell_type": "markdown",
   "metadata": {
    "id": "L4vnMOyNzt3x"
   },
   "source": [
    "## **2. 데이터 전처리**\n",
    "\n",
    "* 가변수화, 데이터 분할, NaN 확인 및 조치, 스케일링 등 필요한 전처리를 수행한다.\n"
   ]
  },
  {
   "cell_type": "code",
   "execution_count": 10,
   "metadata": {
    "executionInfo": {
     "elapsed": 28,
     "status": "ok",
     "timestamp": 1729151803425,
     "user": {
      "displayName": "강해찬",
      "userId": "08180896618044652518"
     },
     "user_tz": -540
    },
    "id": "sxwtU0HtNDgR"
   },
   "outputs": [],
   "source": [
    "def model_pipeline(data, model, callbacks=None, cnt = 5):\n",
    "  target = 'Activity'\n",
    "\n",
    "  x = data.drop(target, axis=1)\n",
    "  y = data.loc[:, target]\n",
    "\n",
    "  # x 스케일링\n",
    "  scaler = MinMaxScaler()\n",
    "  x = scaler.fit_transform(x)\n",
    "\n",
    "  # y 전처리\n",
    "  encoder = LabelEncoder()\n",
    "  y_encoded = encoder.fit_transform(y)\n",
    "\n",
    "  # 데이터 분할\n",
    "  x_train, x_val, y_train, y_val = train_test_split(x, y_encoded, test_size=.2, random_state = 20)\n",
    "\n",
    "  model_result = []\n",
    "\n",
    "  total_score = 0\n",
    "\n",
    "  # 모델 실행\n",
    "  for _ in range(cnt):\n",
    "    model.compile(optimizer=Adam(learning_rate=0.01), loss= 'sparse_categorical_crossentropy')\n",
    "    history = model.fit(x_train, y_train, epochs = 50, validation_split=0.2, verbose = 0, callbacks=callbacks).history\n",
    "\n",
    "    pred1 = model.predict(x_val)\n",
    "    pred_1 = pred1.argmax(axis=1)\n",
    "    total_score += accuracy_score(y_val, pred_1)\n",
    "\n",
    "\n",
    "  dl_history_plot(history)\n",
    "  print(classification_report(y_val, pred_1))\n",
    "\n",
    "  return total_score / cnt"
   ]
  },
  {
   "cell_type": "markdown",
   "metadata": {
    "id": "ZU0zmVhPNt_n"
   },
   "source": []
  },
  {
   "cell_type": "markdown",
   "metadata": {
    "id": "I_9sGxvxzt3y"
   },
   "source": [
    "### (1) 데이터 분할1 : x, y"
   ]
  },
  {
   "cell_type": "markdown",
   "metadata": {
    "id": "1TqlYFz-zt3z"
   },
   "source": [
    "* 세부 요구사항\n",
    "    - x, y로 분할합니다."
   ]
  },
  {
   "cell_type": "code",
   "execution_count": 11,
   "metadata": {
    "executionInfo": {
     "elapsed": 27,
     "status": "ok",
     "timestamp": 1729151803425,
     "user": {
      "displayName": "강해찬",
      "userId": "08180896618044652518"
     },
     "user_tz": -540
    },
    "id": "EAm84rxdzt30"
   },
   "outputs": [],
   "source": [
    "target = 'Activity'\n",
    "\n",
    "x = data1.drop(target, axis=1)\n",
    "y = data1.loc[:, target]"
   ]
  },
  {
   "cell_type": "markdown",
   "metadata": {
    "id": "kH0LsKFizt30"
   },
   "source": [
    "### (2) 스케일링\n"
   ]
  },
  {
   "cell_type": "markdown",
   "metadata": {
    "id": "9EKjPKYjzt31"
   },
   "source": [
    "* 세부 요구사항\n",
    "    - 스케일링을 필요로 하는 알고리즘 사용을 위해서 코드 수행\n",
    "    - min-max 방식 혹은 standard 방식 중 한가지 사용."
   ]
  },
  {
   "cell_type": "code",
   "execution_count": 12,
   "metadata": {
    "executionInfo": {
     "elapsed": 26,
     "status": "ok",
     "timestamp": 1729151803425,
     "user": {
      "displayName": "강해찬",
      "userId": "08180896618044652518"
     },
     "user_tz": -540
    },
    "id": "J_y3NSRWGpN4"
   },
   "outputs": [],
   "source": [
    "scaler = MinMaxScaler()\n",
    "x = scaler.fit_transform(x)"
   ]
  },
  {
   "cell_type": "markdown",
   "metadata": {
    "id": "erf1kwLNL_BG"
   },
   "source": [
    "### (3) Y 전처리\n",
    "* integer encoding : LabelEncoder\n",
    "* (필요시) one-hot encoding"
   ]
  },
  {
   "cell_type": "code",
   "execution_count": 13,
   "metadata": {
    "executionInfo": {
     "elapsed": 26,
     "status": "ok",
     "timestamp": 1729151803426,
     "user": {
      "displayName": "강해찬",
      "userId": "08180896618044652518"
     },
     "user_tz": -540
    },
    "id": "V9ZjiqZxL9vu"
   },
   "outputs": [],
   "source": [
    "encoder = LabelEncoder()\n",
    "y_encoded = encoder.fit_transform(y)\n",
    "y_encoded[:5]"
   ]
  },
  {
   "cell_type": "markdown",
   "metadata": {
    "id": "KvFgLaegzt34"
   },
   "source": [
    "### (4) 데이터분할2 : train, validation"
   ]
  },
  {
   "cell_type": "markdown",
   "metadata": {
    "id": "eaMzPqRmzt34"
   },
   "source": [
    "* 세부 요구사항\n",
    "    - train : val = 8 : 2 혹은 7 : 3\n",
    "    - random_state 옵션을 사용하여 다른 모델과 비교를 위해 성능이 재현되도록 합니다."
   ]
  },
  {
   "cell_type": "code",
   "execution_count": 14,
   "metadata": {
    "executionInfo": {
     "elapsed": 24,
     "status": "ok",
     "timestamp": 1729151803426,
     "user": {
      "displayName": "강해찬",
      "userId": "08180896618044652518"
     },
     "user_tz": -540
    },
    "id": "0UiQn0pmzt35"
   },
   "outputs": [],
   "source": [
    "x_train, x_val, y_train, y_val = train_test_split(x, y_encoded, test_size=.2, random_state = 20)"
   ]
  },
  {
   "cell_type": "markdown",
   "metadata": {
    "id": "QqIj25L-zt35"
   },
   "source": [
    "## **3. 기본 모델링**\n",
    "\n"
   ]
  },
  {
   "cell_type": "markdown",
   "metadata": {
    "id": "PsIDduJnzt36"
   },
   "source": [
    "* 세부 요구사항\n",
    "    - 모델1 : Base line 모델\n",
    "        * Hidden Layer 없이 모델 생성\n",
    "    - 모델2 : 복잡한 모델 생성\n",
    "        * 최소 5개 이상의 은닉층을 추가한 모델\n",
    "    - 모델3 ~ n : 튜닝 모델\n",
    "        * 학습률, epoch 등 조정\n",
    "        * 모델2에 과적합을 방지하기 위한 규제 기법 추가\n",
    "        * Accuracy 최대화 시키는 모델 생성하기\n",
    "    - 각 모델은 최소 5번 반복수행해서 얻은 성능의 평균값을 기록"
   ]
  },
  {
   "cell_type": "markdown",
   "metadata": {
    "id": "WnvECv0azt36"
   },
   "source": [
    "### (1) 모델1"
   ]
  },
  {
   "cell_type": "code",
   "execution_count": 15,
   "metadata": {
    "colab": {
     "base_uri": "https://localhost:8080/"
    },
    "executionInfo": {
     "elapsed": 24,
     "status": "ok",
     "timestamp": 1729151803426,
     "user": {
      "displayName": "강해찬",
      "userId": "08180896618044652518"
     },
     "user_tz": -540
    },
    "id": "Knj7SzObz8_2",
    "outputId": "03d161b5-e07f-46e7-f938-5ba63dbb716c"
   },
   "outputs": [
    {
     "data": {
      "text/plain": [
       "561"
      ]
     },
     "execution_count": 15,
     "metadata": {},
     "output_type": "execute_result"
    }
   ],
   "source": [
    "nfeatures = data1.shape[1] - 1\n",
    "nfeatures"
   ]
  },
  {
   "cell_type": "code",
   "execution_count": 16,
   "metadata": {
    "colab": {
     "base_uri": "https://localhost:8080/",
     "height": 887
    },
    "collapsed": true,
    "executionInfo": {
     "elapsed": 85644,
     "status": "ok",
     "timestamp": 1729151889054,
     "user": {
      "displayName": "강해찬",
      "userId": "08180896618044652518"
     },
     "user_tz": -540
    },
    "id": "r4B2GA36z88O",
    "outputId": "88aebad2-f992-4ae4-a0a2-432f97825505"
   },
   "outputs": [
    {
     "name": "stdout",
     "output_type": "stream",
     "text": [
      "\u001b[1m37/37\u001b[0m \u001b[32m━━━━━━━━━━━━━━━━━━━━\u001b[0m\u001b[37m\u001b[0m \u001b[1m0s\u001b[0m 7ms/step\n",
      "\u001b[1m37/37\u001b[0m \u001b[32m━━━━━━━━━━━━━━━━━━━━\u001b[0m\u001b[37m\u001b[0m \u001b[1m0s\u001b[0m 3ms/step\n",
      "\u001b[1m37/37\u001b[0m \u001b[32m━━━━━━━━━━━━━━━━━━━━\u001b[0m\u001b[37m\u001b[0m \u001b[1m0s\u001b[0m 3ms/step\n",
      "\u001b[1m37/37\u001b[0m \u001b[32m━━━━━━━━━━━━━━━━━━━━\u001b[0m\u001b[37m\u001b[0m \u001b[1m0s\u001b[0m 3ms/step\n",
      "\u001b[1m37/37\u001b[0m \u001b[32m━━━━━━━━━━━━━━━━━━━━\u001b[0m\u001b[37m\u001b[0m \u001b[1m0s\u001b[0m 4ms/step\n"
     ]
    },
    {
     "data": {
      "image/png": "[encoded data removed]",
      "text/plain": [
       "<Figure size 1000x600 with 1 Axes>"
      ]
     },
     "metadata": {},
     "output_type": "display_data"
    },
    {
     "name": "stdout",
     "output_type": "stream",
     "text": [
      "              precision    recall  f1-score   support\n",
      "\n",
      "           0       1.00      1.00      1.00       202\n",
      "           1       0.95      0.94      0.95       211\n",
      "           2       0.94      0.95      0.95       214\n",
      "           3       0.99      1.00      0.99       203\n",
      "           4       1.00      0.99      1.00       170\n",
      "           5       0.99      0.99      0.99       177\n",
      "\n",
      "    accuracy                           0.98      1177\n",
      "   macro avg       0.98      0.98      0.98      1177\n",
      "weighted avg       0.98      0.98      0.98      1177\n",
      "\n",
      "model score: 0.97892948173322\n"
     ]
    }
   ],
   "source": [
    "clear_session()\n",
    "model1 = Sequential([Input(shape = (nfeatures,)),\n",
    "                     Dense(6, activation = 'softmax')])\n",
    "\n",
    "print(f'model score: {model_pipeline(data1, model1)}')"
   ]
  },
  {
   "cell_type": "markdown",
   "metadata": {
    "id": "howmy2pdOUwh"
   },
   "source": [
    "### (2) 모델2"
   ]
  },
  {
   "cell_type": "code",
   "execution_count": 17,
   "metadata": {
    "colab": {
     "base_uri": "https://localhost:8080/",
     "height": 887
    },
    "executionInfo": {
     "elapsed": 171572,
     "status": "ok",
     "timestamp": 1729152060619,
     "user": {
      "displayName": "강해찬",
      "userId": "08180896618044652518"
     },
     "user_tz": -540
    },
    "id": "4RbzxM6fz9ji",
    "outputId": "3c26a31b-da5e-4ba4-b70b-419cf25a471b"
   },
   "outputs": [
    {
     "name": "stdout",
     "output_type": "stream",
     "text": [
      "\u001b[1m37/37\u001b[0m \u001b[32m━━━━━━━━━━━━━━━━━━━━\u001b[0m\u001b[37m\u001b[0m \u001b[1m1s\u001b[0m 13ms/step\n",
      "\u001b[1m37/37\u001b[0m \u001b[32m━━━━━━━━━━━━━━━━━━━━\u001b[0m\u001b[37m\u001b[0m \u001b[1m0s\u001b[0m 5ms/step\n",
      "\u001b[1m37/37\u001b[0m \u001b[32m━━━━━━━━━━━━━━━━━━━━\u001b[0m\u001b[37m\u001b[0m \u001b[1m0s\u001b[0m 5ms/step\n",
      "\u001b[1m37/37\u001b[0m \u001b[32m━━━━━━━━━━━━━━━━━━━━\u001b[0m\u001b[37m\u001b[0m \u001b[1m0s\u001b[0m 5ms/step\n",
      "\u001b[1m37/37\u001b[0m \u001b[32m━━━━━━━━━━━━━━━━━━━━\u001b[0m\u001b[37m\u001b[0m \u001b[1m0s\u001b[0m 5ms/step\n"
     ]
    },
    {
     "data": {
      "image/png": "[encoded data removed]",
      "text/plain": [
       "<Figure size 1000x600 with 1 Axes>"
      ]
     },
     "metadata": {},
     "output_type": "display_data"
    },
    {
     "name": "stdout",
     "output_type": "stream",
     "text": [
      "              precision    recall  f1-score   support\n",
      "\n",
      "           0       1.00      1.00      1.00       202\n",
      "           1       0.96      0.92      0.94       211\n",
      "           2       0.93      0.97      0.95       214\n",
      "           3       0.94      1.00      0.96       203\n",
      "           4       0.95      0.87      0.91       170\n",
      "           5       0.87      0.88      0.87       177\n",
      "\n",
      "    accuracy                           0.94      1177\n",
      "   macro avg       0.94      0.94      0.94      1177\n",
      "weighted avg       0.94      0.94      0.94      1177\n",
      "\n",
      "model2 score: 0.9177570093457945\n"
     ]
    }
   ],
   "source": [
    "clear_session()\n",
    "model2 = Sequential([Input(shape = (nfeatures, )),\n",
    "                     Dense(128, activation = 'relu'),\n",
    "                     Dense(64, activation = 'relu'),\n",
    "                     Dense(32, activation = 'relu'),\n",
    "                     Dense(16, activation = 'relu'),\n",
    "                     Dense(8, activation = 'relu'),\n",
    "                     Dense(6, activation = 'softmax')\n",
    "                     ])\n",
    "print(f'model2 score: {model_pipeline(data1, model2)}')"
   ]
  },
  {
   "cell_type": "markdown",
   "metadata": {
    "id": "lId5dvDwQGEi"
   },
   "source": [
    "### (3) 모델3"
   ]
  },
  {
   "cell_type": "code",
   "execution_count": 18,
   "metadata": {
    "colab": {
     "base_uri": "https://localhost:8080/",
     "height": 887
    },
    "executionInfo": {
     "elapsed": 81608,
     "status": "ok",
     "timestamp": 1729152142222,
     "user": {
      "displayName": "강해찬",
      "userId": "08180896618044652518"
     },
     "user_tz": -540
    },
    "id": "Zba9A_jRz-6E",
    "outputId": "8fa0b38f-3d27-4a4b-83de-71cda26e679d"
   },
   "outputs": [
    {
     "name": "stdout",
     "output_type": "stream",
     "text": [
      "\u001b[1m37/37\u001b[0m \u001b[32m━━━━━━━━━━━━━━━━━━━━\u001b[0m\u001b[37m\u001b[0m \u001b[1m1s\u001b[0m 10ms/step\n",
      "\u001b[1m37/37\u001b[0m \u001b[32m━━━━━━━━━━━━━━━━━━━━\u001b[0m\u001b[37m\u001b[0m \u001b[1m1s\u001b[0m 8ms/step\n",
      "\u001b[1m37/37\u001b[0m \u001b[32m━━━━━━━━━━━━━━━━━━━━\u001b[0m\u001b[37m\u001b[0m \u001b[1m1s\u001b[0m 8ms/step\n",
      "\u001b[1m37/37\u001b[0m \u001b[32m━━━━━━━━━━━━━━━━━━━━\u001b[0m\u001b[37m\u001b[0m \u001b[1m1s\u001b[0m 8ms/step\n",
      "\u001b[1m37/37\u001b[0m \u001b[32m━━━━━━━━━━━━━━━━━━━━\u001b[0m\u001b[37m\u001b[0m \u001b[1m1s\u001b[0m 8ms/step\n"
     ]
    },
    {
     "data": {
      "image/png": "[encoded data removed]",
      "text/plain": [
       "<Figure size 1000x600 with 1 Axes>"
      ]
     },
     "metadata": {},
     "output_type": "display_data"
    },
    {
     "name": "stdout",
     "output_type": "stream",
     "text": [
      "              precision    recall  f1-score   support\n",
      "\n",
      "           0       1.00      1.00      1.00       202\n",
      "           1       0.95      0.96      0.96       211\n",
      "           2       0.96      0.95      0.96       214\n",
      "           3       1.00      1.00      1.00       203\n",
      "           4       1.00      0.99      1.00       170\n",
      "           5       0.99      0.99      0.99       177\n",
      "\n",
      "    accuracy                           0.98      1177\n",
      "   macro avg       0.98      0.98      0.98      1177\n",
      "weighted avg       0.98      0.98      0.98      1177\n",
      "\n",
      "model3 score: 0.9726423109600679\n"
     ]
    }
   ],
   "source": [
    "clear_session()\n",
    "\n",
    "dropout_num = 0.2\n",
    "\n",
    "model3 = Sequential([Input(shape = (nfeatures, )),\n",
    "                     Dense(128, activation = 'relu'),\n",
    "                     BatchNormalization(),\n",
    "                     Dropout(dropout_num),\n",
    "                     Dense(64, activation = 'relu'),\n",
    "                     BatchNormalization(),\n",
    "                     Dropout(dropout_num),\n",
    "                     Dense(32, activation = 'relu'),\n",
    "                     BatchNormalization(),\n",
    "                     Dropout(dropout_num),\n",
    "                     Dense(16, activation = 'relu'),\n",
    "                     BatchNormalization(),\n",
    "                     Dropout(dropout_num),\n",
    "                     Dense(8, activation = 'relu'),\n",
    "                     BatchNormalization(),\n",
    "                     Dropout(dropout_num),\n",
    "                     Dense(6, activation = 'softmax')\n",
    "                     ])\n",
    "\n",
    "lr_scheduler = ReduceLROnPlateau(monitor='val_loss', factor=0.2, patience=3, min_lr=0.00001)\n",
    "min_de = 0.005\n",
    "pat = 5\n",
    "es = EarlyStopping(monitor = 'val_loss', min_delta = min_de, patience = pat)\n",
    "\n",
    "print(f'model3 score: {model_pipeline(data1, model3, callbacks=[es, lr_scheduler])}')"
   ]
  },
  {
   "cell_type": "markdown",
   "metadata": {
    "id": "kSjKuMEbv1vK"
   },
   "source": [
    "### (4) 모델4"
   ]
  },
  {
   "cell_type": "code",
   "execution_count": 19,
   "metadata": {
    "colab": {
     "base_uri": "https://localhost:8080/",
     "height": 887
    },
    "executionInfo": {
     "elapsed": 166189,
     "status": "ok",
     "timestamp": 1729152308365,
     "user": {
      "displayName": "강해찬",
      "userId": "08180896618044652518"
     },
     "user_tz": -540
    },
    "id": "0DnEt4SR0AH7",
    "outputId": "614f44f1-498e-4f85-b2b5-9dda6a9d6be5"
   },
   "outputs": [
    {
     "name": "stdout",
     "output_type": "stream",
     "text": [
      "\u001b[1m37/37\u001b[0m \u001b[32m━━━━━━━━━━━━━━━━━━━━\u001b[0m\u001b[37m\u001b[0m \u001b[1m1s\u001b[0m 10ms/step\n",
      "\u001b[1m37/37\u001b[0m \u001b[32m━━━━━━━━━━━━━━━━━━━━\u001b[0m\u001b[37m\u001b[0m \u001b[1m1s\u001b[0m 8ms/step\n",
      "\u001b[1m37/37\u001b[0m \u001b[32m━━━━━━━━━━━━━━━━━━━━\u001b[0m\u001b[37m\u001b[0m \u001b[1m1s\u001b[0m 9ms/step\n",
      "\u001b[1m37/37\u001b[0m \u001b[32m━━━━━━━━━━━━━━━━━━━━\u001b[0m\u001b[37m\u001b[0m \u001b[1m1s\u001b[0m 8ms/step\n",
      "\u001b[1m37/37\u001b[0m \u001b[32m━━━━━━━━━━━━━━━━━━━━\u001b[0m\u001b[37m\u001b[0m \u001b[1m1s\u001b[0m 8ms/step\n"
     ]
    },
    {
     "data": {
      "image/png": "[encoded data removed]",
      "text/plain": [
       "<Figure size 1000x600 with 1 Axes>"
      ]
     },
     "metadata": {},
     "output_type": "display_data"
    },
    {
     "name": "stdout",
     "output_type": "stream",
     "text": [
      "              precision    recall  f1-score   support\n",
      "\n",
      "           0       1.00      1.00      1.00       202\n",
      "           1       0.83      0.92      0.87       211\n",
      "           2       0.92      0.81      0.86       214\n",
      "           3       0.98      0.80      0.88       203\n",
      "           4       0.95      0.94      0.95       170\n",
      "           5       0.81      0.99      0.89       177\n",
      "\n",
      "    accuracy                           0.91      1177\n",
      "   macro avg       0.91      0.91      0.91      1177\n",
      "weighted avg       0.92      0.91      0.91      1177\n",
      "\n",
      "model4 score: 0.9191163976210707\n"
     ]
    }
   ],
   "source": [
    "n_data = data1[['tGravityAcc-min()-X', 'tGravityAcc-mean()-X', 'tGravityAcc-mean()-Y',\n",
    " 'tGravityAcc-energy()-X', 'angle(X,gravityMean)', 'tGravityAcc-max()-X',\n",
    " 'tGravityAcc-max()-Y', 'tGravityAcc-min()-Y', 'angle(Y,gravityMean)',\n",
    " 'tGravityAcc-min()-Z', 'fBodyAccMag-std()', 'angle(Z,gravityMean)',\n",
    " 'tBodyAccJerk-sma()', 'tBodyAccJerkMag-mean()', 'tBodyAccMag-std()',\n",
    " 'tGravityAcc-energy()-Y', 'fBodyAccJerk-bandsEnergy()-1,16',\n",
    " 'tGravityAcc-arCoeff()-Z,1', 'fBodyAccJerk-bandsEnergy()-1,8',\n",
    " 'fBodyAccJerk-energy()-X', 'Activity']]\n",
    "\n",
    "nfeatures = n_data.shape[1] - 1\n",
    "nfeatures\n",
    "\n",
    "model4 = Sequential([Input(shape = (nfeatures, )),\n",
    "                     Dense(128, activation = 'relu'),\n",
    "                     BatchNormalization(),\n",
    "                     Dropout(dropout_num),\n",
    "                     Dense(64, activation = 'relu'),\n",
    "                     BatchNormalization(),\n",
    "                     Dropout(dropout_num),\n",
    "                     Dense(32, activation = 'relu'),\n",
    "                     BatchNormalization(),\n",
    "                     Dropout(dropout_num),\n",
    "                     Dense(16, activation = 'relu'),\n",
    "                     BatchNormalization(),\n",
    "                     Dropout(dropout_num),\n",
    "                     Dense(8, activation = 'relu'),\n",
    "                     BatchNormalization(),\n",
    "                     Dropout(dropout_num),\n",
    "                     Dense(6, activation = 'softmax')\n",
    "                     ])\n",
    "\n",
    "print(f'model4 score: {model_pipeline(n_data, model4)}')"
   ]
  },
  {
   "cell_type": "markdown",
   "metadata": {
    "id": "_OTuXbgHzt4H"
   },
   "source": [
    "## 4.성능비교"
   ]
  },
  {
   "cell_type": "markdown",
   "metadata": {
    "id": "2TjwzbyYzt4I"
   },
   "source": [
    "* 세부 요구사항\n",
    "    - test 데이터에 대한 전처리\n",
    "    - 각 모델에 대해서 test 데이터로 성능 측정"
   ]
  },
  {
   "cell_type": "code",
   "execution_count": 20,
   "metadata": {
    "executionInfo": {
     "elapsed": 18,
     "status": "ok",
     "timestamp": 1729152308366,
     "user": {
      "displayName": "강해찬",
      "userId": "08180896618044652518"
     },
     "user_tz": -540
    },
    "id": "3Y10D1FsiNEt"
   },
   "outputs": [],
   "source": [
    "test_data = data2.copy()\n",
    "test_x = test_data.drop('Activity', axis=1)\n",
    "test_y = test_data.loc[:, 'Activity']\n",
    "\n",
    "scaler = MinMaxScaler()\n",
    "test_x = scaler.fit_transform(test_x)\n",
    "\n",
    "encoder = LabelEncoder()\n",
    "test_y_encoded = encoder.fit_transform(test_y)"
   ]
  },
  {
   "cell_type": "code",
   "execution_count": 21,
   "metadata": {
    "colab": {
     "base_uri": "https://localhost:8080/"
    },
    "executionInfo": {
     "elapsed": 543,
     "status": "ok",
     "timestamp": 1729152308893,
     "user": {
      "displayName": "강해찬",
      "userId": "08180896618044652518"
     },
     "user_tz": -540
    },
    "id": "ciIQPNqriNBe",
    "outputId": "9e822f36-f7b2-4a28-a555-c4a152818a7f"
   },
   "outputs": [
    {
     "name": "stdout",
     "output_type": "stream",
     "text": [
      "\u001b[1m46/46\u001b[0m \u001b[32m━━━━━━━━━━━━━━━━━━━━\u001b[0m\u001b[37m\u001b[0m \u001b[1m0s\u001b[0m 4ms/step\n",
      "0.9605710401087696\n",
      "              precision    recall  f1-score   support\n",
      "\n",
      "           0       1.00      0.99      1.00       292\n",
      "           1       0.96      0.85      0.90       254\n",
      "           2       0.88      0.98      0.93       287\n",
      "           3       0.96      1.00      0.98       228\n",
      "           4       0.99      1.00      0.99       195\n",
      "           5       1.00      0.95      0.97       215\n",
      "\n",
      "    accuracy                           0.96      1471\n",
      "   macro avg       0.97      0.96      0.96      1471\n",
      "weighted avg       0.96      0.96      0.96      1471\n",
      "\n"
     ]
    }
   ],
   "source": [
    "test_pred1 = model1.predict(test_x)\n",
    "test_pred_1 = test_pred1.argmax(axis=1)\n",
    "\n",
    "print(accuracy_score(test_y_encoded, test_pred_1))\n",
    "print(classification_report(test_y_encoded, test_pred_1))"
   ]
  },
  {
   "cell_type": "code",
   "execution_count": 22,
   "metadata": {
    "colab": {
     "base_uri": "https://localhost:8080/"
    },
    "executionInfo": {
     "elapsed": 386,
     "status": "ok",
     "timestamp": 1729152309272,
     "user": {
      "displayName": "강해찬",
      "userId": "08180896618044652518"
     },
     "user_tz": -540
    },
    "id": "_bk0DHeViMqI",
    "outputId": "ec9e0279-4638-492c-904a-ced13fc4b4a9"
   },
   "outputs": [
    {
     "name": "stdout",
     "output_type": "stream",
     "text": [
      "\u001b[1m46/46\u001b[0m \u001b[32m━━━━━━━━━━━━━━━━━━━━\u001b[0m\u001b[37m\u001b[0m \u001b[1m0s\u001b[0m 10ms/step\n",
      "0.9089055064581917\n",
      "              precision    recall  f1-score   support\n",
      "\n",
      "           0       1.00      0.99      1.00       292\n",
      "           1       0.99      0.79      0.88       254\n",
      "           2       0.84      0.99      0.91       287\n",
      "           3       0.83      1.00      0.91       228\n",
      "           4       0.99      0.85      0.91       195\n",
      "           5       0.85      0.78      0.81       215\n",
      "\n",
      "    accuracy                           0.91      1471\n",
      "   macro avg       0.92      0.90      0.90      1471\n",
      "weighted avg       0.92      0.91      0.91      1471\n",
      "\n"
     ]
    }
   ],
   "source": [
    "test_pred2 = model2.predict(test_x)\n",
    "test_pred_2 = test_pred2.argmax(axis=1)\n",
    "\n",
    "print(accuracy_score(test_y_encoded, test_pred_2))\n",
    "print(classification_report(test_y_encoded, test_pred_2))"
   ]
  },
  {
   "cell_type": "code",
   "execution_count": 23,
   "metadata": {
    "colab": {
     "base_uri": "https://localhost:8080/"
    },
    "executionInfo": {
     "elapsed": 364,
     "status": "ok",
     "timestamp": 1729152309629,
     "user": {
      "displayName": "강해찬",
      "userId": "08180896618044652518"
     },
     "user_tz": -540
    },
    "id": "aBAN4prwduVr",
    "outputId": "8b55088a-10a7-42ac-f1ca-1795236ab3ab"
   },
   "outputs": [
    {
     "name": "stdout",
     "output_type": "stream",
     "text": [
      "\u001b[1m46/46\u001b[0m \u001b[32m━━━━━━━━━━━━━━━━━━━━\u001b[0m\u001b[37m\u001b[0m \u001b[1m0s\u001b[0m 5ms/step\n",
      "0.964649898028552\n",
      "              precision    recall  f1-score   support\n",
      "\n",
      "           0       1.00      1.00      1.00       292\n",
      "           1       0.94      0.93      0.94       254\n",
      "           2       0.94      0.95      0.94       287\n",
      "           3       0.97      1.00      0.98       228\n",
      "           4       0.94      1.00      0.97       195\n",
      "           5       1.00      0.91      0.95       215\n",
      "\n",
      "    accuracy                           0.96      1471\n",
      "   macro avg       0.96      0.96      0.96      1471\n",
      "weighted avg       0.97      0.96      0.96      1471\n",
      "\n"
     ]
    }
   ],
   "source": [
    "test_pred3 = model3.predict(test_x)\n",
    "test_pred_3 = test_pred3.argmax(axis=1)\n",
    "\n",
    "print(accuracy_score(test_y_encoded, test_pred_3))\n",
    "print(classification_report(test_y_encoded, test_pred_3))"
   ]
  }
 ],
 "metadata": {
  "accelerator": "GPU",
  "colab": {
   "gpuType": "T4",
   "provenance": []
  },
  "kernelspec": {
   "display_name": "Python 3",
   "name": "python3"
  },
  "language_info": {
   "codemirror_mode": {
    "name": "ipython",
    "version": 3
   },
   "file_extension": ".py",
   "mimetype": "text/x-python",
   "name": "python",
   "nbconvert_exporter": "python",
   "pygments_lexer": "ipython3",
   "version": "3.12.4"
  }
 },
 "nbformat": 4,
 "nbformat_minor": 0
}
