{
 "cells": [
  {
   "cell_type": "markdown",
   "metadata": {
    "id": "NbI_RoQ9AP5r"
   },
   "source": [
    "#**스마트폰 센서 데이터 기반 모션 분류**\n",
    "# 단계3 : 단계별 모델링\n"
   ]
  },
  {
   "cell_type": "markdown",
   "metadata": {
    "id": "JmtZXcVs0IXm"
   },
   "source": [
    "## 0.미션4"
   ]
  },
  {
   "cell_type": "markdown",
   "metadata": {
    "id": "1Q7N3tIf0IXn"
   },
   "source": [
    "* 단계별로 나눠서 모델링을 수행하고자 합니다.  \n",
    "* 단계 구분 예시\n",
    "    * 단계1 : 정적(0), 동적(1) 행동 분류 모델 생성\n",
    "    * 단계2 : 세부 동작에 대한 분류모델 생성\n",
    "        * 단계1 모델에서 0으로 예측 -> 정적 행동 3가지 분류 모델링\n",
    "        * 단계1 모델에서 1으로 예측 -> 동적 행동 3가지 분류 모델링\n",
    "* 모델 통합\n",
    "    * 두 단계 모델을 통합하고, 새로운 데이터에 대해서 최종 예측결과와 성능평가가 나오도록 함수로 만들기\n",
    "* 성능 비교\n",
    "    * 기본 모델링의 성능과 비교\n",
    "    * 성능 가이드\n",
    "        * Accuracy : 0.97 ~ 0.99\n",
    "* 파이프라인 구성\n",
    "    * test 데이터를 입력하여, 전처리 및 예측결과가 나오도록 함수 구성"
   ]
  },
  {
   "cell_type": "markdown",
   "metadata": {
    "id": "rgiFiMnzd3Jn"
   },
   "source": [
    "## 1.환경설정"
   ]
  },
  {
   "cell_type": "markdown",
   "metadata": {
    "id": "0fDUoBYfd3Jx"
   },
   "source": [
    "* 세부 요구사항\n",
    "    - 경로 설정 : 구글콜랩\n",
    "        * 구글 드라이브 바로 밑에 project3 폴더를 만들고,\n",
    "        * 데이터 파일을 복사해 넣습니다.\n",
    "    - 기본적으로 필요한 라이브러리를 import 하도록 코드가 작성되어 있습니다.\n",
    "        * 필요하다고 판단되는 라이브러리를 추가하세요.\n"
   ]
  },
  {
   "cell_type": "markdown",
   "metadata": {
    "id": "EP6x0_Qrd3Jx"
   },
   "source": [
    "### (1) 경로 설정"
   ]
  },
  {
   "cell_type": "markdown",
   "metadata": {
    "id": "Nc5ajfyHd3Jx"
   },
   "source": [
    "* 구글 드라이브 연결"
   ]
  },
  {
   "cell_type": "code",
   "execution_count": 1,
   "metadata": {
    "colab": {
     "base_uri": "https://localhost:8080/"
    },
    "executionInfo": {
     "elapsed": 6189,
     "status": "ok",
     "timestamp": 1729231759766,
     "user": {
      "displayName": "강해찬",
      "userId": "08180896618044652518"
     },
     "user_tz": -540
    },
    "id": "Ic8ZeFKcd3Jx",
    "outputId": "874a6529-2532-414d-8b88-47e5e5b8e79e"
   },
   "outputs": [
    {
     "name": "stdout",
     "output_type": "stream",
     "text": [
      "Drive already mounted at /content/drive; to attempt to forcibly remount, call drive.mount(\"/content/drive\", force_remount=True).\n"
     ]
    }
   ],
   "source": [
    "from google.colab import drive\n",
    "drive.mount('/content/drive')"
   ]
  },
  {
   "cell_type": "code",
   "execution_count": 2,
   "metadata": {
    "executionInfo": {
     "elapsed": 9,
     "status": "ok",
     "timestamp": 1729231759767,
     "user": {
      "displayName": "강해찬",
      "userId": "08180896618044652518"
     },
     "user_tz": -540
    },
    "id": "rR-drTHhd3Jx"
   },
   "outputs": [],
   "source": [
    "path = '/content/drive/MyDrive/project3/'"
   ]
  },
  {
   "cell_type": "markdown",
   "metadata": {
    "id": "Tqpjn1W3d3Jx"
   },
   "source": [
    "### (2) 라이브러리 불러오기"
   ]
  },
  {
   "cell_type": "markdown",
   "metadata": {
    "id": "-ZxRcPNqd3Jy"
   },
   "source": [
    "* 라이브러리 로딩"
   ]
  },
  {
   "cell_type": "code",
   "execution_count": 3,
   "metadata": {
    "executionInfo": {
     "elapsed": 10971,
     "status": "ok",
     "timestamp": 1729231770731,
     "user": {
      "displayName": "강해찬",
      "userId": "08180896618044652518"
     },
     "user_tz": -540
    },
    "id": "___ks_QAd3Jy"
   },
   "outputs": [],
   "source": [
    "import pandas as pd\n",
    "import numpy as np\n",
    "import matplotlib.pyplot as plt\n",
    "import seaborn as sns\n",
    "\n",
    "import joblib\n",
    "\n",
    "from sklearn.model_selection import train_test_split\n",
    "from sklearn.preprocessing import MinMaxScaler, LabelEncoder\n",
    "from sklearn.metrics import *\n",
    "\n",
    "from keras.models import Sequential\n",
    "from keras.layers import Dense, Flatten, Dropout, Input\n",
    "from keras.backend import clear_session\n",
    "from keras.optimizers import Adam\n",
    "\n",
    "from keras.callbacks import EarlyStopping\n",
    "from tensorflow.keras.regularizers import l2"
   ]
  },
  {
   "cell_type": "code",
   "execution_count": 4,
   "metadata": {
    "executionInfo": {
     "elapsed": 14,
     "status": "ok",
     "timestamp": 1729231770733,
     "user": {
      "displayName": "강해찬",
      "userId": "08180896618044652518"
     },
     "user_tz": -540
    },
    "id": "3c4JgiEbNKfo"
   },
   "outputs": [],
   "source": [
    "# 학습곡선 함수\n",
    "def dl_history_plot(history):\n",
    "    plt.figure(figsize=(10,6))\n",
    "    plt.plot(history['loss'], label='train_err', marker = '.')\n",
    "    plt.plot(history['val_loss'], label='val_err', marker = '.')\n",
    "\n",
    "    plt.ylabel('Loss')\n",
    "    plt.xlabel('Epoch')\n",
    "    plt.legend()\n",
    "    plt.grid()\n",
    "    plt.show()"
   ]
  },
  {
   "cell_type": "markdown",
   "metadata": {
    "id": "bA-eHXdwBDCz"
   },
   "source": [
    "### (3) 데이터 불러오기"
   ]
  },
  {
   "cell_type": "markdown",
   "metadata": {
    "id": "tDueQoA3d3Jy"
   },
   "source": [
    "* 주어진 데이터셋\n",
    "    * data01_train.csv : 학습 및 검증용\n",
    "    * data01_test.csv : 테스트용\n",
    "    * feature.csv : feature 이름을 계층구조로 정리한 데이터\n",
    "\n",
    "* 세부 요구사항\n",
    "    * 칼럼 삭제 : data01_train.csv와 data01_test.csv 에서 'subject' 칼럼은 불필요하므로 삭제합니다."
   ]
  },
  {
   "cell_type": "markdown",
   "metadata": {
    "id": "fmgUEGOipvG5"
   },
   "source": [
    "#### 1) 데이터로딩"
   ]
  },
  {
   "cell_type": "code",
   "execution_count": 5,
   "metadata": {
    "colab": {
     "base_uri": "https://localhost:8080/",
     "height": 273
    },
    "executionInfo": {
     "elapsed": 4441,
     "status": "ok",
     "timestamp": 1729231775163,
     "user": {
      "displayName": "강해찬",
      "userId": "08180896618044652518"
     },
     "user_tz": -540
    },
    "id": "HdZCcSs6qfRC",
    "outputId": "07981387-5865-48c5-9e22-1c22b69b2309"
   },
   "outputs": [
    {
     "data": {
      "application/vnd.google.colaboratory.intrinsic+json": {
       "type": "dataframe",
       "variable_name": "data1"
      },
      "text/html": [
       "\n",
       "  <div id=\"df-d6c421af-a099-4867-b663-7ea99c718a90\" class=\"colab-df-container\">\n",
       "    <div>\n",
       "<style scoped>\n",
       "    .dataframe tbody tr th:only-of-type {\n",
       "        vertical-align: middle;\n",
       "    }\n",
       "\n",
       "    .dataframe tbody tr th {\n",
       "        vertical-align: top;\n",
       "    }\n",
       "\n",
       "    .dataframe thead th {\n",
       "        text-align: right;\n",
       "    }\n",
       "</style>\n",
       "<table border=\"1\" class=\"dataframe\">\n",
       "  <thead>\n",
       "    <tr style=\"text-align: right;\">\n",
       "      <th></th>\n",
       "      <th>tBodyAcc-mean()-X</th>\n",
       "      <th>tBodyAcc-mean()-Y</th>\n",
       "      <th>tBodyAcc-mean()-Z</th>\n",
       "      <th>tBodyAcc-std()-X</th>\n",
       "      <th>tBodyAcc-std()-Y</th>\n",
       "      <th>tBodyAcc-std()-Z</th>\n",
       "      <th>tBodyAcc-mad()-X</th>\n",
       "      <th>tBodyAcc-mad()-Y</th>\n",
       "      <th>tBodyAcc-mad()-Z</th>\n",
       "      <th>tBodyAcc-max()-X</th>\n",
       "      <th>...</th>\n",
       "      <th>fBodyBodyGyroJerkMag-kurtosis()</th>\n",
       "      <th>angle(tBodyAccMean,gravity)</th>\n",
       "      <th>angle(tBodyAccJerkMean),gravityMean)</th>\n",
       "      <th>angle(tBodyGyroMean,gravityMean)</th>\n",
       "      <th>angle(tBodyGyroJerkMean,gravityMean)</th>\n",
       "      <th>angle(X,gravityMean)</th>\n",
       "      <th>angle(Y,gravityMean)</th>\n",
       "      <th>angle(Z,gravityMean)</th>\n",
       "      <th>subject</th>\n",
       "      <th>Activity</th>\n",
       "    </tr>\n",
       "  </thead>\n",
       "  <tbody>\n",
       "    <tr>\n",
       "      <th>0</th>\n",
       "      <td>0.288508</td>\n",
       "      <td>-0.009196</td>\n",
       "      <td>-0.103362</td>\n",
       "      <td>-0.988986</td>\n",
       "      <td>-0.962797</td>\n",
       "      <td>-0.967422</td>\n",
       "      <td>-0.989000</td>\n",
       "      <td>-0.962596</td>\n",
       "      <td>-0.965650</td>\n",
       "      <td>-0.929747</td>\n",
       "      <td>...</td>\n",
       "      <td>-0.816696</td>\n",
       "      <td>-0.042494</td>\n",
       "      <td>-0.044218</td>\n",
       "      <td>0.307873</td>\n",
       "      <td>0.072790</td>\n",
       "      <td>-0.601120</td>\n",
       "      <td>0.331298</td>\n",
       "      <td>0.165163</td>\n",
       "      <td>21</td>\n",
       "      <td>STANDING</td>\n",
       "    </tr>\n",
       "    <tr>\n",
       "      <th>1</th>\n",
       "      <td>0.265757</td>\n",
       "      <td>-0.016576</td>\n",
       "      <td>-0.098163</td>\n",
       "      <td>-0.989551</td>\n",
       "      <td>-0.994636</td>\n",
       "      <td>-0.987435</td>\n",
       "      <td>-0.990189</td>\n",
       "      <td>-0.993870</td>\n",
       "      <td>-0.987558</td>\n",
       "      <td>-0.937337</td>\n",
       "      <td>...</td>\n",
       "      <td>-0.693515</td>\n",
       "      <td>-0.062899</td>\n",
       "      <td>0.388459</td>\n",
       "      <td>-0.765014</td>\n",
       "      <td>0.771524</td>\n",
       "      <td>0.345205</td>\n",
       "      <td>-0.769186</td>\n",
       "      <td>-0.147944</td>\n",
       "      <td>15</td>\n",
       "      <td>LAYING</td>\n",
       "    </tr>\n",
       "    <tr>\n",
       "      <th>2</th>\n",
       "      <td>0.278709</td>\n",
       "      <td>-0.014511</td>\n",
       "      <td>-0.108717</td>\n",
       "      <td>-0.997720</td>\n",
       "      <td>-0.981088</td>\n",
       "      <td>-0.994008</td>\n",
       "      <td>-0.997934</td>\n",
       "      <td>-0.982187</td>\n",
       "      <td>-0.995017</td>\n",
       "      <td>-0.942584</td>\n",
       "      <td>...</td>\n",
       "      <td>-0.829311</td>\n",
       "      <td>0.000265</td>\n",
       "      <td>-0.525022</td>\n",
       "      <td>-0.891875</td>\n",
       "      <td>0.021528</td>\n",
       "      <td>-0.833564</td>\n",
       "      <td>0.202434</td>\n",
       "      <td>-0.032755</td>\n",
       "      <td>11</td>\n",
       "      <td>STANDING</td>\n",
       "    </tr>\n",
       "    <tr>\n",
       "      <th>3</th>\n",
       "      <td>0.289795</td>\n",
       "      <td>-0.035536</td>\n",
       "      <td>-0.150354</td>\n",
       "      <td>-0.231727</td>\n",
       "      <td>-0.006412</td>\n",
       "      <td>-0.338117</td>\n",
       "      <td>-0.273557</td>\n",
       "      <td>0.014245</td>\n",
       "      <td>-0.347916</td>\n",
       "      <td>0.008288</td>\n",
       "      <td>...</td>\n",
       "      <td>-0.408956</td>\n",
       "      <td>-0.255125</td>\n",
       "      <td>0.612804</td>\n",
       "      <td>0.747381</td>\n",
       "      <td>-0.072944</td>\n",
       "      <td>-0.695819</td>\n",
       "      <td>0.287154</td>\n",
       "      <td>0.111388</td>\n",
       "      <td>17</td>\n",
       "      <td>WALKING</td>\n",
       "    </tr>\n",
       "    <tr>\n",
       "      <th>4</th>\n",
       "      <td>0.394807</td>\n",
       "      <td>0.034098</td>\n",
       "      <td>0.091229</td>\n",
       "      <td>0.088489</td>\n",
       "      <td>-0.106636</td>\n",
       "      <td>-0.388502</td>\n",
       "      <td>-0.010469</td>\n",
       "      <td>-0.109680</td>\n",
       "      <td>-0.346372</td>\n",
       "      <td>0.584131</td>\n",
       "      <td>...</td>\n",
       "      <td>-0.563437</td>\n",
       "      <td>-0.044344</td>\n",
       "      <td>-0.845268</td>\n",
       "      <td>-0.974650</td>\n",
       "      <td>-0.887846</td>\n",
       "      <td>-0.705029</td>\n",
       "      <td>0.264952</td>\n",
       "      <td>0.137758</td>\n",
       "      <td>17</td>\n",
       "      <td>WALKING_DOWNSTAIRS</td>\n",
       "    </tr>\n",
       "  </tbody>\n",
       "</table>\n",
       "<p>5 rows × 563 columns</p>\n",
       "</div>\n",
       "    <div class=\"colab-df-buttons\">\n",
       "\n",
       "  <div class=\"colab-df-container\">\n",
       "    <button class=\"colab-df-convert\" onclick=\"convertToInteractive('df-d6c421af-a099-4867-b663-7ea99c718a90')\"\n",
       "            title=\"Convert this dataframe to an interactive table.\"\n",
       "            style=\"display:none;\">\n",
       "\n",
       "  <svg xmlns=\"http://www.w3.org/2000/svg\" height=\"24px\" viewBox=\"0 -960 960 960\">\n",
       "    <path d=\"M120-120v-720h720v720H120Zm60-500h600v-160H180v160Zm220 220h160v-160H400v160Zm0 220h160v-160H400v160ZM180-400h160v-160H180v160Zm440 0h160v-160H620v160ZM180-180h160v-160H180v160Zm440 0h160v-160H620v160Z\"/>\n",
       "  </svg>\n",
       "    </button>\n",
       "\n",
       "  <style>\n",
       "    .colab-df-container {\n",
       "      display:flex;\n",
       "      gap: 12px;\n",
       "    }\n",
       "\n",
       "    .colab-df-convert {\n",
       "      background-color: #E8F0FE;\n",
       "      border: none;\n",
       "      border-radius: 50%;\n",
       "      cursor: pointer;\n",
       "      display: none;\n",
       "      fill: #1967D2;\n",
       "      height: 32px;\n",
       "      padding: 0 0 0 0;\n",
       "      width: 32px;\n",
       "    }\n",
       "\n",
       "    .colab-df-convert:hover {\n",
       "      background-color: #E2EBFA;\n",
       "      box-shadow: 0px 1px 2px rgba(60, 64, 67, 0.3), 0px 1px 3px 1px rgba(60, 64, 67, 0.15);\n",
       "      fill: #174EA6;\n",
       "    }\n",
       "\n",
       "    .colab-df-buttons div {\n",
       "      margin-bottom: 4px;\n",
       "    }\n",
       "\n",
       "    [theme=dark] .colab-df-convert {\n",
       "      background-color: #3B4455;\n",
       "      fill: #D2E3FC;\n",
       "    }\n",
       "\n",
       "    [theme=dark] .colab-df-convert:hover {\n",
       "      background-color: #434B5C;\n",
       "      box-shadow: 0px 1px 3px 1px rgba(0, 0, 0, 0.15);\n",
       "      filter: drop-shadow(0px 1px 2px rgba(0, 0, 0, 0.3));\n",
       "      fill: #FFFFFF;\n",
       "    }\n",
       "  </style>\n",
       "\n",
       "    <script>\n",
       "      const buttonEl =\n",
       "        document.querySelector('#df-d6c421af-a099-4867-b663-7ea99c718a90 button.colab-df-convert');\n",
       "      buttonEl.style.display =\n",
       "        google.colab.kernel.accessAllowed ? 'block' : 'none';\n",
       "\n",
       "      async function convertToInteractive(key) {\n",
       "        const element = document.querySelector('#df-d6c421af-a099-4867-b663-7ea99c718a90');\n",
       "        const dataTable =\n",
       "          await google.colab.kernel.invokeFunction('convertToInteractive',\n",
       "                                                    [key], {});\n",
       "        if (!dataTable) return;\n",
       "\n",
       "        const docLinkHtml = 'Like what you see? Visit the ' +\n",
       "          '<a target=\"_blank\" href=https://colab.research.google.com/notebooks/data_table.ipynb>data table notebook</a>'\n",
       "          + ' to learn more about interactive tables.';\n",
       "        element.innerHTML = '';\n",
       "        dataTable['output_type'] = 'display_data';\n",
       "        await google.colab.output.renderOutput(dataTable, element);\n",
       "        const docLink = document.createElement('div');\n",
       "        docLink.innerHTML = docLinkHtml;\n",
       "        element.appendChild(docLink);\n",
       "      }\n",
       "    </script>\n",
       "  </div>\n",
       "\n",
       "\n",
       "<div id=\"df-bf00d4a0-76fa-42ad-a579-7ae01c31d3c3\">\n",
       "  <button class=\"colab-df-quickchart\" onclick=\"quickchart('df-bf00d4a0-76fa-42ad-a579-7ae01c31d3c3')\"\n",
       "            title=\"Suggest charts\"\n",
       "            style=\"display:none;\">\n",
       "\n",
       "<svg xmlns=\"http://www.w3.org/2000/svg\" height=\"24px\"viewBox=\"0 0 24 24\"\n",
       "     width=\"24px\">\n",
       "    <g>\n",
       "        <path d=\"M19 3H5c-1.1 0-2 .9-2 2v14c0 1.1.9 2 2 2h14c1.1 0 2-.9 2-2V5c0-1.1-.9-2-2-2zM9 17H7v-7h2v7zm4 0h-2V7h2v10zm4 0h-2v-4h2v4z\"/>\n",
       "    </g>\n",
       "</svg>\n",
       "  </button>\n",
       "\n",
       "<style>\n",
       "  .colab-df-quickchart {\n",
       "      --bg-color: #E8F0FE;\n",
       "      --fill-color: #1967D2;\n",
       "      --hover-bg-color: #E2EBFA;\n",
       "      --hover-fill-color: #174EA6;\n",
       "      --disabled-fill-color: #AAA;\n",
       "      --disabled-bg-color: #DDD;\n",
       "  }\n",
       "\n",
       "  [theme=dark] .colab-df-quickchart {\n",
       "      --bg-color: #3B4455;\n",
       "      --fill-color: #D2E3FC;\n",
       "      --hover-bg-color: #434B5C;\n",
       "      --hover-fill-color: #FFFFFF;\n",
       "      --disabled-bg-color: #3B4455;\n",
       "      --disabled-fill-color: #666;\n",
       "  }\n",
       "\n",
       "  .colab-df-quickchart {\n",
       "    background-color: var(--bg-color);\n",
       "    border: none;\n",
       "    border-radius: 50%;\n",
       "    cursor: pointer;\n",
       "    display: none;\n",
       "    fill: var(--fill-color);\n",
       "    height: 32px;\n",
       "    padding: 0;\n",
       "    width: 32px;\n",
       "  }\n",
       "\n",
       "  .colab-df-quickchart:hover {\n",
       "    background-color: var(--hover-bg-color);\n",
       "    box-shadow: 0 1px 2px rgba(60, 64, 67, 0.3), 0 1px 3px 1px rgba(60, 64, 67, 0.15);\n",
       "    fill: var(--button-hover-fill-color);\n",
       "  }\n",
       "\n",
       "  .colab-df-quickchart-complete:disabled,\n",
       "  .colab-df-quickchart-complete:disabled:hover {\n",
       "    background-color: var(--disabled-bg-color);\n",
       "    fill: var(--disabled-fill-color);\n",
       "    box-shadow: none;\n",
       "  }\n",
       "\n",
       "  .colab-df-spinner {\n",
       "    border: 2px solid var(--fill-color);\n",
       "    border-color: transparent;\n",
       "    border-bottom-color: var(--fill-color);\n",
       "    animation:\n",
       "      spin 1s steps(1) infinite;\n",
       "  }\n",
       "\n",
       "  @keyframes spin {\n",
       "    0% {\n",
       "      border-color: transparent;\n",
       "      border-bottom-color: var(--fill-color);\n",
       "      border-left-color: var(--fill-color);\n",
       "    }\n",
       "    20% {\n",
       "      border-color: transparent;\n",
       "      border-left-color: var(--fill-color);\n",
       "      border-top-color: var(--fill-color);\n",
       "    }\n",
       "    30% {\n",
       "      border-color: transparent;\n",
       "      border-left-color: var(--fill-color);\n",
       "      border-top-color: var(--fill-color);\n",
       "      border-right-color: var(--fill-color);\n",
       "    }\n",
       "    40% {\n",
       "      border-color: transparent;\n",
       "      border-right-color: var(--fill-color);\n",
       "      border-top-color: var(--fill-color);\n",
       "    }\n",
       "    60% {\n",
       "      border-color: transparent;\n",
       "      border-right-color: var(--fill-color);\n",
       "    }\n",
       "    80% {\n",
       "      border-color: transparent;\n",
       "      border-right-color: var(--fill-color);\n",
       "      border-bottom-color: var(--fill-color);\n",
       "    }\n",
       "    90% {\n",
       "      border-color: transparent;\n",
       "      border-bottom-color: var(--fill-color);\n",
       "    }\n",
       "  }\n",
       "</style>\n",
       "\n",
       "  <script>\n",
       "    async function quickchart(key) {\n",
       "      const quickchartButtonEl =\n",
       "        document.querySelector('#' + key + ' button');\n",
       "      quickchartButtonEl.disabled = true;  // To prevent multiple clicks.\n",
       "      quickchartButtonEl.classList.add('colab-df-spinner');\n",
       "      try {\n",
       "        const charts = await google.colab.kernel.invokeFunction(\n",
       "            'suggestCharts', [key], {});\n",
       "      } catch (error) {\n",
       "        console.error('Error during call to suggestCharts:', error);\n",
       "      }\n",
       "      quickchartButtonEl.classList.remove('colab-df-spinner');\n",
       "      quickchartButtonEl.classList.add('colab-df-quickchart-complete');\n",
       "    }\n",
       "    (() => {\n",
       "      let quickchartButtonEl =\n",
       "        document.querySelector('#df-bf00d4a0-76fa-42ad-a579-7ae01c31d3c3 button');\n",
       "      quickchartButtonEl.style.display =\n",
       "        google.colab.kernel.accessAllowed ? 'block' : 'none';\n",
       "    })();\n",
       "  </script>\n",
       "</div>\n",
       "\n",
       "    </div>\n",
       "  </div>\n"
      ],
      "text/plain": [
       "   tBodyAcc-mean()-X  tBodyAcc-mean()-Y  tBodyAcc-mean()-Z  tBodyAcc-std()-X  \\\n",
       "0           0.288508          -0.009196          -0.103362         -0.988986   \n",
       "1           0.265757          -0.016576          -0.098163         -0.989551   \n",
       "2           0.278709          -0.014511          -0.108717         -0.997720   \n",
       "3           0.289795          -0.035536          -0.150354         -0.231727   \n",
       "4           0.394807           0.034098           0.091229          0.088489   \n",
       "\n",
       "   tBodyAcc-std()-Y  tBodyAcc-std()-Z  tBodyAcc-mad()-X  tBodyAcc-mad()-Y  \\\n",
       "0         -0.962797         -0.967422         -0.989000         -0.962596   \n",
       "1         -0.994636         -0.987435         -0.990189         -0.993870   \n",
       "2         -0.981088         -0.994008         -0.997934         -0.982187   \n",
       "3         -0.006412         -0.338117         -0.273557          0.014245   \n",
       "4         -0.106636         -0.388502         -0.010469         -0.109680   \n",
       "\n",
       "   tBodyAcc-mad()-Z  tBodyAcc-max()-X  ...  fBodyBodyGyroJerkMag-kurtosis()  \\\n",
       "0         -0.965650         -0.929747  ...                        -0.816696   \n",
       "1         -0.987558         -0.937337  ...                        -0.693515   \n",
       "2         -0.995017         -0.942584  ...                        -0.829311   \n",
       "3         -0.347916          0.008288  ...                        -0.408956   \n",
       "4         -0.346372          0.584131  ...                        -0.563437   \n",
       "\n",
       "   angle(tBodyAccMean,gravity)  angle(tBodyAccJerkMean),gravityMean)  \\\n",
       "0                    -0.042494                             -0.044218   \n",
       "1                    -0.062899                              0.388459   \n",
       "2                     0.000265                             -0.525022   \n",
       "3                    -0.255125                              0.612804   \n",
       "4                    -0.044344                             -0.845268   \n",
       "\n",
       "   angle(tBodyGyroMean,gravityMean)  angle(tBodyGyroJerkMean,gravityMean)  \\\n",
       "0                          0.307873                              0.072790   \n",
       "1                         -0.765014                              0.771524   \n",
       "2                         -0.891875                              0.021528   \n",
       "3                          0.747381                             -0.072944   \n",
       "4                         -0.974650                             -0.887846   \n",
       "\n",
       "   angle(X,gravityMean)  angle(Y,gravityMean)  angle(Z,gravityMean)  subject  \\\n",
       "0             -0.601120              0.331298              0.165163       21   \n",
       "1              0.345205             -0.769186             -0.147944       15   \n",
       "2             -0.833564              0.202434             -0.032755       11   \n",
       "3             -0.695819              0.287154              0.111388       17   \n",
       "4             -0.705029              0.264952              0.137758       17   \n",
       "\n",
       "             Activity  \n",
       "0            STANDING  \n",
       "1              LAYING  \n",
       "2            STANDING  \n",
       "3             WALKING  \n",
       "4  WALKING_DOWNSTAIRS  \n",
       "\n",
       "[5 rows x 563 columns]"
      ]
     },
     "execution_count": 5,
     "metadata": {},
     "output_type": "execute_result"
    }
   ],
   "source": [
    "data1 = pd.read_csv(path + '/data01_train.csv')\n",
    "data1.drop('subject', axis=1, inplace=True)\n",
    "data1.head()"
   ]
  },
  {
   "cell_type": "code",
   "execution_count": 6,
   "metadata": {
    "colab": {
     "base_uri": "https://localhost:8080/",
     "height": 273
    },
    "executionInfo": {
     "elapsed": 747,
     "status": "ok",
     "timestamp": 1729231775908,
     "user": {
      "displayName": "강해찬",
      "userId": "08180896618044652518"
     },
     "user_tz": -540
    },
    "id": "V8tUE_fyqfRC",
    "outputId": "ae10eb64-b597-4510-c508-c2abb1b6dab6"
   },
   "outputs": [
    {
     "data": {
      "application/vnd.google.colaboratory.intrinsic+json": {
       "type": "dataframe",
       "variable_name": "data2"
      },
      "text/html": [
       "\n",
       "  <div id=\"df-d8344ff2-82e8-4e5b-a10c-793c36e55d36\" class=\"colab-df-container\">\n",
       "    <div>\n",
       "<style scoped>\n",
       "    .dataframe tbody tr th:only-of-type {\n",
       "        vertical-align: middle;\n",
       "    }\n",
       "\n",
       "    .dataframe tbody tr th {\n",
       "        vertical-align: top;\n",
       "    }\n",
       "\n",
       "    .dataframe thead th {\n",
       "        text-align: right;\n",
       "    }\n",
       "</style>\n",
       "<table border=\"1\" class=\"dataframe\">\n",
       "  <thead>\n",
       "    <tr style=\"text-align: right;\">\n",
       "      <th></th>\n",
       "      <th>tBodyAcc-mean()-X</th>\n",
       "      <th>tBodyAcc-mean()-Y</th>\n",
       "      <th>tBodyAcc-mean()-Z</th>\n",
       "      <th>tBodyAcc-std()-X</th>\n",
       "      <th>tBodyAcc-std()-Y</th>\n",
       "      <th>tBodyAcc-std()-Z</th>\n",
       "      <th>tBodyAcc-mad()-X</th>\n",
       "      <th>tBodyAcc-mad()-Y</th>\n",
       "      <th>tBodyAcc-mad()-Z</th>\n",
       "      <th>tBodyAcc-max()-X</th>\n",
       "      <th>...</th>\n",
       "      <th>fBodyBodyGyroJerkMag-kurtosis()</th>\n",
       "      <th>angle(tBodyAccMean,gravity)</th>\n",
       "      <th>angle(tBodyAccJerkMean),gravityMean)</th>\n",
       "      <th>angle(tBodyGyroMean,gravityMean)</th>\n",
       "      <th>angle(tBodyGyroJerkMean,gravityMean)</th>\n",
       "      <th>angle(X,gravityMean)</th>\n",
       "      <th>angle(Y,gravityMean)</th>\n",
       "      <th>angle(Z,gravityMean)</th>\n",
       "      <th>subject</th>\n",
       "      <th>Activity</th>\n",
       "    </tr>\n",
       "  </thead>\n",
       "  <tbody>\n",
       "    <tr>\n",
       "      <th>0</th>\n",
       "      <td>0.284379</td>\n",
       "      <td>-0.021981</td>\n",
       "      <td>-0.116683</td>\n",
       "      <td>-0.992490</td>\n",
       "      <td>-0.979640</td>\n",
       "      <td>-0.963321</td>\n",
       "      <td>-0.992563</td>\n",
       "      <td>-0.977304</td>\n",
       "      <td>-0.958142</td>\n",
       "      <td>-0.938850</td>\n",
       "      <td>...</td>\n",
       "      <td>-0.850065</td>\n",
       "      <td>-0.018043</td>\n",
       "      <td>0.092304</td>\n",
       "      <td>0.074220</td>\n",
       "      <td>-0.714534</td>\n",
       "      <td>-0.671943</td>\n",
       "      <td>-0.018351</td>\n",
       "      <td>-0.185733</td>\n",
       "      <td>22</td>\n",
       "      <td>SITTING</td>\n",
       "    </tr>\n",
       "    <tr>\n",
       "      <th>1</th>\n",
       "      <td>0.277440</td>\n",
       "      <td>-0.028086</td>\n",
       "      <td>-0.118412</td>\n",
       "      <td>-0.996620</td>\n",
       "      <td>-0.927676</td>\n",
       "      <td>-0.972294</td>\n",
       "      <td>-0.997346</td>\n",
       "      <td>-0.931405</td>\n",
       "      <td>-0.971788</td>\n",
       "      <td>-0.939837</td>\n",
       "      <td>...</td>\n",
       "      <td>-0.613367</td>\n",
       "      <td>-0.022456</td>\n",
       "      <td>-0.155414</td>\n",
       "      <td>0.247498</td>\n",
       "      <td>-0.112257</td>\n",
       "      <td>-0.826816</td>\n",
       "      <td>0.184489</td>\n",
       "      <td>-0.068699</td>\n",
       "      <td>15</td>\n",
       "      <td>STANDING</td>\n",
       "    </tr>\n",
       "    <tr>\n",
       "      <th>2</th>\n",
       "      <td>0.305833</td>\n",
       "      <td>-0.041023</td>\n",
       "      <td>-0.087303</td>\n",
       "      <td>0.006880</td>\n",
       "      <td>0.182800</td>\n",
       "      <td>-0.237984</td>\n",
       "      <td>0.005642</td>\n",
       "      <td>0.028616</td>\n",
       "      <td>-0.236474</td>\n",
       "      <td>0.016311</td>\n",
       "      <td>...</td>\n",
       "      <td>0.394388</td>\n",
       "      <td>-0.362616</td>\n",
       "      <td>0.171069</td>\n",
       "      <td>0.576349</td>\n",
       "      <td>-0.688314</td>\n",
       "      <td>-0.743234</td>\n",
       "      <td>0.272186</td>\n",
       "      <td>0.053101</td>\n",
       "      <td>22</td>\n",
       "      <td>WALKING</td>\n",
       "    </tr>\n",
       "    <tr>\n",
       "      <th>3</th>\n",
       "      <td>0.276053</td>\n",
       "      <td>-0.016487</td>\n",
       "      <td>-0.108381</td>\n",
       "      <td>-0.995379</td>\n",
       "      <td>-0.983978</td>\n",
       "      <td>-0.975854</td>\n",
       "      <td>-0.995877</td>\n",
       "      <td>-0.985280</td>\n",
       "      <td>-0.974907</td>\n",
       "      <td>-0.941425</td>\n",
       "      <td>...</td>\n",
       "      <td>-0.841455</td>\n",
       "      <td>0.289548</td>\n",
       "      <td>0.079801</td>\n",
       "      <td>-0.020033</td>\n",
       "      <td>0.291898</td>\n",
       "      <td>-0.639435</td>\n",
       "      <td>-0.111998</td>\n",
       "      <td>-0.123298</td>\n",
       "      <td>8</td>\n",
       "      <td>SITTING</td>\n",
       "    </tr>\n",
       "    <tr>\n",
       "      <th>4</th>\n",
       "      <td>0.271998</td>\n",
       "      <td>0.016904</td>\n",
       "      <td>-0.078856</td>\n",
       "      <td>-0.973468</td>\n",
       "      <td>-0.702462</td>\n",
       "      <td>-0.869450</td>\n",
       "      <td>-0.979810</td>\n",
       "      <td>-0.711601</td>\n",
       "      <td>-0.856807</td>\n",
       "      <td>-0.920760</td>\n",
       "      <td>...</td>\n",
       "      <td>0.214219</td>\n",
       "      <td>0.010111</td>\n",
       "      <td>0.114179</td>\n",
       "      <td>-0.830776</td>\n",
       "      <td>-0.325098</td>\n",
       "      <td>-0.840817</td>\n",
       "      <td>0.116237</td>\n",
       "      <td>-0.096615</td>\n",
       "      <td>5</td>\n",
       "      <td>STANDING</td>\n",
       "    </tr>\n",
       "  </tbody>\n",
       "</table>\n",
       "<p>5 rows × 563 columns</p>\n",
       "</div>\n",
       "    <div class=\"colab-df-buttons\">\n",
       "\n",
       "  <div class=\"colab-df-container\">\n",
       "    <button class=\"colab-df-convert\" onclick=\"convertToInteractive('df-d8344ff2-82e8-4e5b-a10c-793c36e55d36')\"\n",
       "            title=\"Convert this dataframe to an interactive table.\"\n",
       "            style=\"display:none;\">\n",
       "\n",
       "  <svg xmlns=\"http://www.w3.org/2000/svg\" height=\"24px\" viewBox=\"0 -960 960 960\">\n",
       "    <path d=\"M120-120v-720h720v720H120Zm60-500h600v-160H180v160Zm220 220h160v-160H400v160Zm0 220h160v-160H400v160ZM180-400h160v-160H180v160Zm440 0h160v-160H620v160ZM180-180h160v-160H180v160Zm440 0h160v-160H620v160Z\"/>\n",
       "  </svg>\n",
       "    </button>\n",
       "\n",
       "  <style>\n",
       "    .colab-df-container {\n",
       "      display:flex;\n",
       "      gap: 12px;\n",
       "    }\n",
       "\n",
       "    .colab-df-convert {\n",
       "      background-color: #E8F0FE;\n",
       "      border: none;\n",
       "      border-radius: 50%;\n",
       "      cursor: pointer;\n",
       "      display: none;\n",
       "      fill: #1967D2;\n",
       "      height: 32px;\n",
       "      padding: 0 0 0 0;\n",
       "      width: 32px;\n",
       "    }\n",
       "\n",
       "    .colab-df-convert:hover {\n",
       "      background-color: #E2EBFA;\n",
       "      box-shadow: 0px 1px 2px rgba(60, 64, 67, 0.3), 0px 1px 3px 1px rgba(60, 64, 67, 0.15);\n",
       "      fill: #174EA6;\n",
       "    }\n",
       "\n",
       "    .colab-df-buttons div {\n",
       "      margin-bottom: 4px;\n",
       "    }\n",
       "\n",
       "    [theme=dark] .colab-df-convert {\n",
       "      background-color: #3B4455;\n",
       "      fill: #D2E3FC;\n",
       "    }\n",
       "\n",
       "    [theme=dark] .colab-df-convert:hover {\n",
       "      background-color: #434B5C;\n",
       "      box-shadow: 0px 1px 3px 1px rgba(0, 0, 0, 0.15);\n",
       "      filter: drop-shadow(0px 1px 2px rgba(0, 0, 0, 0.3));\n",
       "      fill: #FFFFFF;\n",
       "    }\n",
       "  </style>\n",
       "\n",
       "    <script>\n",
       "      const buttonEl =\n",
       "        document.querySelector('#df-d8344ff2-82e8-4e5b-a10c-793c36e55d36 button.colab-df-convert');\n",
       "      buttonEl.style.display =\n",
       "        google.colab.kernel.accessAllowed ? 'block' : 'none';\n",
       "\n",
       "      async function convertToInteractive(key) {\n",
       "        const element = document.querySelector('#df-d8344ff2-82e8-4e5b-a10c-793c36e55d36');\n",
       "        const dataTable =\n",
       "          await google.colab.kernel.invokeFunction('convertToInteractive',\n",
       "                                                    [key], {});\n",
       "        if (!dataTable) return;\n",
       "\n",
       "        const docLinkHtml = 'Like what you see? Visit the ' +\n",
       "          '<a target=\"_blank\" href=https://colab.research.google.com/notebooks/data_table.ipynb>data table notebook</a>'\n",
       "          + ' to learn more about interactive tables.';\n",
       "        element.innerHTML = '';\n",
       "        dataTable['output_type'] = 'display_data';\n",
       "        await google.colab.output.renderOutput(dataTable, element);\n",
       "        const docLink = document.createElement('div');\n",
       "        docLink.innerHTML = docLinkHtml;\n",
       "        element.appendChild(docLink);\n",
       "      }\n",
       "    </script>\n",
       "  </div>\n",
       "\n",
       "\n",
       "<div id=\"df-88d50711-5002-4289-81d4-5a2b4eb95a3b\">\n",
       "  <button class=\"colab-df-quickchart\" onclick=\"quickchart('df-88d50711-5002-4289-81d4-5a2b4eb95a3b')\"\n",
       "            title=\"Suggest charts\"\n",
       "            style=\"display:none;\">\n",
       "\n",
       "<svg xmlns=\"http://www.w3.org/2000/svg\" height=\"24px\"viewBox=\"0 0 24 24\"\n",
       "     width=\"24px\">\n",
       "    <g>\n",
       "        <path d=\"M19 3H5c-1.1 0-2 .9-2 2v14c0 1.1.9 2 2 2h14c1.1 0 2-.9 2-2V5c0-1.1-.9-2-2-2zM9 17H7v-7h2v7zm4 0h-2V7h2v10zm4 0h-2v-4h2v4z\"/>\n",
       "    </g>\n",
       "</svg>\n",
       "  </button>\n",
       "\n",
       "<style>\n",
       "  .colab-df-quickchart {\n",
       "      --bg-color: #E8F0FE;\n",
       "      --fill-color: #1967D2;\n",
       "      --hover-bg-color: #E2EBFA;\n",
       "      --hover-fill-color: #174EA6;\n",
       "      --disabled-fill-color: #AAA;\n",
       "      --disabled-bg-color: #DDD;\n",
       "  }\n",
       "\n",
       "  [theme=dark] .colab-df-quickchart {\n",
       "      --bg-color: #3B4455;\n",
       "      --fill-color: #D2E3FC;\n",
       "      --hover-bg-color: #434B5C;\n",
       "      --hover-fill-color: #FFFFFF;\n",
       "      --disabled-bg-color: #3B4455;\n",
       "      --disabled-fill-color: #666;\n",
       "  }\n",
       "\n",
       "  .colab-df-quickchart {\n",
       "    background-color: var(--bg-color);\n",
       "    border: none;\n",
       "    border-radius: 50%;\n",
       "    cursor: pointer;\n",
       "    display: none;\n",
       "    fill: var(--fill-color);\n",
       "    height: 32px;\n",
       "    padding: 0;\n",
       "    width: 32px;\n",
       "  }\n",
       "\n",
       "  .colab-df-quickchart:hover {\n",
       "    background-color: var(--hover-bg-color);\n",
       "    box-shadow: 0 1px 2px rgba(60, 64, 67, 0.3), 0 1px 3px 1px rgba(60, 64, 67, 0.15);\n",
       "    fill: var(--button-hover-fill-color);\n",
       "  }\n",
       "\n",
       "  .colab-df-quickchart-complete:disabled,\n",
       "  .colab-df-quickchart-complete:disabled:hover {\n",
       "    background-color: var(--disabled-bg-color);\n",
       "    fill: var(--disabled-fill-color);\n",
       "    box-shadow: none;\n",
       "  }\n",
       "\n",
       "  .colab-df-spinner {\n",
       "    border: 2px solid var(--fill-color);\n",
       "    border-color: transparent;\n",
       "    border-bottom-color: var(--fill-color);\n",
       "    animation:\n",
       "      spin 1s steps(1) infinite;\n",
       "  }\n",
       "\n",
       "  @keyframes spin {\n",
       "    0% {\n",
       "      border-color: transparent;\n",
       "      border-bottom-color: var(--fill-color);\n",
       "      border-left-color: var(--fill-color);\n",
       "    }\n",
       "    20% {\n",
       "      border-color: transparent;\n",
       "      border-left-color: var(--fill-color);\n",
       "      border-top-color: var(--fill-color);\n",
       "    }\n",
       "    30% {\n",
       "      border-color: transparent;\n",
       "      border-left-color: var(--fill-color);\n",
       "      border-top-color: var(--fill-color);\n",
       "      border-right-color: var(--fill-color);\n",
       "    }\n",
       "    40% {\n",
       "      border-color: transparent;\n",
       "      border-right-color: var(--fill-color);\n",
       "      border-top-color: var(--fill-color);\n",
       "    }\n",
       "    60% {\n",
       "      border-color: transparent;\n",
       "      border-right-color: var(--fill-color);\n",
       "    }\n",
       "    80% {\n",
       "      border-color: transparent;\n",
       "      border-right-color: var(--fill-color);\n",
       "      border-bottom-color: var(--fill-color);\n",
       "    }\n",
       "    90% {\n",
       "      border-color: transparent;\n",
       "      border-bottom-color: var(--fill-color);\n",
       "    }\n",
       "  }\n",
       "</style>\n",
       "\n",
       "  <script>\n",
       "    async function quickchart(key) {\n",
       "      const quickchartButtonEl =\n",
       "        document.querySelector('#' + key + ' button');\n",
       "      quickchartButtonEl.disabled = true;  // To prevent multiple clicks.\n",
       "      quickchartButtonEl.classList.add('colab-df-spinner');\n",
       "      try {\n",
       "        const charts = await google.colab.kernel.invokeFunction(\n",
       "            'suggestCharts', [key], {});\n",
       "      } catch (error) {\n",
       "        console.error('Error during call to suggestCharts:', error);\n",
       "      }\n",
       "      quickchartButtonEl.classList.remove('colab-df-spinner');\n",
       "      quickchartButtonEl.classList.add('colab-df-quickchart-complete');\n",
       "    }\n",
       "    (() => {\n",
       "      let quickchartButtonEl =\n",
       "        document.querySelector('#df-88d50711-5002-4289-81d4-5a2b4eb95a3b button');\n",
       "      quickchartButtonEl.style.display =\n",
       "        google.colab.kernel.accessAllowed ? 'block' : 'none';\n",
       "    })();\n",
       "  </script>\n",
       "</div>\n",
       "\n",
       "    </div>\n",
       "  </div>\n"
      ],
      "text/plain": [
       "   tBodyAcc-mean()-X  tBodyAcc-mean()-Y  tBodyAcc-mean()-Z  tBodyAcc-std()-X  \\\n",
       "0           0.284379          -0.021981          -0.116683         -0.992490   \n",
       "1           0.277440          -0.028086          -0.118412         -0.996620   \n",
       "2           0.305833          -0.041023          -0.087303          0.006880   \n",
       "3           0.276053          -0.016487          -0.108381         -0.995379   \n",
       "4           0.271998           0.016904          -0.078856         -0.973468   \n",
       "\n",
       "   tBodyAcc-std()-Y  tBodyAcc-std()-Z  tBodyAcc-mad()-X  tBodyAcc-mad()-Y  \\\n",
       "0         -0.979640         -0.963321         -0.992563         -0.977304   \n",
       "1         -0.927676         -0.972294         -0.997346         -0.931405   \n",
       "2          0.182800         -0.237984          0.005642          0.028616   \n",
       "3         -0.983978         -0.975854         -0.995877         -0.985280   \n",
       "4         -0.702462         -0.869450         -0.979810         -0.711601   \n",
       "\n",
       "   tBodyAcc-mad()-Z  tBodyAcc-max()-X  ...  fBodyBodyGyroJerkMag-kurtosis()  \\\n",
       "0         -0.958142         -0.938850  ...                        -0.850065   \n",
       "1         -0.971788         -0.939837  ...                        -0.613367   \n",
       "2         -0.236474          0.016311  ...                         0.394388   \n",
       "3         -0.974907         -0.941425  ...                        -0.841455   \n",
       "4         -0.856807         -0.920760  ...                         0.214219   \n",
       "\n",
       "   angle(tBodyAccMean,gravity)  angle(tBodyAccJerkMean),gravityMean)  \\\n",
       "0                    -0.018043                              0.092304   \n",
       "1                    -0.022456                             -0.155414   \n",
       "2                    -0.362616                              0.171069   \n",
       "3                     0.289548                              0.079801   \n",
       "4                     0.010111                              0.114179   \n",
       "\n",
       "   angle(tBodyGyroMean,gravityMean)  angle(tBodyGyroJerkMean,gravityMean)  \\\n",
       "0                          0.074220                             -0.714534   \n",
       "1                          0.247498                             -0.112257   \n",
       "2                          0.576349                             -0.688314   \n",
       "3                         -0.020033                              0.291898   \n",
       "4                         -0.830776                             -0.325098   \n",
       "\n",
       "   angle(X,gravityMean)  angle(Y,gravityMean)  angle(Z,gravityMean)  subject  \\\n",
       "0             -0.671943             -0.018351             -0.185733       22   \n",
       "1             -0.826816              0.184489             -0.068699       15   \n",
       "2             -0.743234              0.272186              0.053101       22   \n",
       "3             -0.639435             -0.111998             -0.123298        8   \n",
       "4             -0.840817              0.116237             -0.096615        5   \n",
       "\n",
       "   Activity  \n",
       "0   SITTING  \n",
       "1  STANDING  \n",
       "2   WALKING  \n",
       "3   SITTING  \n",
       "4  STANDING  \n",
       "\n",
       "[5 rows x 563 columns]"
      ]
     },
     "execution_count": 6,
     "metadata": {},
     "output_type": "execute_result"
    }
   ],
   "source": [
    "data2 = pd.read_csv(path + '/data01_test.csv')\n",
    "data2.drop('subject', axis=1, inplace=True)\n",
    "data2.head()"
   ]
  },
  {
   "cell_type": "markdown",
   "metadata": {
    "id": "aI7qJqz3pr3m"
   },
   "source": [
    "#### 2) 기본 정보 조회"
   ]
  },
  {
   "cell_type": "code",
   "execution_count": 7,
   "metadata": {
    "colab": {
     "base_uri": "https://localhost:8080/"
    },
    "executionInfo": {
     "elapsed": 11,
     "status": "ok",
     "timestamp": 1729231775909,
     "user": {
      "displayName": "강해찬",
      "userId": "08180896618044652518"
     },
     "user_tz": -540
    },
    "id": "yFVSAGNhpr3m",
    "outputId": "2e4dda04-a149-44bc-9042-b0e5e8e99c64"
   },
   "outputs": [
    {
     "name": "stdout",
     "output_type": "stream",
     "text": [
      "train :  (5881, 563)\n",
      "test :  (1471, 563)\n"
     ]
    }
   ],
   "source": [
    "print('train : ', data1.shape)\n",
    "print('test : ', data2.shape)"
   ]
  },
  {
   "cell_type": "code",
   "execution_count": 8,
   "metadata": {
    "colab": {
     "base_uri": "https://localhost:8080/",
     "height": 367
    },
    "executionInfo": {
     "elapsed": 2968,
     "status": "ok",
     "timestamp": 1729231778868,
     "user": {
      "displayName": "강해찬",
      "userId": "08180896618044652518"
     },
     "user_tz": -540
    },
    "id": "xJnnr8K-pr3m",
    "outputId": "1ac1a341-7de8-4a12-a30d-bcf9cfa78965"
   },
   "outputs": [
    {
     "data": {
      "application/vnd.google.colaboratory.intrinsic+json": {
       "type": "dataframe"
      },
      "text/html": [
       "\n",
       "  <div id=\"df-11025447-bc57-4a03-b369-720f9264aeb3\" class=\"colab-df-container\">\n",
       "    <div>\n",
       "<style scoped>\n",
       "    .dataframe tbody tr th:only-of-type {\n",
       "        vertical-align: middle;\n",
       "    }\n",
       "\n",
       "    .dataframe tbody tr th {\n",
       "        vertical-align: top;\n",
       "    }\n",
       "\n",
       "    .dataframe thead th {\n",
       "        text-align: right;\n",
       "    }\n",
       "</style>\n",
       "<table border=\"1\" class=\"dataframe\">\n",
       "  <thead>\n",
       "    <tr style=\"text-align: right;\">\n",
       "      <th></th>\n",
       "      <th>tBodyAcc-mean()-X</th>\n",
       "      <th>tBodyAcc-mean()-Y</th>\n",
       "      <th>tBodyAcc-mean()-Z</th>\n",
       "      <th>tBodyAcc-std()-X</th>\n",
       "      <th>tBodyAcc-std()-Y</th>\n",
       "      <th>tBodyAcc-std()-Z</th>\n",
       "      <th>tBodyAcc-mad()-X</th>\n",
       "      <th>tBodyAcc-mad()-Y</th>\n",
       "      <th>tBodyAcc-mad()-Z</th>\n",
       "      <th>tBodyAcc-max()-X</th>\n",
       "      <th>...</th>\n",
       "      <th>fBodyBodyGyroJerkMag-skewness()</th>\n",
       "      <th>fBodyBodyGyroJerkMag-kurtosis()</th>\n",
       "      <th>angle(tBodyAccMean,gravity)</th>\n",
       "      <th>angle(tBodyAccJerkMean),gravityMean)</th>\n",
       "      <th>angle(tBodyGyroMean,gravityMean)</th>\n",
       "      <th>angle(tBodyGyroJerkMean,gravityMean)</th>\n",
       "      <th>angle(X,gravityMean)</th>\n",
       "      <th>angle(Y,gravityMean)</th>\n",
       "      <th>angle(Z,gravityMean)</th>\n",
       "      <th>subject</th>\n",
       "    </tr>\n",
       "  </thead>\n",
       "  <tbody>\n",
       "    <tr>\n",
       "      <th>count</th>\n",
       "      <td>5881.000000</td>\n",
       "      <td>5881.000000</td>\n",
       "      <td>5881.000000</td>\n",
       "      <td>5881.000000</td>\n",
       "      <td>5881.000000</td>\n",
       "      <td>5881.000000</td>\n",
       "      <td>5881.000000</td>\n",
       "      <td>5881.000000</td>\n",
       "      <td>5881.000000</td>\n",
       "      <td>5881.000000</td>\n",
       "      <td>...</td>\n",
       "      <td>5881.000000</td>\n",
       "      <td>5881.000000</td>\n",
       "      <td>5881.000000</td>\n",
       "      <td>5881.000000</td>\n",
       "      <td>5881.000000</td>\n",
       "      <td>5881.000000</td>\n",
       "      <td>5881.000000</td>\n",
       "      <td>5881.000000</td>\n",
       "      <td>5881.000000</td>\n",
       "      <td>5881.000000</td>\n",
       "    </tr>\n",
       "    <tr>\n",
       "      <th>mean</th>\n",
       "      <td>0.274811</td>\n",
       "      <td>-0.017799</td>\n",
       "      <td>-0.109396</td>\n",
       "      <td>-0.603138</td>\n",
       "      <td>-0.509815</td>\n",
       "      <td>-0.604058</td>\n",
       "      <td>-0.628151</td>\n",
       "      <td>-0.525944</td>\n",
       "      <td>-0.605374</td>\n",
       "      <td>-0.465490</td>\n",
       "      <td>...</td>\n",
       "      <td>-0.305883</td>\n",
       "      <td>-0.623548</td>\n",
       "      <td>0.008524</td>\n",
       "      <td>-0.001185</td>\n",
       "      <td>0.009340</td>\n",
       "      <td>-0.007099</td>\n",
       "      <td>-0.491501</td>\n",
       "      <td>0.059299</td>\n",
       "      <td>-0.054594</td>\n",
       "      <td>17.381568</td>\n",
       "    </tr>\n",
       "    <tr>\n",
       "      <th>std</th>\n",
       "      <td>0.067614</td>\n",
       "      <td>0.039422</td>\n",
       "      <td>0.058373</td>\n",
       "      <td>0.448807</td>\n",
       "      <td>0.501815</td>\n",
       "      <td>0.417319</td>\n",
       "      <td>0.424345</td>\n",
       "      <td>0.485115</td>\n",
       "      <td>0.413043</td>\n",
       "      <td>0.544995</td>\n",
       "      <td>...</td>\n",
       "      <td>0.322808</td>\n",
       "      <td>0.310371</td>\n",
       "      <td>0.339730</td>\n",
       "      <td>0.447197</td>\n",
       "      <td>0.608190</td>\n",
       "      <td>0.476738</td>\n",
       "      <td>0.509069</td>\n",
       "      <td>0.297340</td>\n",
       "      <td>0.278479</td>\n",
       "      <td>8.938316</td>\n",
       "    </tr>\n",
       "    <tr>\n",
       "      <th>min</th>\n",
       "      <td>-0.503823</td>\n",
       "      <td>-0.684893</td>\n",
       "      <td>-1.000000</td>\n",
       "      <td>-1.000000</td>\n",
       "      <td>-0.999844</td>\n",
       "      <td>-0.999667</td>\n",
       "      <td>-1.000000</td>\n",
       "      <td>-0.999419</td>\n",
       "      <td>-1.000000</td>\n",
       "      <td>-1.000000</td>\n",
       "      <td>...</td>\n",
       "      <td>-0.979261</td>\n",
       "      <td>-0.999765</td>\n",
       "      <td>-0.976580</td>\n",
       "      <td>-1.000000</td>\n",
       "      <td>-1.000000</td>\n",
       "      <td>-1.000000</td>\n",
       "      <td>-1.000000</td>\n",
       "      <td>-1.000000</td>\n",
       "      <td>-0.980143</td>\n",
       "      <td>1.000000</td>\n",
       "    </tr>\n",
       "    <tr>\n",
       "      <th>25%</th>\n",
       "      <td>0.262919</td>\n",
       "      <td>-0.024877</td>\n",
       "      <td>-0.121051</td>\n",
       "      <td>-0.992774</td>\n",
       "      <td>-0.977680</td>\n",
       "      <td>-0.980127</td>\n",
       "      <td>-0.993602</td>\n",
       "      <td>-0.977865</td>\n",
       "      <td>-0.980112</td>\n",
       "      <td>-0.936067</td>\n",
       "      <td>...</td>\n",
       "      <td>-0.541969</td>\n",
       "      <td>-0.845985</td>\n",
       "      <td>-0.122361</td>\n",
       "      <td>-0.294369</td>\n",
       "      <td>-0.481718</td>\n",
       "      <td>-0.373345</td>\n",
       "      <td>-0.811397</td>\n",
       "      <td>-0.018203</td>\n",
       "      <td>-0.141555</td>\n",
       "      <td>8.000000</td>\n",
       "    </tr>\n",
       "    <tr>\n",
       "      <th>50%</th>\n",
       "      <td>0.277154</td>\n",
       "      <td>-0.017221</td>\n",
       "      <td>-0.108781</td>\n",
       "      <td>-0.943933</td>\n",
       "      <td>-0.844575</td>\n",
       "      <td>-0.856352</td>\n",
       "      <td>-0.948501</td>\n",
       "      <td>-0.849266</td>\n",
       "      <td>-0.849896</td>\n",
       "      <td>-0.878729</td>\n",
       "      <td>...</td>\n",
       "      <td>-0.342923</td>\n",
       "      <td>-0.712677</td>\n",
       "      <td>0.010278</td>\n",
       "      <td>0.005146</td>\n",
       "      <td>0.011448</td>\n",
       "      <td>-0.000847</td>\n",
       "      <td>-0.709441</td>\n",
       "      <td>0.182893</td>\n",
       "      <td>0.003951</td>\n",
       "      <td>19.000000</td>\n",
       "    </tr>\n",
       "    <tr>\n",
       "      <th>75%</th>\n",
       "      <td>0.288526</td>\n",
       "      <td>-0.010920</td>\n",
       "      <td>-0.098163</td>\n",
       "      <td>-0.242130</td>\n",
       "      <td>-0.034499</td>\n",
       "      <td>-0.262690</td>\n",
       "      <td>-0.291138</td>\n",
       "      <td>-0.068857</td>\n",
       "      <td>-0.268539</td>\n",
       "      <td>-0.013690</td>\n",
       "      <td>...</td>\n",
       "      <td>-0.127371</td>\n",
       "      <td>-0.501158</td>\n",
       "      <td>0.154985</td>\n",
       "      <td>0.285030</td>\n",
       "      <td>0.499857</td>\n",
       "      <td>0.356236</td>\n",
       "      <td>-0.511330</td>\n",
       "      <td>0.248435</td>\n",
       "      <td>0.111932</td>\n",
       "      <td>26.000000</td>\n",
       "    </tr>\n",
       "    <tr>\n",
       "      <th>max</th>\n",
       "      <td>1.000000</td>\n",
       "      <td>1.000000</td>\n",
       "      <td>1.000000</td>\n",
       "      <td>1.000000</td>\n",
       "      <td>0.916238</td>\n",
       "      <td>1.000000</td>\n",
       "      <td>1.000000</td>\n",
       "      <td>0.967664</td>\n",
       "      <td>1.000000</td>\n",
       "      <td>1.000000</td>\n",
       "      <td>...</td>\n",
       "      <td>0.989538</td>\n",
       "      <td>0.956845</td>\n",
       "      <td>1.000000</td>\n",
       "      <td>1.000000</td>\n",
       "      <td>0.998702</td>\n",
       "      <td>0.996078</td>\n",
       "      <td>0.977344</td>\n",
       "      <td>0.478157</td>\n",
       "      <td>1.000000</td>\n",
       "      <td>30.000000</td>\n",
       "    </tr>\n",
       "  </tbody>\n",
       "</table>\n",
       "<p>8 rows × 562 columns</p>\n",
       "</div>\n",
       "    <div class=\"colab-df-buttons\">\n",
       "\n",
       "  <div class=\"colab-df-container\">\n",
       "    <button class=\"colab-df-convert\" onclick=\"convertToInteractive('df-11025447-bc57-4a03-b369-720f9264aeb3')\"\n",
       "            title=\"Convert this dataframe to an interactive table.\"\n",
       "            style=\"display:none;\">\n",
       "\n",
       "  <svg xmlns=\"http://www.w3.org/2000/svg\" height=\"24px\" viewBox=\"0 -960 960 960\">\n",
       "    <path d=\"M120-120v-720h720v720H120Zm60-500h600v-160H180v160Zm220 220h160v-160H400v160Zm0 220h160v-160H400v160ZM180-400h160v-160H180v160Zm440 0h160v-160H620v160ZM180-180h160v-160H180v160Zm440 0h160v-160H620v160Z\"/>\n",
       "  </svg>\n",
       "    </button>\n",
       "\n",
       "  <style>\n",
       "    .colab-df-container {\n",
       "      display:flex;\n",
       "      gap: 12px;\n",
       "    }\n",
       "\n",
       "    .colab-df-convert {\n",
       "      background-color: #E8F0FE;\n",
       "      border: none;\n",
       "      border-radius: 50%;\n",
       "      cursor: pointer;\n",
       "      display: none;\n",
       "      fill: #1967D2;\n",
       "      height: 32px;\n",
       "      padding: 0 0 0 0;\n",
       "      width: 32px;\n",
       "    }\n",
       "\n",
       "    .colab-df-convert:hover {\n",
       "      background-color: #E2EBFA;\n",
       "      box-shadow: 0px 1px 2px rgba(60, 64, 67, 0.3), 0px 1px 3px 1px rgba(60, 64, 67, 0.15);\n",
       "      fill: #174EA6;\n",
       "    }\n",
       "\n",
       "    .colab-df-buttons div {\n",
       "      margin-bottom: 4px;\n",
       "    }\n",
       "\n",
       "    [theme=dark] .colab-df-convert {\n",
       "      background-color: #3B4455;\n",
       "      fill: #D2E3FC;\n",
       "    }\n",
       "\n",
       "    [theme=dark] .colab-df-convert:hover {\n",
       "      background-color: #434B5C;\n",
       "      box-shadow: 0px 1px 3px 1px rgba(0, 0, 0, 0.15);\n",
       "      filter: drop-shadow(0px 1px 2px rgba(0, 0, 0, 0.3));\n",
       "      fill: #FFFFFF;\n",
       "    }\n",
       "  </style>\n",
       "\n",
       "    <script>\n",
       "      const buttonEl =\n",
       "        document.querySelector('#df-11025447-bc57-4a03-b369-720f9264aeb3 button.colab-df-convert');\n",
       "      buttonEl.style.display =\n",
       "        google.colab.kernel.accessAllowed ? 'block' : 'none';\n",
       "\n",
       "      async function convertToInteractive(key) {\n",
       "        const element = document.querySelector('#df-11025447-bc57-4a03-b369-720f9264aeb3');\n",
       "        const dataTable =\n",
       "          await google.colab.kernel.invokeFunction('convertToInteractive',\n",
       "                                                    [key], {});\n",
       "        if (!dataTable) return;\n",
       "\n",
       "        const docLinkHtml = 'Like what you see? Visit the ' +\n",
       "          '<a target=\"_blank\" href=https://colab.research.google.com/notebooks/data_table.ipynb>data table notebook</a>'\n",
       "          + ' to learn more about interactive tables.';\n",
       "        element.innerHTML = '';\n",
       "        dataTable['output_type'] = 'display_data';\n",
       "        await google.colab.output.renderOutput(dataTable, element);\n",
       "        const docLink = document.createElement('div');\n",
       "        docLink.innerHTML = docLinkHtml;\n",
       "        element.appendChild(docLink);\n",
       "      }\n",
       "    </script>\n",
       "  </div>\n",
       "\n",
       "\n",
       "<div id=\"df-d68fd83b-6aad-4f5c-a95b-02001fe7a41a\">\n",
       "  <button class=\"colab-df-quickchart\" onclick=\"quickchart('df-d68fd83b-6aad-4f5c-a95b-02001fe7a41a')\"\n",
       "            title=\"Suggest charts\"\n",
       "            style=\"display:none;\">\n",
       "\n",
       "<svg xmlns=\"http://www.w3.org/2000/svg\" height=\"24px\"viewBox=\"0 0 24 24\"\n",
       "     width=\"24px\">\n",
       "    <g>\n",
       "        <path d=\"M19 3H5c-1.1 0-2 .9-2 2v14c0 1.1.9 2 2 2h14c1.1 0 2-.9 2-2V5c0-1.1-.9-2-2-2zM9 17H7v-7h2v7zm4 0h-2V7h2v10zm4 0h-2v-4h2v4z\"/>\n",
       "    </g>\n",
       "</svg>\n",
       "  </button>\n",
       "\n",
       "<style>\n",
       "  .colab-df-quickchart {\n",
       "      --bg-color: #E8F0FE;\n",
       "      --fill-color: #1967D2;\n",
       "      --hover-bg-color: #E2EBFA;\n",
       "      --hover-fill-color: #174EA6;\n",
       "      --disabled-fill-color: #AAA;\n",
       "      --disabled-bg-color: #DDD;\n",
       "  }\n",
       "\n",
       "  [theme=dark] .colab-df-quickchart {\n",
       "      --bg-color: #3B4455;\n",
       "      --fill-color: #D2E3FC;\n",
       "      --hover-bg-color: #434B5C;\n",
       "      --hover-fill-color: #FFFFFF;\n",
       "      --disabled-bg-color: #3B4455;\n",
       "      --disabled-fill-color: #666;\n",
       "  }\n",
       "\n",
       "  .colab-df-quickchart {\n",
       "    background-color: var(--bg-color);\n",
       "    border: none;\n",
       "    border-radius: 50%;\n",
       "    cursor: pointer;\n",
       "    display: none;\n",
       "    fill: var(--fill-color);\n",
       "    height: 32px;\n",
       "    padding: 0;\n",
       "    width: 32px;\n",
       "  }\n",
       "\n",
       "  .colab-df-quickchart:hover {\n",
       "    background-color: var(--hover-bg-color);\n",
       "    box-shadow: 0 1px 2px rgba(60, 64, 67, 0.3), 0 1px 3px 1px rgba(60, 64, 67, 0.15);\n",
       "    fill: var(--button-hover-fill-color);\n",
       "  }\n",
       "\n",
       "  .colab-df-quickchart-complete:disabled,\n",
       "  .colab-df-quickchart-complete:disabled:hover {\n",
       "    background-color: var(--disabled-bg-color);\n",
       "    fill: var(--disabled-fill-color);\n",
       "    box-shadow: none;\n",
       "  }\n",
       "\n",
       "  .colab-df-spinner {\n",
       "    border: 2px solid var(--fill-color);\n",
       "    border-color: transparent;\n",
       "    border-bottom-color: var(--fill-color);\n",
       "    animation:\n",
       "      spin 1s steps(1) infinite;\n",
       "  }\n",
       "\n",
       "  @keyframes spin {\n",
       "    0% {\n",
       "      border-color: transparent;\n",
       "      border-bottom-color: var(--fill-color);\n",
       "      border-left-color: var(--fill-color);\n",
       "    }\n",
       "    20% {\n",
       "      border-color: transparent;\n",
       "      border-left-color: var(--fill-color);\n",
       "      border-top-color: var(--fill-color);\n",
       "    }\n",
       "    30% {\n",
       "      border-color: transparent;\n",
       "      border-left-color: var(--fill-color);\n",
       "      border-top-color: var(--fill-color);\n",
       "      border-right-color: var(--fill-color);\n",
       "    }\n",
       "    40% {\n",
       "      border-color: transparent;\n",
       "      border-right-color: var(--fill-color);\n",
       "      border-top-color: var(--fill-color);\n",
       "    }\n",
       "    60% {\n",
       "      border-color: transparent;\n",
       "      border-right-color: var(--fill-color);\n",
       "    }\n",
       "    80% {\n",
       "      border-color: transparent;\n",
       "      border-right-color: var(--fill-color);\n",
       "      border-bottom-color: var(--fill-color);\n",
       "    }\n",
       "    90% {\n",
       "      border-color: transparent;\n",
       "      border-bottom-color: var(--fill-color);\n",
       "    }\n",
       "  }\n",
       "</style>\n",
       "\n",
       "  <script>\n",
       "    async function quickchart(key) {\n",
       "      const quickchartButtonEl =\n",
       "        document.querySelector('#' + key + ' button');\n",
       "      quickchartButtonEl.disabled = true;  // To prevent multiple clicks.\n",
       "      quickchartButtonEl.classList.add('colab-df-spinner');\n",
       "      try {\n",
       "        const charts = await google.colab.kernel.invokeFunction(\n",
       "            'suggestCharts', [key], {});\n",
       "      } catch (error) {\n",
       "        console.error('Error during call to suggestCharts:', error);\n",
       "      }\n",
       "      quickchartButtonEl.classList.remove('colab-df-spinner');\n",
       "      quickchartButtonEl.classList.add('colab-df-quickchart-complete');\n",
       "    }\n",
       "    (() => {\n",
       "      let quickchartButtonEl =\n",
       "        document.querySelector('#df-d68fd83b-6aad-4f5c-a95b-02001fe7a41a button');\n",
       "      quickchartButtonEl.style.display =\n",
       "        google.colab.kernel.accessAllowed ? 'block' : 'none';\n",
       "    })();\n",
       "  </script>\n",
       "</div>\n",
       "\n",
       "    </div>\n",
       "  </div>\n"
      ],
      "text/plain": [
       "       tBodyAcc-mean()-X  tBodyAcc-mean()-Y  tBodyAcc-mean()-Z  \\\n",
       "count        5881.000000        5881.000000        5881.000000   \n",
       "mean            0.274811          -0.017799          -0.109396   \n",
       "std             0.067614           0.039422           0.058373   \n",
       "min            -0.503823          -0.684893          -1.000000   \n",
       "25%             0.262919          -0.024877          -0.121051   \n",
       "50%             0.277154          -0.017221          -0.108781   \n",
       "75%             0.288526          -0.010920          -0.098163   \n",
       "max             1.000000           1.000000           1.000000   \n",
       "\n",
       "       tBodyAcc-std()-X  tBodyAcc-std()-Y  tBodyAcc-std()-Z  tBodyAcc-mad()-X  \\\n",
       "count       5881.000000       5881.000000       5881.000000       5881.000000   \n",
       "mean          -0.603138         -0.509815         -0.604058         -0.628151   \n",
       "std            0.448807          0.501815          0.417319          0.424345   \n",
       "min           -1.000000         -0.999844         -0.999667         -1.000000   \n",
       "25%           -0.992774         -0.977680         -0.980127         -0.993602   \n",
       "50%           -0.943933         -0.844575         -0.856352         -0.948501   \n",
       "75%           -0.242130         -0.034499         -0.262690         -0.291138   \n",
       "max            1.000000          0.916238          1.000000          1.000000   \n",
       "\n",
       "       tBodyAcc-mad()-Y  tBodyAcc-mad()-Z  tBodyAcc-max()-X  ...  \\\n",
       "count       5881.000000       5881.000000       5881.000000  ...   \n",
       "mean          -0.525944         -0.605374         -0.465490  ...   \n",
       "std            0.485115          0.413043          0.544995  ...   \n",
       "min           -0.999419         -1.000000         -1.000000  ...   \n",
       "25%           -0.977865         -0.980112         -0.936067  ...   \n",
       "50%           -0.849266         -0.849896         -0.878729  ...   \n",
       "75%           -0.068857         -0.268539         -0.013690  ...   \n",
       "max            0.967664          1.000000          1.000000  ...   \n",
       "\n",
       "       fBodyBodyGyroJerkMag-skewness()  fBodyBodyGyroJerkMag-kurtosis()  \\\n",
       "count                      5881.000000                      5881.000000   \n",
       "mean                         -0.305883                        -0.623548   \n",
       "std                           0.322808                         0.310371   \n",
       "min                          -0.979261                        -0.999765   \n",
       "25%                          -0.541969                        -0.845985   \n",
       "50%                          -0.342923                        -0.712677   \n",
       "75%                          -0.127371                        -0.501158   \n",
       "max                           0.989538                         0.956845   \n",
       "\n",
       "       angle(tBodyAccMean,gravity)  angle(tBodyAccJerkMean),gravityMean)  \\\n",
       "count                  5881.000000                           5881.000000   \n",
       "mean                      0.008524                             -0.001185   \n",
       "std                       0.339730                              0.447197   \n",
       "min                      -0.976580                             -1.000000   \n",
       "25%                      -0.122361                             -0.294369   \n",
       "50%                       0.010278                              0.005146   \n",
       "75%                       0.154985                              0.285030   \n",
       "max                       1.000000                              1.000000   \n",
       "\n",
       "       angle(tBodyGyroMean,gravityMean)  angle(tBodyGyroJerkMean,gravityMean)  \\\n",
       "count                       5881.000000                           5881.000000   \n",
       "mean                           0.009340                             -0.007099   \n",
       "std                            0.608190                              0.476738   \n",
       "min                           -1.000000                             -1.000000   \n",
       "25%                           -0.481718                             -0.373345   \n",
       "50%                            0.011448                             -0.000847   \n",
       "75%                            0.499857                              0.356236   \n",
       "max                            0.998702                              0.996078   \n",
       "\n",
       "       angle(X,gravityMean)  angle(Y,gravityMean)  angle(Z,gravityMean)  \\\n",
       "count           5881.000000           5881.000000           5881.000000   \n",
       "mean              -0.491501              0.059299             -0.054594   \n",
       "std                0.509069              0.297340              0.278479   \n",
       "min               -1.000000             -1.000000             -0.980143   \n",
       "25%               -0.811397             -0.018203             -0.141555   \n",
       "50%               -0.709441              0.182893              0.003951   \n",
       "75%               -0.511330              0.248435              0.111932   \n",
       "max                0.977344              0.478157              1.000000   \n",
       "\n",
       "           subject  \n",
       "count  5881.000000  \n",
       "mean     17.381568  \n",
       "std       8.938316  \n",
       "min       1.000000  \n",
       "25%       8.000000  \n",
       "50%      19.000000  \n",
       "75%      26.000000  \n",
       "max      30.000000  \n",
       "\n",
       "[8 rows x 562 columns]"
      ]
     },
     "execution_count": 8,
     "metadata": {},
     "output_type": "execute_result"
    }
   ],
   "source": [
    "data1.describe()"
   ]
  },
  {
   "cell_type": "code",
   "execution_count": 9,
   "metadata": {
    "colab": {
     "base_uri": "https://localhost:8080/",
     "height": 367
    },
    "executionInfo": {
     "elapsed": 2128,
     "status": "ok",
     "timestamp": 1729231780991,
     "user": {
      "displayName": "강해찬",
      "userId": "08180896618044652518"
     },
     "user_tz": -540
    },
    "id": "ajJ1qJkhpr3n",
    "outputId": "1c2beb3e-8033-4b2e-bda5-3f12cc2f0ffb"
   },
   "outputs": [
    {
     "data": {
      "application/vnd.google.colaboratory.intrinsic+json": {
       "type": "dataframe"
      },
      "text/html": [
       "\n",
       "  <div id=\"df-3180c92b-2132-4e93-bf69-30159a71aea2\" class=\"colab-df-container\">\n",
       "    <div>\n",
       "<style scoped>\n",
       "    .dataframe tbody tr th:only-of-type {\n",
       "        vertical-align: middle;\n",
       "    }\n",
       "\n",
       "    .dataframe tbody tr th {\n",
       "        vertical-align: top;\n",
       "    }\n",
       "\n",
       "    .dataframe thead th {\n",
       "        text-align: right;\n",
       "    }\n",
       "</style>\n",
       "<table border=\"1\" class=\"dataframe\">\n",
       "  <thead>\n",
       "    <tr style=\"text-align: right;\">\n",
       "      <th></th>\n",
       "      <th>tBodyAcc-mean()-X</th>\n",
       "      <th>tBodyAcc-mean()-Y</th>\n",
       "      <th>tBodyAcc-mean()-Z</th>\n",
       "      <th>tBodyAcc-std()-X</th>\n",
       "      <th>tBodyAcc-std()-Y</th>\n",
       "      <th>tBodyAcc-std()-Z</th>\n",
       "      <th>tBodyAcc-mad()-X</th>\n",
       "      <th>tBodyAcc-mad()-Y</th>\n",
       "      <th>tBodyAcc-mad()-Z</th>\n",
       "      <th>tBodyAcc-max()-X</th>\n",
       "      <th>...</th>\n",
       "      <th>fBodyBodyGyroJerkMag-skewness()</th>\n",
       "      <th>fBodyBodyGyroJerkMag-kurtosis()</th>\n",
       "      <th>angle(tBodyAccMean,gravity)</th>\n",
       "      <th>angle(tBodyAccJerkMean),gravityMean)</th>\n",
       "      <th>angle(tBodyGyroMean,gravityMean)</th>\n",
       "      <th>angle(tBodyGyroJerkMean,gravityMean)</th>\n",
       "      <th>angle(X,gravityMean)</th>\n",
       "      <th>angle(Y,gravityMean)</th>\n",
       "      <th>angle(Z,gravityMean)</th>\n",
       "      <th>subject</th>\n",
       "    </tr>\n",
       "  </thead>\n",
       "  <tbody>\n",
       "    <tr>\n",
       "      <th>count</th>\n",
       "      <td>1471.000000</td>\n",
       "      <td>1471.000000</td>\n",
       "      <td>1471.000000</td>\n",
       "      <td>1471.000000</td>\n",
       "      <td>1471.000000</td>\n",
       "      <td>1471.000000</td>\n",
       "      <td>1471.000000</td>\n",
       "      <td>1471.000000</td>\n",
       "      <td>1471.000000</td>\n",
       "      <td>1471.000000</td>\n",
       "      <td>...</td>\n",
       "      <td>1471.000000</td>\n",
       "      <td>1471.000000</td>\n",
       "      <td>1471.000000</td>\n",
       "      <td>1471.000000</td>\n",
       "      <td>1471.000000</td>\n",
       "      <td>1471.000000</td>\n",
       "      <td>1471.000000</td>\n",
       "      <td>1471.000000</td>\n",
       "      <td>1471.000000</td>\n",
       "      <td>1471.000000</td>\n",
       "    </tr>\n",
       "    <tr>\n",
       "      <th>mean</th>\n",
       "      <td>0.273198</td>\n",
       "      <td>-0.017281</td>\n",
       "      <td>-0.108123</td>\n",
       "      <td>-0.614634</td>\n",
       "      <td>-0.515427</td>\n",
       "      <td>-0.607533</td>\n",
       "      <td>-0.639950</td>\n",
       "      <td>-0.530760</td>\n",
       "      <td>-0.609256</td>\n",
       "      <td>-0.481055</td>\n",
       "      <td>...</td>\n",
       "      <td>-0.311513</td>\n",
       "      <td>-0.632273</td>\n",
       "      <td>0.009324</td>\n",
       "      <td>0.015666</td>\n",
       "      <td>0.006272</td>\n",
       "      <td>-0.001510</td>\n",
       "      <td>-0.481737</td>\n",
       "      <td>0.055771</td>\n",
       "      <td>-0.064194</td>\n",
       "      <td>17.539089</td>\n",
       "    </tr>\n",
       "    <tr>\n",
       "      <th>std</th>\n",
       "      <td>0.079989</td>\n",
       "      <td>0.045957</td>\n",
       "      <td>0.049082</td>\n",
       "      <td>0.448480</td>\n",
       "      <td>0.506094</td>\n",
       "      <td>0.424243</td>\n",
       "      <td>0.422994</td>\n",
       "      <td>0.489381</td>\n",
       "      <td>0.418536</td>\n",
       "      <td>0.542756</td>\n",
       "      <td>...</td>\n",
       "      <td>0.313792</td>\n",
       "      <td>0.296179</td>\n",
       "      <td>0.324864</td>\n",
       "      <td>0.452616</td>\n",
       "      <td>0.608954</td>\n",
       "      <td>0.483028</td>\n",
       "      <td>0.522714</td>\n",
       "      <td>0.298124</td>\n",
       "      <td>0.281645</td>\n",
       "      <td>9.122876</td>\n",
       "    </tr>\n",
       "    <tr>\n",
       "      <th>min</th>\n",
       "      <td>-1.000000</td>\n",
       "      <td>-1.000000</td>\n",
       "      <td>-0.418354</td>\n",
       "      <td>-0.999717</td>\n",
       "      <td>-0.999873</td>\n",
       "      <td>-1.000000</td>\n",
       "      <td>-0.999867</td>\n",
       "      <td>-1.000000</td>\n",
       "      <td>-0.999879</td>\n",
       "      <td>-0.948723</td>\n",
       "      <td>...</td>\n",
       "      <td>-0.995357</td>\n",
       "      <td>-0.994664</td>\n",
       "      <td>-0.937468</td>\n",
       "      <td>-0.990492</td>\n",
       "      <td>-0.995222</td>\n",
       "      <td>-0.969066</td>\n",
       "      <td>-0.999380</td>\n",
       "      <td>-0.995073</td>\n",
       "      <td>-1.000000</td>\n",
       "      <td>1.000000</td>\n",
       "    </tr>\n",
       "    <tr>\n",
       "      <th>25%</th>\n",
       "      <td>0.263787</td>\n",
       "      <td>-0.024792</td>\n",
       "      <td>-0.120733</td>\n",
       "      <td>-0.992669</td>\n",
       "      <td>-0.979082</td>\n",
       "      <td>-0.981070</td>\n",
       "      <td>-0.993498</td>\n",
       "      <td>-0.979214</td>\n",
       "      <td>-0.980659</td>\n",
       "      <td>-0.936791</td>\n",
       "      <td>...</td>\n",
       "      <td>-0.546342</td>\n",
       "      <td>-0.844547</td>\n",
       "      <td>-0.119166</td>\n",
       "      <td>-0.265533</td>\n",
       "      <td>-0.485998</td>\n",
       "      <td>-0.380300</td>\n",
       "      <td>-0.814060</td>\n",
       "      <td>-0.017413</td>\n",
       "      <td>-0.148445</td>\n",
       "      <td>8.000000</td>\n",
       "    </tr>\n",
       "    <tr>\n",
       "      <th>50%</th>\n",
       "      <td>0.277322</td>\n",
       "      <td>-0.017187</td>\n",
       "      <td>-0.108124</td>\n",
       "      <td>-0.952426</td>\n",
       "      <td>-0.867309</td>\n",
       "      <td>-0.869890</td>\n",
       "      <td>-0.958705</td>\n",
       "      <td>-0.873891</td>\n",
       "      <td>-0.863451</td>\n",
       "      <td>-0.890491</td>\n",
       "      <td>...</td>\n",
       "      <td>-0.347433</td>\n",
       "      <td>-0.706699</td>\n",
       "      <td>0.005049</td>\n",
       "      <td>0.023421</td>\n",
       "      <td>-0.005036</td>\n",
       "      <td>0.002408</td>\n",
       "      <td>-0.708911</td>\n",
       "      <td>0.178814</td>\n",
       "      <td>-0.002243</td>\n",
       "      <td>19.000000</td>\n",
       "    </tr>\n",
       "    <tr>\n",
       "      <th>75%</th>\n",
       "      <td>0.288058</td>\n",
       "      <td>-0.010238</td>\n",
       "      <td>-0.096606</td>\n",
       "      <td>-0.245405</td>\n",
       "      <td>-0.030639</td>\n",
       "      <td>-0.260223</td>\n",
       "      <td>-0.297260</td>\n",
       "      <td>-0.058824</td>\n",
       "      <td>-0.256657</td>\n",
       "      <td>-0.030692</td>\n",
       "      <td>...</td>\n",
       "      <td>-0.125796</td>\n",
       "      <td>-0.516910</td>\n",
       "      <td>0.135698</td>\n",
       "      <td>0.312690</td>\n",
       "      <td>0.518184</td>\n",
       "      <td>0.374583</td>\n",
       "      <td>-0.486534</td>\n",
       "      <td>0.248126</td>\n",
       "      <td>0.096674</td>\n",
       "      <td>26.000000</td>\n",
       "    </tr>\n",
       "    <tr>\n",
       "      <th>max</th>\n",
       "      <td>0.631510</td>\n",
       "      <td>0.359587</td>\n",
       "      <td>0.543939</td>\n",
       "      <td>0.899922</td>\n",
       "      <td>0.782590</td>\n",
       "      <td>0.931308</td>\n",
       "      <td>0.950758</td>\n",
       "      <td>0.602458</td>\n",
       "      <td>0.784041</td>\n",
       "      <td>0.821218</td>\n",
       "      <td>...</td>\n",
       "      <td>0.941113</td>\n",
       "      <td>0.894210</td>\n",
       "      <td>0.980889</td>\n",
       "      <td>0.991899</td>\n",
       "      <td>0.994366</td>\n",
       "      <td>0.979522</td>\n",
       "      <td>1.000000</td>\n",
       "      <td>0.432496</td>\n",
       "      <td>0.992766</td>\n",
       "      <td>30.000000</td>\n",
       "    </tr>\n",
       "  </tbody>\n",
       "</table>\n",
       "<p>8 rows × 562 columns</p>\n",
       "</div>\n",
       "    <div class=\"colab-df-buttons\">\n",
       "\n",
       "  <div class=\"colab-df-container\">\n",
       "    <button class=\"colab-df-convert\" onclick=\"convertToInteractive('df-3180c92b-2132-4e93-bf69-30159a71aea2')\"\n",
       "            title=\"Convert this dataframe to an interactive table.\"\n",
       "            style=\"display:none;\">\n",
       "\n",
       "  <svg xmlns=\"http://www.w3.org/2000/svg\" height=\"24px\" viewBox=\"0 -960 960 960\">\n",
       "    <path d=\"M120-120v-720h720v720H120Zm60-500h600v-160H180v160Zm220 220h160v-160H400v160Zm0 220h160v-160H400v160ZM180-400h160v-160H180v160Zm440 0h160v-160H620v160ZM180-180h160v-160H180v160Zm440 0h160v-160H620v160Z\"/>\n",
       "  </svg>\n",
       "    </button>\n",
       "\n",
       "  <style>\n",
       "    .colab-df-container {\n",
       "      display:flex;\n",
       "      gap: 12px;\n",
       "    }\n",
       "\n",
       "    .colab-df-convert {\n",
       "      background-color: #E8F0FE;\n",
       "      border: none;\n",
       "      border-radius: 50%;\n",
       "      cursor: pointer;\n",
       "      display: none;\n",
       "      fill: #1967D2;\n",
       "      height: 32px;\n",
       "      padding: 0 0 0 0;\n",
       "      width: 32px;\n",
       "    }\n",
       "\n",
       "    .colab-df-convert:hover {\n",
       "      background-color: #E2EBFA;\n",
       "      box-shadow: 0px 1px 2px rgba(60, 64, 67, 0.3), 0px 1px 3px 1px rgba(60, 64, 67, 0.15);\n",
       "      fill: #174EA6;\n",
       "    }\n",
       "\n",
       "    .colab-df-buttons div {\n",
       "      margin-bottom: 4px;\n",
       "    }\n",
       "\n",
       "    [theme=dark] .colab-df-convert {\n",
       "      background-color: #3B4455;\n",
       "      fill: #D2E3FC;\n",
       "    }\n",
       "\n",
       "    [theme=dark] .colab-df-convert:hover {\n",
       "      background-color: #434B5C;\n",
       "      box-shadow: 0px 1px 3px 1px rgba(0, 0, 0, 0.15);\n",
       "      filter: drop-shadow(0px 1px 2px rgba(0, 0, 0, 0.3));\n",
       "      fill: #FFFFFF;\n",
       "    }\n",
       "  </style>\n",
       "\n",
       "    <script>\n",
       "      const buttonEl =\n",
       "        document.querySelector('#df-3180c92b-2132-4e93-bf69-30159a71aea2 button.colab-df-convert');\n",
       "      buttonEl.style.display =\n",
       "        google.colab.kernel.accessAllowed ? 'block' : 'none';\n",
       "\n",
       "      async function convertToInteractive(key) {\n",
       "        const element = document.querySelector('#df-3180c92b-2132-4e93-bf69-30159a71aea2');\n",
       "        const dataTable =\n",
       "          await google.colab.kernel.invokeFunction('convertToInteractive',\n",
       "                                                    [key], {});\n",
       "        if (!dataTable) return;\n",
       "\n",
       "        const docLinkHtml = 'Like what you see? Visit the ' +\n",
       "          '<a target=\"_blank\" href=https://colab.research.google.com/notebooks/data_table.ipynb>data table notebook</a>'\n",
       "          + ' to learn more about interactive tables.';\n",
       "        element.innerHTML = '';\n",
       "        dataTable['output_type'] = 'display_data';\n",
       "        await google.colab.output.renderOutput(dataTable, element);\n",
       "        const docLink = document.createElement('div');\n",
       "        docLink.innerHTML = docLinkHtml;\n",
       "        element.appendChild(docLink);\n",
       "      }\n",
       "    </script>\n",
       "  </div>\n",
       "\n",
       "\n",
       "<div id=\"df-a3ce4ce4-5e59-40e7-9f8e-181c6ab5ed00\">\n",
       "  <button class=\"colab-df-quickchart\" onclick=\"quickchart('df-a3ce4ce4-5e59-40e7-9f8e-181c6ab5ed00')\"\n",
       "            title=\"Suggest charts\"\n",
       "            style=\"display:none;\">\n",
       "\n",
       "<svg xmlns=\"http://www.w3.org/2000/svg\" height=\"24px\"viewBox=\"0 0 24 24\"\n",
       "     width=\"24px\">\n",
       "    <g>\n",
       "        <path d=\"M19 3H5c-1.1 0-2 .9-2 2v14c0 1.1.9 2 2 2h14c1.1 0 2-.9 2-2V5c0-1.1-.9-2-2-2zM9 17H7v-7h2v7zm4 0h-2V7h2v10zm4 0h-2v-4h2v4z\"/>\n",
       "    </g>\n",
       "</svg>\n",
       "  </button>\n",
       "\n",
       "<style>\n",
       "  .colab-df-quickchart {\n",
       "      --bg-color: #E8F0FE;\n",
       "      --fill-color: #1967D2;\n",
       "      --hover-bg-color: #E2EBFA;\n",
       "      --hover-fill-color: #174EA6;\n",
       "      --disabled-fill-color: #AAA;\n",
       "      --disabled-bg-color: #DDD;\n",
       "  }\n",
       "\n",
       "  [theme=dark] .colab-df-quickchart {\n",
       "      --bg-color: #3B4455;\n",
       "      --fill-color: #D2E3FC;\n",
       "      --hover-bg-color: #434B5C;\n",
       "      --hover-fill-color: #FFFFFF;\n",
       "      --disabled-bg-color: #3B4455;\n",
       "      --disabled-fill-color: #666;\n",
       "  }\n",
       "\n",
       "  .colab-df-quickchart {\n",
       "    background-color: var(--bg-color);\n",
       "    border: none;\n",
       "    border-radius: 50%;\n",
       "    cursor: pointer;\n",
       "    display: none;\n",
       "    fill: var(--fill-color);\n",
       "    height: 32px;\n",
       "    padding: 0;\n",
       "    width: 32px;\n",
       "  }\n",
       "\n",
       "  .colab-df-quickchart:hover {\n",
       "    background-color: var(--hover-bg-color);\n",
       "    box-shadow: 0 1px 2px rgba(60, 64, 67, 0.3), 0 1px 3px 1px rgba(60, 64, 67, 0.15);\n",
       "    fill: var(--button-hover-fill-color);\n",
       "  }\n",
       "\n",
       "  .colab-df-quickchart-complete:disabled,\n",
       "  .colab-df-quickchart-complete:disabled:hover {\n",
       "    background-color: var(--disabled-bg-color);\n",
       "    fill: var(--disabled-fill-color);\n",
       "    box-shadow: none;\n",
       "  }\n",
       "\n",
       "  .colab-df-spinner {\n",
       "    border: 2px solid var(--fill-color);\n",
       "    border-color: transparent;\n",
       "    border-bottom-color: var(--fill-color);\n",
       "    animation:\n",
       "      spin 1s steps(1) infinite;\n",
       "  }\n",
       "\n",
       "  @keyframes spin {\n",
       "    0% {\n",
       "      border-color: transparent;\n",
       "      border-bottom-color: var(--fill-color);\n",
       "      border-left-color: var(--fill-color);\n",
       "    }\n",
       "    20% {\n",
       "      border-color: transparent;\n",
       "      border-left-color: var(--fill-color);\n",
       "      border-top-color: var(--fill-color);\n",
       "    }\n",
       "    30% {\n",
       "      border-color: transparent;\n",
       "      border-left-color: var(--fill-color);\n",
       "      border-top-color: var(--fill-color);\n",
       "      border-right-color: var(--fill-color);\n",
       "    }\n",
       "    40% {\n",
       "      border-color: transparent;\n",
       "      border-right-color: var(--fill-color);\n",
       "      border-top-color: var(--fill-color);\n",
       "    }\n",
       "    60% {\n",
       "      border-color: transparent;\n",
       "      border-right-color: var(--fill-color);\n",
       "    }\n",
       "    80% {\n",
       "      border-color: transparent;\n",
       "      border-right-color: var(--fill-color);\n",
       "      border-bottom-color: var(--fill-color);\n",
       "    }\n",
       "    90% {\n",
       "      border-color: transparent;\n",
       "      border-bottom-color: var(--fill-color);\n",
       "    }\n",
       "  }\n",
       "</style>\n",
       "\n",
       "  <script>\n",
       "    async function quickchart(key) {\n",
       "      const quickchartButtonEl =\n",
       "        document.querySelector('#' + key + ' button');\n",
       "      quickchartButtonEl.disabled = true;  // To prevent multiple clicks.\n",
       "      quickchartButtonEl.classList.add('colab-df-spinner');\n",
       "      try {\n",
       "        const charts = await google.colab.kernel.invokeFunction(\n",
       "            'suggestCharts', [key], {});\n",
       "      } catch (error) {\n",
       "        console.error('Error during call to suggestCharts:', error);\n",
       "      }\n",
       "      quickchartButtonEl.classList.remove('colab-df-spinner');\n",
       "      quickchartButtonEl.classList.add('colab-df-quickchart-complete');\n",
       "    }\n",
       "    (() => {\n",
       "      let quickchartButtonEl =\n",
       "        document.querySelector('#df-a3ce4ce4-5e59-40e7-9f8e-181c6ab5ed00 button');\n",
       "      quickchartButtonEl.style.display =\n",
       "        google.colab.kernel.accessAllowed ? 'block' : 'none';\n",
       "    })();\n",
       "  </script>\n",
       "</div>\n",
       "\n",
       "    </div>\n",
       "  </div>\n"
      ],
      "text/plain": [
       "       tBodyAcc-mean()-X  tBodyAcc-mean()-Y  tBodyAcc-mean()-Z  \\\n",
       "count        1471.000000        1471.000000        1471.000000   \n",
       "mean            0.273198          -0.017281          -0.108123   \n",
       "std             0.079989           0.045957           0.049082   \n",
       "min            -1.000000          -1.000000          -0.418354   \n",
       "25%             0.263787          -0.024792          -0.120733   \n",
       "50%             0.277322          -0.017187          -0.108124   \n",
       "75%             0.288058          -0.010238          -0.096606   \n",
       "max             0.631510           0.359587           0.543939   \n",
       "\n",
       "       tBodyAcc-std()-X  tBodyAcc-std()-Y  tBodyAcc-std()-Z  tBodyAcc-mad()-X  \\\n",
       "count       1471.000000       1471.000000       1471.000000       1471.000000   \n",
       "mean          -0.614634         -0.515427         -0.607533         -0.639950   \n",
       "std            0.448480          0.506094          0.424243          0.422994   \n",
       "min           -0.999717         -0.999873         -1.000000         -0.999867   \n",
       "25%           -0.992669         -0.979082         -0.981070         -0.993498   \n",
       "50%           -0.952426         -0.867309         -0.869890         -0.958705   \n",
       "75%           -0.245405         -0.030639         -0.260223         -0.297260   \n",
       "max            0.899922          0.782590          0.931308          0.950758   \n",
       "\n",
       "       tBodyAcc-mad()-Y  tBodyAcc-mad()-Z  tBodyAcc-max()-X  ...  \\\n",
       "count       1471.000000       1471.000000       1471.000000  ...   \n",
       "mean          -0.530760         -0.609256         -0.481055  ...   \n",
       "std            0.489381          0.418536          0.542756  ...   \n",
       "min           -1.000000         -0.999879         -0.948723  ...   \n",
       "25%           -0.979214         -0.980659         -0.936791  ...   \n",
       "50%           -0.873891         -0.863451         -0.890491  ...   \n",
       "75%           -0.058824         -0.256657         -0.030692  ...   \n",
       "max            0.602458          0.784041          0.821218  ...   \n",
       "\n",
       "       fBodyBodyGyroJerkMag-skewness()  fBodyBodyGyroJerkMag-kurtosis()  \\\n",
       "count                      1471.000000                      1471.000000   \n",
       "mean                         -0.311513                        -0.632273   \n",
       "std                           0.313792                         0.296179   \n",
       "min                          -0.995357                        -0.994664   \n",
       "25%                          -0.546342                        -0.844547   \n",
       "50%                          -0.347433                        -0.706699   \n",
       "75%                          -0.125796                        -0.516910   \n",
       "max                           0.941113                         0.894210   \n",
       "\n",
       "       angle(tBodyAccMean,gravity)  angle(tBodyAccJerkMean),gravityMean)  \\\n",
       "count                  1471.000000                           1471.000000   \n",
       "mean                      0.009324                              0.015666   \n",
       "std                       0.324864                              0.452616   \n",
       "min                      -0.937468                             -0.990492   \n",
       "25%                      -0.119166                             -0.265533   \n",
       "50%                       0.005049                              0.023421   \n",
       "75%                       0.135698                              0.312690   \n",
       "max                       0.980889                              0.991899   \n",
       "\n",
       "       angle(tBodyGyroMean,gravityMean)  angle(tBodyGyroJerkMean,gravityMean)  \\\n",
       "count                       1471.000000                           1471.000000   \n",
       "mean                           0.006272                             -0.001510   \n",
       "std                            0.608954                              0.483028   \n",
       "min                           -0.995222                             -0.969066   \n",
       "25%                           -0.485998                             -0.380300   \n",
       "50%                           -0.005036                              0.002408   \n",
       "75%                            0.518184                              0.374583   \n",
       "max                            0.994366                              0.979522   \n",
       "\n",
       "       angle(X,gravityMean)  angle(Y,gravityMean)  angle(Z,gravityMean)  \\\n",
       "count           1471.000000           1471.000000           1471.000000   \n",
       "mean              -0.481737              0.055771             -0.064194   \n",
       "std                0.522714              0.298124              0.281645   \n",
       "min               -0.999380             -0.995073             -1.000000   \n",
       "25%               -0.814060             -0.017413             -0.148445   \n",
       "50%               -0.708911              0.178814             -0.002243   \n",
       "75%               -0.486534              0.248126              0.096674   \n",
       "max                1.000000              0.432496              0.992766   \n",
       "\n",
       "           subject  \n",
       "count  1471.000000  \n",
       "mean     17.539089  \n",
       "std       9.122876  \n",
       "min       1.000000  \n",
       "25%       8.000000  \n",
       "50%      19.000000  \n",
       "75%      26.000000  \n",
       "max      30.000000  \n",
       "\n",
       "[8 rows x 562 columns]"
      ]
     },
     "execution_count": 9,
     "metadata": {},
     "output_type": "execute_result"
    }
   ],
   "source": [
    "data2.describe()"
   ]
  },
  {
   "cell_type": "markdown",
   "metadata": {
    "id": "O38e5xai7SIW"
   },
   "source": [
    "## 2.데이터 전처리"
   ]
  },
  {
   "cell_type": "markdown",
   "metadata": {
    "id": "5vKH3MU30d8H"
   },
   "source": [
    "* 세부 요구사항\n",
    "    - Label 추가 : 1단계 모델을 위한 레이블 추가\n",
    "    - train : val = 8 : 2 혹은 7 : 3\n",
    "    - random_state 옵션을 사용하여 다른 모델과 비교를 위해 성능이 재현되도록 합니다."
   ]
  },
  {
   "cell_type": "markdown",
   "metadata": {
    "id": "wHxeKHxze2uL"
   },
   "source": [
    "### (1) 1단계 모델링을 위한 레이블"
   ]
  },
  {
   "cell_type": "code",
   "execution_count": 10,
   "metadata": {
    "executionInfo": {
     "elapsed": 11,
     "status": "ok",
     "timestamp": 1729231780991,
     "user": {
      "displayName": "강해찬",
      "userId": "08180896618044652518"
     },
     "user_tz": -540
    },
    "id": "bT3ScKtUe76_"
   },
   "outputs": [],
   "source": [
    "model1_data = data1.copy()\n",
    "model1_data['is_dynamic'] = model1_data['Activity'].map({'STANDING':0, 'SITTING':0, 'LAYING':0, 'WALKING':1, 'WALKING_UPSTAIRS':1, 'WALKING_DOWNSTAIRS':1})"
   ]
  },
  {
   "cell_type": "markdown",
   "metadata": {
    "id": "uAsBmDupKQX8"
   },
   "source": [
    "### (2) x, y 분리"
   ]
  },
  {
   "cell_type": "code",
   "execution_count": 11,
   "metadata": {
    "executionInfo": {
     "elapsed": 10,
     "status": "ok",
     "timestamp": 1729231780991,
     "user": {
      "displayName": "강해찬",
      "userId": "08180896618044652518"
     },
     "user_tz": -540
    },
    "id": "JVOseiQLKMoq"
   },
   "outputs": [],
   "source": [
    "target = 'is_dynamic'\n",
    "\n",
    "model1_x = model1_data.drop(['is_dynamic', 'Activity', 'subject'], axis=1)\n",
    "model1_y = model1_data.loc[:, target]"
   ]
  },
  {
   "cell_type": "markdown",
   "metadata": {
    "id": "A8hxVzM3Agvw"
   },
   "source": [
    "### (3) 스케일링\n"
   ]
  },
  {
   "cell_type": "markdown",
   "metadata": {
    "id": "8OHAQJ9HJZP8"
   },
   "source": [
    "* 세부 요구사항\n",
    "    - 스케일링을 필요로 하는 알고리즘 사용을 위해서 코드 수행\n",
    "    - min-max 방식 혹은 standard 방식 중 한가지 사용."
   ]
  },
  {
   "cell_type": "code",
   "execution_count": 12,
   "metadata": {
    "executionInfo": {
     "elapsed": 9,
     "status": "ok",
     "timestamp": 1729231780991,
     "user": {
      "displayName": "강해찬",
      "userId": "08180896618044652518"
     },
     "user_tz": -540
    },
    "id": "mHa8ltK5_QTB"
   },
   "outputs": [],
   "source": [
    "scaler = MinMaxScaler()\n",
    "model1_x = scaler.fit_transform(model1_x)"
   ]
  },
  {
   "cell_type": "markdown",
   "metadata": {
    "id": "TH_rqRv6jA9V"
   },
   "source": [
    "### (4) 데이터 분할\n",
    "* train, val 분할"
   ]
  },
  {
   "cell_type": "code",
   "execution_count": 13,
   "metadata": {
    "executionInfo": {
     "elapsed": 10,
     "status": "ok",
     "timestamp": 1729231780992,
     "user": {
      "displayName": "강해찬",
      "userId": "08180896618044652518"
     },
     "user_tz": -540
    },
    "id": "EATFZQZpx5yR"
   },
   "outputs": [],
   "source": [
    "model1_x_train, model1_x_val, model1_y_train, model1_y_val = train_test_split(model1_x, model1_y, test_size=.2, random_state = 20)"
   ]
  },
  {
   "cell_type": "markdown",
   "metadata": {
    "id": "bue7ZTLABQzi"
   },
   "source": [
    "## **3.단계별 모델링**"
   ]
  },
  {
   "cell_type": "markdown",
   "metadata": {
    "id": "fCpsgFz40pJ3"
   },
   "source": [
    "### (1) 단계1"
   ]
  },
  {
   "cell_type": "markdown",
   "metadata": {
    "id": "JtwoYR2e0pJ3"
   },
   "source": [
    "* 세부 요구사항\n",
    "    * 적절한 단계로 구분한 후, 1단계를 분류하는 모델 생성\n",
    "        * 예시 : 정적 행동(Laying, Sitting, Standing)과 동적 행동(동적 : Walking, Walking-Up, Walking-Down)을 구분하는 모델 생성.\n",
    "    * 몇 가지 모델을 만들고 가장 성능이 좋은 모델을 선정하시오."
   ]
  },
  {
   "cell_type": "markdown",
   "metadata": {
    "id": "cWYtB_nUD6zu"
   },
   "source": [
    "#### 1) 모델1"
   ]
  },
  {
   "cell_type": "code",
   "execution_count": 14,
   "metadata": {
    "executionInfo": {
     "elapsed": 10,
     "status": "ok",
     "timestamp": 1729231780992,
     "user": {
      "displayName": "강해찬",
      "userId": "08180896618044652518"
     },
     "user_tz": -540
    },
    "id": "7lsdu8F-_QTH"
   },
   "outputs": [],
   "source": [
    "nfeatures = model1_x_train.shape[1]"
   ]
  },
  {
   "cell_type": "code",
   "execution_count": 15,
   "metadata": {
    "colab": {
     "base_uri": "https://localhost:8080/",
     "height": 161
    },
    "executionInfo": {
     "elapsed": 314,
     "status": "ok",
     "timestamp": 1729231781947,
     "user": {
      "displayName": "강해찬",
      "userId": "08180896618044652518"
     },
     "user_tz": -540
    },
    "id": "6lV2HRaPf4k8",
    "outputId": "2b91fff9-ad3b-465d-b062-bb9000565cee"
   },
   "outputs": [
    {
     "data": {
      "text/html": [
       "<pre style=\"white-space:pre;overflow-x:auto;line-height:normal;font-family:Menlo,'DejaVu Sans Mono',consolas,'Courier New',monospace\"><span style=\"font-weight: bold\">Model: \"sequential\"</span>\n",
       "</pre>\n"
      ],
      "text/plain": [
       "\u001b[1mModel: \"sequential\"\u001b[0m\n"
      ]
     },
     "metadata": {},
     "output_type": "display_data"
    },
    {
     "data": {
      "text/html": [
       "<pre style=\"white-space:pre;overflow-x:auto;line-height:normal;font-family:Menlo,'DejaVu Sans Mono',consolas,'Courier New',monospace\">┏━━━━━━━━━━━━━━━━━━━━━━━━━━━━━━━━━━━━━━┳━━━━━━━━━━━━━━━━━━━━━━━━━━━━━┳━━━━━━━━━━━━━━━━━┓\n",
       "┃<span style=\"font-weight: bold\"> Layer (type)                         </span>┃<span style=\"font-weight: bold\"> Output Shape                </span>┃<span style=\"font-weight: bold\">         Param # </span>┃\n",
       "┡━━━━━━━━━━━━━━━━━━━━━━━━━━━━━━━━━━━━━━╇━━━━━━━━━━━━━━━━━━━━━━━━━━━━━╇━━━━━━━━━━━━━━━━━┩\n",
       "│ dense (<span style=\"color: #0087ff; text-decoration-color: #0087ff\">Dense</span>)                        │ (<span style=\"color: #00d7ff; text-decoration-color: #00d7ff\">None</span>, <span style=\"color: #00af00; text-decoration-color: #00af00\">1</span>)                   │             <span style=\"color: #00af00; text-decoration-color: #00af00\">562</span> │\n",
       "└──────────────────────────────────────┴─────────────────────────────┴─────────────────┘\n",
       "</pre>\n"
      ],
      "text/plain": [
       "┏━━━━━━━━━━━━━━━━━━━━━━━━━━━━━━━━━━━━━━┳━━━━━━━━━━━━━━━━━━━━━━━━━━━━━┳━━━━━━━━━━━━━━━━━┓\n",
       "┃\u001b[1m \u001b[0m\u001b[1mLayer (type)                        \u001b[0m\u001b[1m \u001b[0m┃\u001b[1m \u001b[0m\u001b[1mOutput Shape               \u001b[0m\u001b[1m \u001b[0m┃\u001b[1m \u001b[0m\u001b[1m        Param #\u001b[0m\u001b[1m \u001b[0m┃\n",
       "┡━━━━━━━━━━━━━━━━━━━━━━━━━━━━━━━━━━━━━━╇━━━━━━━━━━━━━━━━━━━━━━━━━━━━━╇━━━━━━━━━━━━━━━━━┩\n",
       "│ dense (\u001b[38;5;33mDense\u001b[0m)                        │ (\u001b[38;5;45mNone\u001b[0m, \u001b[38;5;34m1\u001b[0m)                   │             \u001b[38;5;34m562\u001b[0m │\n",
       "└──────────────────────────────────────┴─────────────────────────────┴─────────────────┘\n"
      ]
     },
     "metadata": {},
     "output_type": "display_data"
    },
    {
     "data": {
      "text/html": [
       "<pre style=\"white-space:pre;overflow-x:auto;line-height:normal;font-family:Menlo,'DejaVu Sans Mono',consolas,'Courier New',monospace\"><span style=\"font-weight: bold\"> Total params: </span><span style=\"color: #00af00; text-decoration-color: #00af00\">562</span> (2.20 KB)\n",
       "</pre>\n"
      ],
      "text/plain": [
       "\u001b[1m Total params: \u001b[0m\u001b[38;5;34m562\u001b[0m (2.20 KB)\n"
      ]
     },
     "metadata": {},
     "output_type": "display_data"
    },
    {
     "data": {
      "text/html": [
       "<pre style=\"white-space:pre;overflow-x:auto;line-height:normal;font-family:Menlo,'DejaVu Sans Mono',consolas,'Courier New',monospace\"><span style=\"font-weight: bold\"> Trainable params: </span><span style=\"color: #00af00; text-decoration-color: #00af00\">562</span> (2.20 KB)\n",
       "</pre>\n"
      ],
      "text/plain": [
       "\u001b[1m Trainable params: \u001b[0m\u001b[38;5;34m562\u001b[0m (2.20 KB)\n"
      ]
     },
     "metadata": {},
     "output_type": "display_data"
    },
    {
     "data": {
      "text/html": [
       "<pre style=\"white-space:pre;overflow-x:auto;line-height:normal;font-family:Menlo,'DejaVu Sans Mono',consolas,'Courier New',monospace\"><span style=\"font-weight: bold\"> Non-trainable params: </span><span style=\"color: #00af00; text-decoration-color: #00af00\">0</span> (0.00 B)\n",
       "</pre>\n"
      ],
      "text/plain": [
       "\u001b[1m Non-trainable params: \u001b[0m\u001b[38;5;34m0\u001b[0m (0.00 B)\n"
      ]
     },
     "metadata": {},
     "output_type": "display_data"
    }
   ],
   "source": [
    "clear_session()\n",
    "model1 = Sequential([Input(shape = (nfeatures,)),\n",
    "                     Dense(1, activation= 'sigmoid')])\n",
    "model1.summary()"
   ]
  },
  {
   "cell_type": "code",
   "execution_count": 16,
   "metadata": {
    "colab": {
     "base_uri": "https://localhost:8080/",
     "height": 1000
    },
    "executionInfo": {
     "elapsed": 17868,
     "status": "ok",
     "timestamp": 1729231799802,
     "user": {
      "displayName": "강해찬",
      "userId": "08180896618044652518"
     },
     "user_tz": -540
    },
    "id": "oq7lvKmE0rrO",
    "outputId": "8e62e88e-0158-41f2-9804-1df0b714f7b7",
    "scrolled": true
   },
   "outputs": [
    {
     "name": "stdout",
     "output_type": "stream",
     "text": [
      "Epoch 1/30\n",
      "\u001b[1m118/118\u001b[0m \u001b[32m━━━━━━━━━━━━━━━━━━━━\u001b[0m\u001b[37m\u001b[0m \u001b[1m2s\u001b[0m 7ms/step - accuracy: 0.9649 - loss: 0.1062 - val_accuracy: 1.0000 - val_loss: 0.0050\n",
      "Epoch 2/30\n",
      "\u001b[1m118/118\u001b[0m \u001b[32m━━━━━━━━━━━━━━━━━━━━\u001b[0m\u001b[37m\u001b[0m \u001b[1m1s\u001b[0m 2ms/step - accuracy: 0.9992 - loss: 0.0072 - val_accuracy: 1.0000 - val_loss: 0.0026\n",
      "Epoch 3/30\n",
      "\u001b[1m118/118\u001b[0m \u001b[32m━━━━━━━━━━━━━━━━━━━━\u001b[0m\u001b[37m\u001b[0m \u001b[1m1s\u001b[0m 2ms/step - accuracy: 0.9994 - loss: 0.0046 - val_accuracy: 1.0000 - val_loss: 0.0019\n",
      "Epoch 4/30\n",
      "\u001b[1m118/118\u001b[0m \u001b[32m━━━━━━━━━━━━━━━━━━━━\u001b[0m\u001b[37m\u001b[0m \u001b[1m1s\u001b[0m 2ms/step - accuracy: 1.0000 - loss: 0.0022 - val_accuracy: 0.9979 - val_loss: 0.0076\n",
      "Epoch 5/30\n",
      "\u001b[1m118/118\u001b[0m \u001b[32m━━━━━━━━━━━━━━━━━━━━\u001b[0m\u001b[37m\u001b[0m \u001b[1m0s\u001b[0m 2ms/step - accuracy: 0.9990 - loss: 0.0037 - val_accuracy: 1.0000 - val_loss: 0.0014\n",
      "Epoch 6/30\n",
      "\u001b[1m118/118\u001b[0m \u001b[32m━━━━━━━━━━━━━━━━━━━━\u001b[0m\u001b[37m\u001b[0m \u001b[1m1s\u001b[0m 3ms/step - accuracy: 0.9999 - loss: 0.0014 - val_accuracy: 1.0000 - val_loss: 0.0020\n",
      "Epoch 7/30\n",
      "\u001b[1m118/118\u001b[0m \u001b[32m━━━━━━━━━━━━━━━━━━━━\u001b[0m\u001b[37m\u001b[0m \u001b[1m1s\u001b[0m 4ms/step - accuracy: 0.9997 - loss: 0.0017 - val_accuracy: 1.0000 - val_loss: 7.6680e-04\n",
      "Epoch 8/30\n",
      "\u001b[1m118/118\u001b[0m \u001b[32m━━━━━━━━━━━━━━━━━━━━\u001b[0m\u001b[37m\u001b[0m \u001b[1m1s\u001b[0m 3ms/step - accuracy: 1.0000 - loss: 0.0011 - val_accuracy: 1.0000 - val_loss: 4.9381e-04\n",
      "Epoch 9/30\n",
      "\u001b[1m118/118\u001b[0m \u001b[32m━━━━━━━━━━━━━━━━━━━━\u001b[0m\u001b[37m\u001b[0m \u001b[1m1s\u001b[0m 4ms/step - accuracy: 0.9996 - loss: 0.0011 - val_accuracy: 1.0000 - val_loss: 4.7978e-04\n",
      "Epoch 10/30\n",
      "\u001b[1m118/118\u001b[0m \u001b[32m━━━━━━━━━━━━━━━━━━━━\u001b[0m\u001b[37m\u001b[0m \u001b[1m1s\u001b[0m 4ms/step - accuracy: 1.0000 - loss: 6.4913e-04 - val_accuracy: 1.0000 - val_loss: 3.6915e-04\n",
      "Epoch 11/30\n",
      "\u001b[1m118/118\u001b[0m \u001b[32m━━━━━━━━━━━━━━━━━━━━\u001b[0m\u001b[37m\u001b[0m \u001b[1m1s\u001b[0m 4ms/step - accuracy: 1.0000 - loss: 6.6374e-04 - val_accuracy: 1.0000 - val_loss: 3.2657e-04\n",
      "Epoch 12/30\n",
      "\u001b[1m118/118\u001b[0m \u001b[32m━━━━━━━━━━━━━━━━━━━━\u001b[0m\u001b[37m\u001b[0m \u001b[1m0s\u001b[0m 2ms/step - accuracy: 1.0000 - loss: 5.9225e-04 - val_accuracy: 1.0000 - val_loss: 5.1507e-04\n",
      "Epoch 13/30\n",
      "\u001b[1m118/118\u001b[0m \u001b[32m━━━━━━━━━━━━━━━━━━━━\u001b[0m\u001b[37m\u001b[0m \u001b[1m1s\u001b[0m 2ms/step - accuracy: 1.0000 - loss: 4.5425e-04 - val_accuracy: 1.0000 - val_loss: 6.2891e-04\n",
      "Epoch 14/30\n",
      "\u001b[1m118/118\u001b[0m \u001b[32m━━━━━━━━━━━━━━━━━━━━\u001b[0m\u001b[37m\u001b[0m \u001b[1m0s\u001b[0m 2ms/step - accuracy: 1.0000 - loss: 5.0750e-04 - val_accuracy: 1.0000 - val_loss: 3.3169e-04\n",
      "Epoch 15/30\n",
      "\u001b[1m118/118\u001b[0m \u001b[32m━━━━━━━━━━━━━━━━━━━━\u001b[0m\u001b[37m\u001b[0m \u001b[1m0s\u001b[0m 2ms/step - accuracy: 1.0000 - loss: 4.1255e-04 - val_accuracy: 1.0000 - val_loss: 5.4547e-04\n",
      "Epoch 16/30\n",
      "\u001b[1m118/118\u001b[0m \u001b[32m━━━━━━━━━━━━━━━━━━━━\u001b[0m\u001b[37m\u001b[0m \u001b[1m0s\u001b[0m 2ms/step - accuracy: 1.0000 - loss: 4.1196e-04 - val_accuracy: 1.0000 - val_loss: 4.0374e-04\n",
      "Epoch 17/30\n",
      "\u001b[1m118/118\u001b[0m \u001b[32m━━━━━━━━━━━━━━━━━━━━\u001b[0m\u001b[37m\u001b[0m \u001b[1m0s\u001b[0m 2ms/step - accuracy: 1.0000 - loss: 3.1941e-04 - val_accuracy: 1.0000 - val_loss: 2.6499e-04\n",
      "Epoch 18/30\n",
      "\u001b[1m118/118\u001b[0m \u001b[32m━━━━━━━━━━━━━━━━━━━━\u001b[0m\u001b[37m\u001b[0m \u001b[1m0s\u001b[0m 3ms/step - accuracy: 1.0000 - loss: 3.2596e-04 - val_accuracy: 1.0000 - val_loss: 4.1543e-04\n",
      "Epoch 19/30\n",
      "\u001b[1m118/118\u001b[0m \u001b[32m━━━━━━━━━━━━━━━━━━━━\u001b[0m\u001b[37m\u001b[0m \u001b[1m1s\u001b[0m 2ms/step - accuracy: 1.0000 - loss: 2.4178e-04 - val_accuracy: 1.0000 - val_loss: 3.7512e-04\n",
      "Epoch 20/30\n",
      "\u001b[1m118/118\u001b[0m \u001b[32m━━━━━━━━━━━━━━━━━━━━\u001b[0m\u001b[37m\u001b[0m \u001b[1m0s\u001b[0m 3ms/step - accuracy: 1.0000 - loss: 1.8581e-04 - val_accuracy: 1.0000 - val_loss: 1.8205e-04\n",
      "Epoch 21/30\n",
      "\u001b[1m118/118\u001b[0m \u001b[32m━━━━━━━━━━━━━━━━━━━━\u001b[0m\u001b[37m\u001b[0m \u001b[1m1s\u001b[0m 2ms/step - accuracy: 1.0000 - loss: 2.2545e-04 - val_accuracy: 1.0000 - val_loss: 2.5970e-04\n",
      "Epoch 22/30\n",
      "\u001b[1m118/118\u001b[0m \u001b[32m━━━━━━━━━━━━━━━━━━━━\u001b[0m\u001b[37m\u001b[0m \u001b[1m1s\u001b[0m 2ms/step - accuracy: 1.0000 - loss: 2.4787e-04 - val_accuracy: 1.0000 - val_loss: 1.7229e-04\n",
      "Epoch 23/30\n",
      "\u001b[1m118/118\u001b[0m \u001b[32m━━━━━━━━━━━━━━━━━━━━\u001b[0m\u001b[37m\u001b[0m \u001b[1m0s\u001b[0m 2ms/step - accuracy: 1.0000 - loss: 1.6890e-04 - val_accuracy: 1.0000 - val_loss: 2.1795e-04\n",
      "Epoch 24/30\n",
      "\u001b[1m118/118\u001b[0m \u001b[32m━━━━━━━━━━━━━━━━━━━━\u001b[0m\u001b[37m\u001b[0m \u001b[1m0s\u001b[0m 2ms/step - accuracy: 1.0000 - loss: 2.6881e-04 - val_accuracy: 1.0000 - val_loss: 1.3041e-04\n",
      "Epoch 25/30\n",
      "\u001b[1m118/118\u001b[0m \u001b[32m━━━━━━━━━━━━━━━━━━━━\u001b[0m\u001b[37m\u001b[0m \u001b[1m0s\u001b[0m 2ms/step - accuracy: 1.0000 - loss: 1.9473e-04 - val_accuracy: 1.0000 - val_loss: 1.2154e-04\n",
      "Epoch 26/30\n",
      "\u001b[1m118/118\u001b[0m \u001b[32m━━━━━━━━━━━━━━━━━━━━\u001b[0m\u001b[37m\u001b[0m \u001b[1m0s\u001b[0m 2ms/step - accuracy: 1.0000 - loss: 1.2997e-04 - val_accuracy: 1.0000 - val_loss: 1.6702e-04\n",
      "Epoch 27/30\n",
      "\u001b[1m118/118\u001b[0m \u001b[32m━━━━━━━━━━━━━━━━━━━━\u001b[0m\u001b[37m\u001b[0m \u001b[1m0s\u001b[0m 2ms/step - accuracy: 1.0000 - loss: 1.4076e-04 - val_accuracy: 1.0000 - val_loss: 1.6696e-04\n",
      "Epoch 28/30\n",
      "\u001b[1m118/118\u001b[0m \u001b[32m━━━━━━━━━━━━━━━━━━━━\u001b[0m\u001b[37m\u001b[0m \u001b[1m0s\u001b[0m 2ms/step - accuracy: 1.0000 - loss: 1.6176e-04 - val_accuracy: 1.0000 - val_loss: 1.1444e-04\n",
      "Epoch 29/30\n",
      "\u001b[1m118/118\u001b[0m \u001b[32m━━━━━━━━━━━━━━━━━━━━\u001b[0m\u001b[37m\u001b[0m \u001b[1m1s\u001b[0m 2ms/step - accuracy: 1.0000 - loss: 1.0368e-04 - val_accuracy: 1.0000 - val_loss: 1.2414e-04\n",
      "Epoch 30/30\n",
      "\u001b[1m118/118\u001b[0m \u001b[32m━━━━━━━━━━━━━━━━━━━━\u001b[0m\u001b[37m\u001b[0m \u001b[1m0s\u001b[0m 2ms/step - accuracy: 1.0000 - loss: 1.5651e-04 - val_accuracy: 1.0000 - val_loss: 1.0762e-04\n"
     ]
    },
    {
     "data": {
      "image/png": "[encoded data removed]",
      "text/plain": [
       "<Figure size 1000x600 with 1 Axes>"
      ]
     },
     "metadata": {},
     "output_type": "display_data"
    }
   ],
   "source": [
    "model1.compile(optimizer=Adam(learning_rate=0.008), loss='binary_crossentropy', metrics=['accuracy'])\n",
    "history1 = model1.fit(model1_x_train, model1_y_train, epochs = 30, validation_split=0.2).history\n",
    "dl_history_plot(history1)"
   ]
  },
  {
   "cell_type": "code",
   "execution_count": 17,
   "metadata": {
    "colab": {
     "base_uri": "https://localhost:8080/"
    },
    "executionInfo": {
     "elapsed": 21,
     "status": "ok",
     "timestamp": 1729231799802,
     "user": {
      "displayName": "강해찬",
      "userId": "08180896618044652518"
     },
     "user_tz": -540
    },
    "id": "vmBi9eq40rnu",
    "outputId": "5dff7c41-4e94-4589-8527-d352e51d3043"
   },
   "outputs": [
    {
     "name": "stdout",
     "output_type": "stream",
     "text": [
      "\u001b[1m37/37\u001b[0m \u001b[32m━━━━━━━━━━━━━━━━━━━━\u001b[0m\u001b[37m\u001b[0m \u001b[1m0s\u001b[0m 2ms/step\n",
      "              precision    recall  f1-score   support\n",
      "\n",
      "           0       1.00      1.00      1.00       627\n",
      "           1       1.00      1.00      1.00       550\n",
      "\n",
      "    accuracy                           1.00      1177\n",
      "   macro avg       1.00      1.00      1.00      1177\n",
      "weighted avg       1.00      1.00      1.00      1177\n",
      "\n"
     ]
    }
   ],
   "source": [
    "model1_pred1 = model1.predict(model1_x_val)\n",
    "model1_pred1 = np.where(model1_pred1 >= .5, 1, 0)\n",
    "print(classification_report(model1_y_val, model1_pred1))"
   ]
  },
  {
   "cell_type": "markdown",
   "metadata": {
    "id": "cK9A9XmW0pJ8"
   },
   "source": [
    "### (2) 단계2"
   ]
  },
  {
   "cell_type": "markdown",
   "metadata": {
    "id": "uPFEN7aniicS"
   },
   "source": [
    "#### 1) 단계2-1 : 정적 동작 세부 분류(Laying or (Sitting, Standing))"
   ]
  },
  {
   "cell_type": "markdown",
   "metadata": {
    "id": "S8v3DgDX0pJ8"
   },
   "source": [
    "* 세부 요구사항\n",
    "    * 정적 행동(Laying or (Sitting, Standing))인 데이터 추출\n",
    "    * Laying, (Sitting, Standing) 를 분류하는 모델을 생성\n",
    "    * 몇가지 모델을 만들고 가장 성능이 좋은 모델을 선정하시오."
   ]
  },
  {
   "cell_type": "code",
   "execution_count": 18,
   "metadata": {
    "executionInfo": {
     "elapsed": 15,
     "status": "ok",
     "timestamp": 1729231799802,
     "user": {
      "displayName": "강해찬",
      "userId": "08180896618044652518"
     },
     "user_tz": -540
    },
    "id": "PY2uBvF90ynr"
   },
   "outputs": [],
   "source": [
    "static_model_data = model1_data.loc[model1_data['Activity'].isin(['LAYING', 'SITTING', 'STANDING'])].copy()\n",
    "static_model_data['Activity'] = static_model_data['Activity'].map({'LAYING':0, 'SITTING':1, 'STANDING':1})\n",
    "\n",
    "static_model_x = static_model_data.drop(['is_dynamic', 'Activity', 'subject'], axis=1)\n",
    "static_model_y = static_model_data.loc[:, 'Activity']\n",
    "\n",
    "scaler = MinMaxScaler()\n",
    "static_model_x = scaler.fit_transform(static_model_x)"
   ]
  },
  {
   "cell_type": "code",
   "execution_count": 19,
   "metadata": {
    "executionInfo": {
     "elapsed": 15,
     "status": "ok",
     "timestamp": 1729231799802,
     "user": {
      "displayName": "강해찬",
      "userId": "08180896618044652518"
     },
     "user_tz": -540
    },
    "id": "7ZJErs6j_QTI"
   },
   "outputs": [],
   "source": [
    "static_model_x_train, static_model_x_val, static_model_y_train, static_model_y_val = train_test_split(static_model_x, static_model_y, test_size=.2, random_state = 20)"
   ]
  },
  {
   "cell_type": "code",
   "execution_count": 20,
   "metadata": {
    "colab": {
     "base_uri": "https://localhost:8080/",
     "height": 385
    },
    "executionInfo": {
     "elapsed": 955,
     "status": "ok",
     "timestamp": 1729231800743,
     "user": {
      "displayName": "강해찬",
      "userId": "08180896618044652518"
     },
     "user_tz": -540
    },
    "id": "ZUnIqQ3O0yrb",
    "outputId": "02459ae2-73f9-4b9a-afa0-d0d28d90b16a"
   },
   "outputs": [
    {
     "data": {
      "text/html": [
       "<pre style=\"white-space:pre;overflow-x:auto;line-height:normal;font-family:Menlo,'DejaVu Sans Mono',consolas,'Courier New',monospace\"><span style=\"font-weight: bold\">Model: \"sequential\"</span>\n",
       "</pre>\n"
      ],
      "text/plain": [
       "\u001b[1mModel: \"sequential\"\u001b[0m\n"
      ]
     },
     "metadata": {},
     "output_type": "display_data"
    },
    {
     "data": {
      "text/html": [
       "<pre style=\"white-space:pre;overflow-x:auto;line-height:normal;font-family:Menlo,'DejaVu Sans Mono',consolas,'Courier New',monospace\">┏━━━━━━━━━━━━━━━━━━━━━━━━━━━━━━━━━━━━━━┳━━━━━━━━━━━━━━━━━━━━━━━━━━━━━┳━━━━━━━━━━━━━━━━━┓\n",
       "┃<span style=\"font-weight: bold\"> Layer (type)                         </span>┃<span style=\"font-weight: bold\"> Output Shape                </span>┃<span style=\"font-weight: bold\">         Param # </span>┃\n",
       "┡━━━━━━━━━━━━━━━━━━━━━━━━━━━━━━━━━━━━━━╇━━━━━━━━━━━━━━━━━━━━━━━━━━━━━╇━━━━━━━━━━━━━━━━━┩\n",
       "│ dense (<span style=\"color: #0087ff; text-decoration-color: #0087ff\">Dense</span>)                        │ (<span style=\"color: #00d7ff; text-decoration-color: #00d7ff\">None</span>, <span style=\"color: #00af00; text-decoration-color: #00af00\">64</span>)                  │          <span style=\"color: #00af00; text-decoration-color: #00af00\">35,968</span> │\n",
       "├──────────────────────────────────────┼─────────────────────────────┼─────────────────┤\n",
       "│ dropout (<span style=\"color: #0087ff; text-decoration-color: #0087ff\">Dropout</span>)                    │ (<span style=\"color: #00d7ff; text-decoration-color: #00d7ff\">None</span>, <span style=\"color: #00af00; text-decoration-color: #00af00\">64</span>)                  │               <span style=\"color: #00af00; text-decoration-color: #00af00\">0</span> │\n",
       "├──────────────────────────────────────┼─────────────────────────────┼─────────────────┤\n",
       "│ dense_1 (<span style=\"color: #0087ff; text-decoration-color: #0087ff\">Dense</span>)                      │ (<span style=\"color: #00d7ff; text-decoration-color: #00d7ff\">None</span>, <span style=\"color: #00af00; text-decoration-color: #00af00\">64</span>)                  │           <span style=\"color: #00af00; text-decoration-color: #00af00\">4,160</span> │\n",
       "├──────────────────────────────────────┼─────────────────────────────┼─────────────────┤\n",
       "│ dropout_1 (<span style=\"color: #0087ff; text-decoration-color: #0087ff\">Dropout</span>)                  │ (<span style=\"color: #00d7ff; text-decoration-color: #00d7ff\">None</span>, <span style=\"color: #00af00; text-decoration-color: #00af00\">64</span>)                  │               <span style=\"color: #00af00; text-decoration-color: #00af00\">0</span> │\n",
       "├──────────────────────────────────────┼─────────────────────────────┼─────────────────┤\n",
       "│ dense_2 (<span style=\"color: #0087ff; text-decoration-color: #0087ff\">Dense</span>)                      │ (<span style=\"color: #00d7ff; text-decoration-color: #00d7ff\">None</span>, <span style=\"color: #00af00; text-decoration-color: #00af00\">32</span>)                  │           <span style=\"color: #00af00; text-decoration-color: #00af00\">2,080</span> │\n",
       "├──────────────────────────────────────┼─────────────────────────────┼─────────────────┤\n",
       "│ dense_3 (<span style=\"color: #0087ff; text-decoration-color: #0087ff\">Dense</span>)                      │ (<span style=\"color: #00d7ff; text-decoration-color: #00d7ff\">None</span>, <span style=\"color: #00af00; text-decoration-color: #00af00\">16</span>)                  │             <span style=\"color: #00af00; text-decoration-color: #00af00\">528</span> │\n",
       "├──────────────────────────────────────┼─────────────────────────────┼─────────────────┤\n",
       "│ dense_4 (<span style=\"color: #0087ff; text-decoration-color: #0087ff\">Dense</span>)                      │ (<span style=\"color: #00d7ff; text-decoration-color: #00d7ff\">None</span>, <span style=\"color: #00af00; text-decoration-color: #00af00\">4</span>)                   │              <span style=\"color: #00af00; text-decoration-color: #00af00\">68</span> │\n",
       "├──────────────────────────────────────┼─────────────────────────────┼─────────────────┤\n",
       "│ dense_5 (<span style=\"color: #0087ff; text-decoration-color: #0087ff\">Dense</span>)                      │ (<span style=\"color: #00d7ff; text-decoration-color: #00d7ff\">None</span>, <span style=\"color: #00af00; text-decoration-color: #00af00\">1</span>)                   │               <span style=\"color: #00af00; text-decoration-color: #00af00\">5</span> │\n",
       "└──────────────────────────────────────┴─────────────────────────────┴─────────────────┘\n",
       "</pre>\n"
      ],
      "text/plain": [
       "┏━━━━━━━━━━━━━━━━━━━━━━━━━━━━━━━━━━━━━━┳━━━━━━━━━━━━━━━━━━━━━━━━━━━━━┳━━━━━━━━━━━━━━━━━┓\n",
       "┃\u001b[1m \u001b[0m\u001b[1mLayer (type)                        \u001b[0m\u001b[1m \u001b[0m┃\u001b[1m \u001b[0m\u001b[1mOutput Shape               \u001b[0m\u001b[1m \u001b[0m┃\u001b[1m \u001b[0m\u001b[1m        Param #\u001b[0m\u001b[1m \u001b[0m┃\n",
       "┡━━━━━━━━━━━━━━━━━━━━━━━━━━━━━━━━━━━━━━╇━━━━━━━━━━━━━━━━━━━━━━━━━━━━━╇━━━━━━━━━━━━━━━━━┩\n",
       "│ dense (\u001b[38;5;33mDense\u001b[0m)                        │ (\u001b[38;5;45mNone\u001b[0m, \u001b[38;5;34m64\u001b[0m)                  │          \u001b[38;5;34m35,968\u001b[0m │\n",
       "├──────────────────────────────────────┼─────────────────────────────┼─────────────────┤\n",
       "│ dropout (\u001b[38;5;33mDropout\u001b[0m)                    │ (\u001b[38;5;45mNone\u001b[0m, \u001b[38;5;34m64\u001b[0m)                  │               \u001b[38;5;34m0\u001b[0m │\n",
       "├──────────────────────────────────────┼─────────────────────────────┼─────────────────┤\n",
       "│ dense_1 (\u001b[38;5;33mDense\u001b[0m)                      │ (\u001b[38;5;45mNone\u001b[0m, \u001b[38;5;34m64\u001b[0m)                  │           \u001b[38;5;34m4,160\u001b[0m │\n",
       "├──────────────────────────────────────┼─────────────────────────────┼─────────────────┤\n",
       "│ dropout_1 (\u001b[38;5;33mDropout\u001b[0m)                  │ (\u001b[38;5;45mNone\u001b[0m, \u001b[38;5;34m64\u001b[0m)                  │               \u001b[38;5;34m0\u001b[0m │\n",
       "├──────────────────────────────────────┼─────────────────────────────┼─────────────────┤\n",
       "│ dense_2 (\u001b[38;5;33mDense\u001b[0m)                      │ (\u001b[38;5;45mNone\u001b[0m, \u001b[38;5;34m32\u001b[0m)                  │           \u001b[38;5;34m2,080\u001b[0m │\n",
       "├──────────────────────────────────────┼─────────────────────────────┼─────────────────┤\n",
       "│ dense_3 (\u001b[38;5;33mDense\u001b[0m)                      │ (\u001b[38;5;45mNone\u001b[0m, \u001b[38;5;34m16\u001b[0m)                  │             \u001b[38;5;34m528\u001b[0m │\n",
       "├──────────────────────────────────────┼─────────────────────────────┼─────────────────┤\n",
       "│ dense_4 (\u001b[38;5;33mDense\u001b[0m)                      │ (\u001b[38;5;45mNone\u001b[0m, \u001b[38;5;34m4\u001b[0m)                   │              \u001b[38;5;34m68\u001b[0m │\n",
       "├──────────────────────────────────────┼─────────────────────────────┼─────────────────┤\n",
       "│ dense_5 (\u001b[38;5;33mDense\u001b[0m)                      │ (\u001b[38;5;45mNone\u001b[0m, \u001b[38;5;34m1\u001b[0m)                   │               \u001b[38;5;34m5\u001b[0m │\n",
       "└──────────────────────────────────────┴─────────────────────────────┴─────────────────┘\n"
      ]
     },
     "metadata": {},
     "output_type": "display_data"
    },
    {
     "data": {
      "text/html": [
       "<pre style=\"white-space:pre;overflow-x:auto;line-height:normal;font-family:Menlo,'DejaVu Sans Mono',consolas,'Courier New',monospace\"><span style=\"font-weight: bold\"> Total params: </span><span style=\"color: #00af00; text-decoration-color: #00af00\">42,809</span> (167.22 KB)\n",
       "</pre>\n"
      ],
      "text/plain": [
       "\u001b[1m Total params: \u001b[0m\u001b[38;5;34m42,809\u001b[0m (167.22 KB)\n"
      ]
     },
     "metadata": {},
     "output_type": "display_data"
    },
    {
     "data": {
      "text/html": [
       "<pre style=\"white-space:pre;overflow-x:auto;line-height:normal;font-family:Menlo,'DejaVu Sans Mono',consolas,'Courier New',monospace\"><span style=\"font-weight: bold\"> Trainable params: </span><span style=\"color: #00af00; text-decoration-color: #00af00\">42,809</span> (167.22 KB)\n",
       "</pre>\n"
      ],
      "text/plain": [
       "\u001b[1m Trainable params: \u001b[0m\u001b[38;5;34m42,809\u001b[0m (167.22 KB)\n"
      ]
     },
     "metadata": {},
     "output_type": "display_data"
    },
    {
     "data": {
      "text/html": [
       "<pre style=\"white-space:pre;overflow-x:auto;line-height:normal;font-family:Menlo,'DejaVu Sans Mono',consolas,'Courier New',monospace\"><span style=\"font-weight: bold\"> Non-trainable params: </span><span style=\"color: #00af00; text-decoration-color: #00af00\">0</span> (0.00 B)\n",
       "</pre>\n"
      ],
      "text/plain": [
       "\u001b[1m Non-trainable params: \u001b[0m\u001b[38;5;34m0\u001b[0m (0.00 B)\n"
      ]
     },
     "metadata": {},
     "output_type": "display_data"
    }
   ],
   "source": [
    "nfeatures = static_model_x_train.shape[1]\n",
    "\n",
    "clear_session()\n",
    "\n",
    "model2 = Sequential([\n",
    "    Input(shape=(nfeatures,)),\n",
    "    Dense(64, activation='relu'),\n",
    "    Dropout(0.01),\n",
    "    Dense(64, activation='relu'),\n",
    "    Dropout(0.01),\n",
    "    Dense(32, activation='relu'),\n",
    "    Dense(16, activation='relu'),\n",
    "    Dense(4, activation='relu'),\n",
    "    Dense(1, activation='sigmoid')\n",
    "])\n",
    "\n",
    "model2.summary()"
   ]
  },
  {
   "cell_type": "code",
   "execution_count": 21,
   "metadata": {
    "colab": {
     "base_uri": "https://localhost:8080/",
     "height": 1000
    },
    "executionInfo": {
     "elapsed": 38106,
     "status": "ok",
     "timestamp": 1729231838830,
     "user": {
      "displayName": "강해찬",
      "userId": "08180896618044652518"
     },
     "user_tz": -540
    },
    "id": "rUcp7mTm0ykX",
    "outputId": "a11c3547-1a13-4359-b3eb-83cf96d78a97",
    "scrolled": true
   },
   "outputs": [
    {
     "name": "stdout",
     "output_type": "stream",
     "text": [
      "Epoch 1/50\n",
      "\u001b[1m65/65\u001b[0m \u001b[32m━━━━━━━━━━━━━━━━━━━━\u001b[0m\u001b[37m\u001b[0m \u001b[1m3s\u001b[0m 12ms/step - accuracy: 0.6759 - loss: 0.5822 - val_accuracy: 0.9826 - val_loss: 0.0992\n",
      "Epoch 2/50\n",
      "\u001b[1m65/65\u001b[0m \u001b[32m━━━━━━━━━━━━━━━━━━━━\u001b[0m\u001b[37m\u001b[0m \u001b[1m1s\u001b[0m 6ms/step - accuracy: 0.9745 - loss: 0.0827 - val_accuracy: 0.9942 - val_loss: 0.0144\n",
      "Epoch 3/50\n",
      "\u001b[1m65/65\u001b[0m \u001b[32m━━━━━━━━━━━━━━━━━━━━\u001b[0m\u001b[37m\u001b[0m \u001b[1m1s\u001b[0m 7ms/step - accuracy: 0.9944 - loss: 0.0191 - val_accuracy: 0.9961 - val_loss: 0.0069\n",
      "Epoch 4/50\n",
      "\u001b[1m65/65\u001b[0m \u001b[32m━━━━━━━━━━━━━━━━━━━━\u001b[0m\u001b[37m\u001b[0m \u001b[1m1s\u001b[0m 6ms/step - accuracy: 0.9956 - loss: 0.0184 - val_accuracy: 1.0000 - val_loss: 0.0025\n",
      "Epoch 5/50\n",
      "\u001b[1m65/65\u001b[0m \u001b[32m━━━━━━━━━━━━━━━━━━━━\u001b[0m\u001b[37m\u001b[0m \u001b[1m0s\u001b[0m 6ms/step - accuracy: 0.9987 - loss: 0.0062 - val_accuracy: 0.9961 - val_loss: 0.0040\n",
      "Epoch 6/50\n",
      "\u001b[1m65/65\u001b[0m \u001b[32m━━━━━━━━━━━━━━━━━━━━\u001b[0m\u001b[37m\u001b[0m \u001b[1m0s\u001b[0m 4ms/step - accuracy: 0.9966 - loss: 0.0079 - val_accuracy: 0.9961 - val_loss: 0.0080\n",
      "Epoch 7/50\n",
      "\u001b[1m65/65\u001b[0m \u001b[32m━━━━━━━━━━━━━━━━━━━━\u001b[0m\u001b[37m\u001b[0m \u001b[1m0s\u001b[0m 4ms/step - accuracy: 1.0000 - loss: 0.0027 - val_accuracy: 1.0000 - val_loss: 0.0013\n",
      "Epoch 8/50\n",
      "\u001b[1m65/65\u001b[0m \u001b[32m━━━━━━━━━━━━━━━━━━━━\u001b[0m\u001b[37m\u001b[0m \u001b[1m0s\u001b[0m 5ms/step - accuracy: 1.0000 - loss: 9.5040e-04 - val_accuracy: 1.0000 - val_loss: 0.0027\n",
      "Epoch 9/50\n",
      "\u001b[1m65/65\u001b[0m \u001b[32m━━━━━━━━━━━━━━━━━━━━\u001b[0m\u001b[37m\u001b[0m \u001b[1m1s\u001b[0m 8ms/step - accuracy: 1.0000 - loss: 0.0021 - val_accuracy: 1.0000 - val_loss: 8.4132e-04\n",
      "Epoch 10/50\n",
      "\u001b[1m65/65\u001b[0m \u001b[32m━━━━━━━━━━━━━━━━━━━━\u001b[0m\u001b[37m\u001b[0m \u001b[1m1s\u001b[0m 8ms/step - accuracy: 1.0000 - loss: 5.4100e-04 - val_accuracy: 1.0000 - val_loss: 8.4819e-04\n",
      "Epoch 11/50\n",
      "\u001b[1m65/65\u001b[0m \u001b[32m━━━━━━━━━━━━━━━━━━━━\u001b[0m\u001b[37m\u001b[0m \u001b[1m1s\u001b[0m 11ms/step - accuracy: 1.0000 - loss: 3.6282e-04 - val_accuracy: 1.0000 - val_loss: 0.0016\n",
      "Epoch 12/50\n",
      "\u001b[1m65/65\u001b[0m \u001b[32m━━━━━━━━━━━━━━━━━━━━\u001b[0m\u001b[37m\u001b[0m \u001b[1m1s\u001b[0m 8ms/step - accuracy: 1.0000 - loss: 5.8141e-04 - val_accuracy: 1.0000 - val_loss: 3.5850e-04\n",
      "Epoch 13/50\n",
      "\u001b[1m65/65\u001b[0m \u001b[32m━━━━━━━━━━━━━━━━━━━━\u001b[0m\u001b[37m\u001b[0m \u001b[1m1s\u001b[0m 8ms/step - accuracy: 1.0000 - loss: 8.6712e-04 - val_accuracy: 1.0000 - val_loss: 4.8384e-04\n",
      "Epoch 14/50\n",
      "\u001b[1m65/65\u001b[0m \u001b[32m━━━━━━━━━━━━━━━━━━━━\u001b[0m\u001b[37m\u001b[0m \u001b[1m1s\u001b[0m 8ms/step - accuracy: 1.0000 - loss: 0.0025 - val_accuracy: 0.9981 - val_loss: 0.0032\n",
      "Epoch 15/50\n",
      "\u001b[1m65/65\u001b[0m \u001b[32m━━━━━━━━━━━━━━━━━━━━\u001b[0m\u001b[37m\u001b[0m \u001b[1m1s\u001b[0m 11ms/step - accuracy: 1.0000 - loss: 7.2127e-04 - val_accuracy: 0.9981 - val_loss: 0.0030\n",
      "Epoch 16/50\n",
      "\u001b[1m65/65\u001b[0m \u001b[32m━━━━━━━━━━━━━━━━━━━━\u001b[0m\u001b[37m\u001b[0m \u001b[1m1s\u001b[0m 8ms/step - accuracy: 1.0000 - loss: 1.0192e-04 - val_accuracy: 1.0000 - val_loss: 0.0014\n",
      "Epoch 17/50\n",
      "\u001b[1m65/65\u001b[0m \u001b[32m━━━━━━━━━━━━━━━━━━━━\u001b[0m\u001b[37m\u001b[0m \u001b[1m1s\u001b[0m 9ms/step - accuracy: 1.0000 - loss: 1.4229e-04 - val_accuracy: 1.0000 - val_loss: 9.2947e-04\n",
      "Epoch 18/50\n",
      "\u001b[1m65/65\u001b[0m \u001b[32m━━━━━━━━━━━━━━━━━━━━\u001b[0m\u001b[37m\u001b[0m \u001b[1m1s\u001b[0m 9ms/step - accuracy: 1.0000 - loss: 6.4819e-05 - val_accuracy: 1.0000 - val_loss: 5.9394e-04\n",
      "Epoch 19/50\n",
      "\u001b[1m65/65\u001b[0m \u001b[32m━━━━━━━━━━━━━━━━━━━━\u001b[0m\u001b[37m\u001b[0m \u001b[1m1s\u001b[0m 16ms/step - accuracy: 1.0000 - loss: 7.5161e-05 - val_accuracy: 1.0000 - val_loss: 7.9209e-04\n",
      "Epoch 20/50\n",
      "\u001b[1m65/65\u001b[0m \u001b[32m━━━━━━━━━━━━━━━━━━━━\u001b[0m\u001b[37m\u001b[0m \u001b[1m1s\u001b[0m 13ms/step - accuracy: 1.0000 - loss: 5.0721e-05 - val_accuracy: 1.0000 - val_loss: 5.2403e-04\n",
      "Epoch 21/50\n",
      "\u001b[1m65/65\u001b[0m \u001b[32m━━━━━━━━━━━━━━━━━━━━\u001b[0m\u001b[37m\u001b[0m \u001b[1m1s\u001b[0m 15ms/step - accuracy: 1.0000 - loss: 1.3268e-04 - val_accuracy: 1.0000 - val_loss: 6.3273e-04\n",
      "Epoch 22/50\n",
      "\u001b[1m65/65\u001b[0m \u001b[32m━━━━━━━━━━━━━━━━━━━━\u001b[0m\u001b[37m\u001b[0m \u001b[1m1s\u001b[0m 12ms/step - accuracy: 0.9938 - loss: 0.0241 - val_accuracy: 0.9923 - val_loss: 0.0468\n",
      "Epoch 23/50\n",
      "\u001b[1m65/65\u001b[0m \u001b[32m━━━━━━━━━━━━━━━━━━━━\u001b[0m\u001b[37m\u001b[0m \u001b[1m1s\u001b[0m 15ms/step - accuracy: 0.9935 - loss: 0.0194 - val_accuracy: 1.0000 - val_loss: 8.8277e-04\n",
      "Epoch 24/50\n",
      "\u001b[1m65/65\u001b[0m \u001b[32m━━━━━━━━━━━━━━━━━━━━\u001b[0m\u001b[37m\u001b[0m \u001b[1m1s\u001b[0m 11ms/step - accuracy: 1.0000 - loss: 1.8855e-04 - val_accuracy: 1.0000 - val_loss: 5.7192e-04\n",
      "Epoch 25/50\n",
      "\u001b[1m65/65\u001b[0m \u001b[32m━━━━━━━━━━━━━━━━━━━━\u001b[0m\u001b[37m\u001b[0m \u001b[1m1s\u001b[0m 8ms/step - accuracy: 1.0000 - loss: 1.1543e-04 - val_accuracy: 1.0000 - val_loss: 2.9165e-04\n",
      "Epoch 26/50\n",
      "\u001b[1m65/65\u001b[0m \u001b[32m━━━━━━━━━━━━━━━━━━━━\u001b[0m\u001b[37m\u001b[0m \u001b[1m1s\u001b[0m 9ms/step - accuracy: 1.0000 - loss: 5.6457e-05 - val_accuracy: 1.0000 - val_loss: 2.2340e-04\n",
      "Epoch 27/50\n",
      "\u001b[1m65/65\u001b[0m \u001b[32m━━━━━━━━━━━━━━━━━━━━\u001b[0m\u001b[37m\u001b[0m \u001b[1m1s\u001b[0m 9ms/step - accuracy: 1.0000 - loss: 1.1221e-04 - val_accuracy: 1.0000 - val_loss: 1.9495e-04\n",
      "Epoch 28/50\n",
      "\u001b[1m65/65\u001b[0m \u001b[32m━━━━━━━━━━━━━━━━━━━━\u001b[0m\u001b[37m\u001b[0m \u001b[1m1s\u001b[0m 10ms/step - accuracy: 1.0000 - loss: 2.2928e-05 - val_accuracy: 1.0000 - val_loss: 1.2915e-04\n",
      "Epoch 29/50\n",
      "\u001b[1m65/65\u001b[0m \u001b[32m━━━━━━━━━━━━━━━━━━━━\u001b[0m\u001b[37m\u001b[0m \u001b[1m1s\u001b[0m 8ms/step - accuracy: 1.0000 - loss: 8.6189e-06 - val_accuracy: 1.0000 - val_loss: 1.0812e-04\n",
      "Epoch 30/50\n",
      "\u001b[1m65/65\u001b[0m \u001b[32m━━━━━━━━━━━━━━━━━━━━\u001b[0m\u001b[37m\u001b[0m \u001b[1m1s\u001b[0m 8ms/step - accuracy: 1.0000 - loss: 9.2407e-06 - val_accuracy: 1.0000 - val_loss: 9.3506e-05\n",
      "Epoch 31/50\n",
      "\u001b[1m65/65\u001b[0m \u001b[32m━━━━━━━━━━━━━━━━━━━━\u001b[0m\u001b[37m\u001b[0m \u001b[1m0s\u001b[0m 4ms/step - accuracy: 1.0000 - loss: 1.1621e-05 - val_accuracy: 1.0000 - val_loss: 8.3108e-05\n",
      "Epoch 32/50\n",
      "\u001b[1m65/65\u001b[0m \u001b[32m━━━━━━━━━━━━━━━━━━━━\u001b[0m\u001b[37m\u001b[0m \u001b[1m0s\u001b[0m 4ms/step - accuracy: 1.0000 - loss: 1.7273e-05 - val_accuracy: 1.0000 - val_loss: 4.9928e-04\n",
      "Epoch 33/50\n",
      "\u001b[1m65/65\u001b[0m \u001b[32m━━━━━━━━━━━━━━━━━━━━\u001b[0m\u001b[37m\u001b[0m \u001b[1m0s\u001b[0m 4ms/step - accuracy: 1.0000 - loss: 2.3765e-05 - val_accuracy: 1.0000 - val_loss: 6.4338e-05\n",
      "Epoch 34/50\n",
      "\u001b[1m65/65\u001b[0m \u001b[32m━━━━━━━━━━━━━━━━━━━━\u001b[0m\u001b[37m\u001b[0m \u001b[1m0s\u001b[0m 4ms/step - accuracy: 1.0000 - loss: 7.2142e-06 - val_accuracy: 1.0000 - val_loss: 5.4534e-05\n",
      "Epoch 35/50\n",
      "\u001b[1m65/65\u001b[0m \u001b[32m━━━━━━━━━━━━━━━━━━━━\u001b[0m\u001b[37m\u001b[0m \u001b[1m0s\u001b[0m 4ms/step - accuracy: 1.0000 - loss: 3.1819e-06 - val_accuracy: 1.0000 - val_loss: 4.8064e-05\n",
      "Epoch 36/50\n",
      "\u001b[1m65/65\u001b[0m \u001b[32m━━━━━━━━━━━━━━━━━━━━\u001b[0m\u001b[37m\u001b[0m \u001b[1m0s\u001b[0m 4ms/step - accuracy: 1.0000 - loss: 3.9042e-06 - val_accuracy: 1.0000 - val_loss: 4.6493e-05\n",
      "Epoch 37/50\n",
      "\u001b[1m65/65\u001b[0m \u001b[32m━━━━━━━━━━━━━━━━━━━━\u001b[0m\u001b[37m\u001b[0m \u001b[1m1s\u001b[0m 4ms/step - accuracy: 1.0000 - loss: 1.3282e-05 - val_accuracy: 1.0000 - val_loss: 6.1448e-05\n",
      "Epoch 38/50\n",
      "\u001b[1m65/65\u001b[0m \u001b[32m━━━━━━━━━━━━━━━━━━━━\u001b[0m\u001b[37m\u001b[0m \u001b[1m0s\u001b[0m 5ms/step - accuracy: 1.0000 - loss: 3.7163e-06 - val_accuracy: 1.0000 - val_loss: 4.7085e-05\n",
      "Epoch 39/50\n",
      "\u001b[1m65/65\u001b[0m \u001b[32m━━━━━━━━━━━━━━━━━━━━\u001b[0m\u001b[37m\u001b[0m \u001b[1m0s\u001b[0m 6ms/step - accuracy: 1.0000 - loss: 2.0026e-06 - val_accuracy: 1.0000 - val_loss: 4.0848e-05\n",
      "Epoch 40/50\n",
      "\u001b[1m65/65\u001b[0m \u001b[32m━━━━━━━━━━━━━━━━━━━━\u001b[0m\u001b[37m\u001b[0m \u001b[1m1s\u001b[0m 6ms/step - accuracy: 1.0000 - loss: 2.6341e-06 - val_accuracy: 1.0000 - val_loss: 4.0183e-05\n",
      "Epoch 41/50\n",
      "\u001b[1m65/65\u001b[0m \u001b[32m━━━━━━━━━━━━━━━━━━━━\u001b[0m\u001b[37m\u001b[0m \u001b[1m1s\u001b[0m 6ms/step - accuracy: 1.0000 - loss: 2.3849e-06 - val_accuracy: 1.0000 - val_loss: 3.8194e-05\n",
      "Epoch 42/50\n",
      "\u001b[1m65/65\u001b[0m \u001b[32m━━━━━━━━━━━━━━━━━━━━\u001b[0m\u001b[37m\u001b[0m \u001b[1m1s\u001b[0m 6ms/step - accuracy: 1.0000 - loss: 1.8281e-06 - val_accuracy: 1.0000 - val_loss: 3.7028e-05\n",
      "Epoch 43/50\n",
      "\u001b[1m65/65\u001b[0m \u001b[32m━━━━━━━━━━━━━━━━━━━━\u001b[0m\u001b[37m\u001b[0m \u001b[1m1s\u001b[0m 7ms/step - accuracy: 1.0000 - loss: 4.2429e-06 - val_accuracy: 1.0000 - val_loss: 3.9181e-05\n",
      "Epoch 44/50\n",
      "\u001b[1m65/65\u001b[0m \u001b[32m━━━━━━━━━━━━━━━━━━━━\u001b[0m\u001b[37m\u001b[0m \u001b[1m1s\u001b[0m 6ms/step - accuracy: 1.0000 - loss: 1.8276e-06 - val_accuracy: 1.0000 - val_loss: 4.1098e-05\n",
      "Epoch 45/50\n",
      "\u001b[1m65/65\u001b[0m \u001b[32m━━━━━━━━━━━━━━━━━━━━\u001b[0m\u001b[37m\u001b[0m \u001b[1m0s\u001b[0m 4ms/step - accuracy: 1.0000 - loss: 5.0555e-06 - val_accuracy: 1.0000 - val_loss: 4.1885e-05\n",
      "Epoch 46/50\n",
      "\u001b[1m65/65\u001b[0m \u001b[32m━━━━━━━━━━━━━━━━━━━━\u001b[0m\u001b[37m\u001b[0m \u001b[1m0s\u001b[0m 5ms/step - accuracy: 1.0000 - loss: 2.3989e-06 - val_accuracy: 1.0000 - val_loss: 3.5958e-05\n",
      "Epoch 47/50\n",
      "\u001b[1m65/65\u001b[0m \u001b[32m━━━━━━━━━━━━━━━━━━━━\u001b[0m\u001b[37m\u001b[0m \u001b[1m1s\u001b[0m 4ms/step - accuracy: 1.0000 - loss: 1.2693e-06 - val_accuracy: 1.0000 - val_loss: 3.1539e-05\n",
      "Epoch 48/50\n",
      "\u001b[1m65/65\u001b[0m \u001b[32m━━━━━━━━━━━━━━━━━━━━\u001b[0m\u001b[37m\u001b[0m \u001b[1m0s\u001b[0m 4ms/step - accuracy: 1.0000 - loss: 6.5942e-06 - val_accuracy: 1.0000 - val_loss: 4.2849e-05\n",
      "Epoch 49/50\n",
      "\u001b[1m65/65\u001b[0m \u001b[32m━━━━━━━━━━━━━━━━━━━━\u001b[0m\u001b[37m\u001b[0m \u001b[1m0s\u001b[0m 4ms/step - accuracy: 1.0000 - loss: 2.7351e-06 - val_accuracy: 1.0000 - val_loss: 2.4341e-05\n",
      "Epoch 50/50\n",
      "\u001b[1m65/65\u001b[0m \u001b[32m━━━━━━━━━━━━━━━━━━━━\u001b[0m\u001b[37m\u001b[0m \u001b[1m0s\u001b[0m 4ms/step - accuracy: 1.0000 - loss: 2.8797e-06 - val_accuracy: 1.0000 - val_loss: 2.7066e-05\n"
     ]
    },
    {
     "data": {
      "image/png": "[encoded data removed]",
      "text/plain": [
       "<Figure size 1000x600 with 1 Axes>"
      ]
     },
     "metadata": {},
     "output_type": "display_data"
    }
   ],
   "source": [
    "model2.compile(optimizer=Adam(learning_rate=0.001), loss='binary_crossentropy', metrics=['accuracy'])\n",
    "history2 = model2.fit(static_model_x_train, static_model_y_train, epochs=50, validation_split=.2, callbacks=[]).history\n",
    "dl_history_plot(history2)"
   ]
  },
  {
   "cell_type": "code",
   "execution_count": 22,
   "metadata": {
    "colab": {
     "base_uri": "https://localhost:8080/"
    },
    "executionInfo": {
     "elapsed": 10,
     "status": "ok",
     "timestamp": 1729231838831,
     "user": {
      "displayName": "강해찬",
      "userId": "08180896618044652518"
     },
     "user_tz": -540
    },
    "id": "V5cjy5Nk_QTJ",
    "outputId": "c5d78843-74f2-4dc4-9d50-a9bd2c109236"
   },
   "outputs": [
    {
     "name": "stdout",
     "output_type": "stream",
     "text": [
      "\u001b[1m21/21\u001b[0m \u001b[32m━━━━━━━━━━━━━━━━━━━━\u001b[0m\u001b[37m\u001b[0m \u001b[1m0s\u001b[0m 5ms/step\n",
      "[[224   0]\n",
      " [  0 423]]\n",
      "              precision    recall  f1-score   support\n",
      "\n",
      "           0       1.00      1.00      1.00       224\n",
      "           1       1.00      1.00      1.00       423\n",
      "\n",
      "    accuracy                           1.00       647\n",
      "   macro avg       1.00      1.00      1.00       647\n",
      "weighted avg       1.00      1.00      1.00       647\n",
      "\n"
     ]
    }
   ],
   "source": [
    "static_model_pred = model2.predict(static_model_x_val)\n",
    "static_model_pred_1 = np.where(static_model_pred >= .5, 1, 0)\n",
    "print(confusion_matrix(static_model_y_val, static_model_pred_1))\n",
    "print(classification_report(static_model_y_val, static_model_pred_1))"
   ]
  },
  {
   "cell_type": "markdown",
   "metadata": {
    "id": "iZMnsVWU_QTK"
   },
   "source": [
    "#### 1) 단계2-1-2 : 정적 동작 세부 분류2(SITTING, STANDING 구분 모델)"
   ]
  },
  {
   "cell_type": "markdown",
   "metadata": {
    "id": "i9VKymsV_QTK"
   },
   "source": [
    "* 세부 요구사항\n",
    "    * 정적 행동에서(Sitting, Standing)인 데이터 추출\n",
    "    * Sitting, Standing 를 분류하는 모델을 생성\n"
   ]
  },
  {
   "cell_type": "code",
   "execution_count": 23,
   "metadata": {
    "executionInfo": {
     "elapsed": 7,
     "status": "ok",
     "timestamp": 1729231838831,
     "user": {
      "displayName": "강해찬",
      "userId": "08180896618044652518"
     },
     "user_tz": -540
    },
    "id": "XMie_aw6_QTK"
   },
   "outputs": [],
   "source": [
    "static_b_model_data = model1_data.loc[model1_data['Activity'].isin(['SITTING', 'STANDING'])].copy()\n",
    "static_b_model_data['Activity'] = static_b_model_data['Activity'].map({'SITTING':0, 'STANDING':1})\n",
    "\n",
    "static_b_model_x = static_b_model_data.drop(['is_dynamic', 'Activity'], axis=1)\n",
    "static_b_model_x = pd.get_dummies(static_b_model_x, columns=['subject'], dtype = int)\n",
    "static_b_model_y = static_b_model_data.loc[:, 'Activity']\n",
    "\n",
    "scaler = MinMaxScaler()\n",
    "static_b_model_x = scaler.fit_transform(static_b_model_x)"
   ]
  },
  {
   "cell_type": "code",
   "execution_count": 24,
   "metadata": {
    "executionInfo": {
     "elapsed": 6,
     "status": "ok",
     "timestamp": 1729231838831,
     "user": {
      "displayName": "강해찬",
      "userId": "08180896618044652518"
     },
     "user_tz": -540
    },
    "id": "T1iigd7w_QTL"
   },
   "outputs": [],
   "source": [
    "static_b_model_x_train, static_b_model_x_val, static_b_model_y_train, static_b_model_y_val = train_test_split(static_b_model_x, static_b_model_y, test_size=.2)"
   ]
  },
  {
   "cell_type": "code",
   "execution_count": 25,
   "metadata": {
    "colab": {
     "base_uri": "https://localhost:8080/",
     "height": 225
    },
    "executionInfo": {
     "elapsed": 792,
     "status": "ok",
     "timestamp": 1729231839617,
     "user": {
      "displayName": "강해찬",
      "userId": "08180896618044652518"
     },
     "user_tz": -540
    },
    "id": "JytsnQph_QTL",
    "outputId": "96102372-221c-48fe-bbae-db0d3e045739"
   },
   "outputs": [
    {
     "data": {
      "text/html": [
       "<pre style=\"white-space:pre;overflow-x:auto;line-height:normal;font-family:Menlo,'DejaVu Sans Mono',consolas,'Courier New',monospace\"><span style=\"font-weight: bold\">Model: \"sequential\"</span>\n",
       "</pre>\n"
      ],
      "text/plain": [
       "\u001b[1mModel: \"sequential\"\u001b[0m\n"
      ]
     },
     "metadata": {},
     "output_type": "display_data"
    },
    {
     "data": {
      "text/html": [
       "<pre style=\"white-space:pre;overflow-x:auto;line-height:normal;font-family:Menlo,'DejaVu Sans Mono',consolas,'Courier New',monospace\">┏━━━━━━━━━━━━━━━━━━━━━━━━━━━━━━━━━━━━━━┳━━━━━━━━━━━━━━━━━━━━━━━━━━━━━┳━━━━━━━━━━━━━━━━━┓\n",
       "┃<span style=\"font-weight: bold\"> Layer (type)                         </span>┃<span style=\"font-weight: bold\"> Output Shape                </span>┃<span style=\"font-weight: bold\">         Param # </span>┃\n",
       "┡━━━━━━━━━━━━━━━━━━━━━━━━━━━━━━━━━━━━━━╇━━━━━━━━━━━━━━━━━━━━━━━━━━━━━╇━━━━━━━━━━━━━━━━━┩\n",
       "│ dense (<span style=\"color: #0087ff; text-decoration-color: #0087ff\">Dense</span>)                        │ (<span style=\"color: #00d7ff; text-decoration-color: #00d7ff\">None</span>, <span style=\"color: #00af00; text-decoration-color: #00af00\">32</span>)                  │          <span style=\"color: #00af00; text-decoration-color: #00af00\">18,656</span> │\n",
       "├──────────────────────────────────────┼─────────────────────────────┼─────────────────┤\n",
       "│ dense_1 (<span style=\"color: #0087ff; text-decoration-color: #0087ff\">Dense</span>)                      │ (<span style=\"color: #00d7ff; text-decoration-color: #00d7ff\">None</span>, <span style=\"color: #00af00; text-decoration-color: #00af00\">8</span>)                   │             <span style=\"color: #00af00; text-decoration-color: #00af00\">264</span> │\n",
       "├──────────────────────────────────────┼─────────────────────────────┼─────────────────┤\n",
       "│ dense_2 (<span style=\"color: #0087ff; text-decoration-color: #0087ff\">Dense</span>)                      │ (<span style=\"color: #00d7ff; text-decoration-color: #00d7ff\">None</span>, <span style=\"color: #00af00; text-decoration-color: #00af00\">1</span>)                   │               <span style=\"color: #00af00; text-decoration-color: #00af00\">9</span> │\n",
       "└──────────────────────────────────────┴─────────────────────────────┴─────────────────┘\n",
       "</pre>\n"
      ],
      "text/plain": [
       "┏━━━━━━━━━━━━━━━━━━━━━━━━━━━━━━━━━━━━━━┳━━━━━━━━━━━━━━━━━━━━━━━━━━━━━┳━━━━━━━━━━━━━━━━━┓\n",
       "┃\u001b[1m \u001b[0m\u001b[1mLayer (type)                        \u001b[0m\u001b[1m \u001b[0m┃\u001b[1m \u001b[0m\u001b[1mOutput Shape               \u001b[0m\u001b[1m \u001b[0m┃\u001b[1m \u001b[0m\u001b[1m        Param #\u001b[0m\u001b[1m \u001b[0m┃\n",
       "┡━━━━━━━━━━━━━━━━━━━━━━━━━━━━━━━━━━━━━━╇━━━━━━━━━━━━━━━━━━━━━━━━━━━━━╇━━━━━━━━━━━━━━━━━┩\n",
       "│ dense (\u001b[38;5;33mDense\u001b[0m)                        │ (\u001b[38;5;45mNone\u001b[0m, \u001b[38;5;34m32\u001b[0m)                  │          \u001b[38;5;34m18,656\u001b[0m │\n",
       "├──────────────────────────────────────┼─────────────────────────────┼─────────────────┤\n",
       "│ dense_1 (\u001b[38;5;33mDense\u001b[0m)                      │ (\u001b[38;5;45mNone\u001b[0m, \u001b[38;5;34m8\u001b[0m)                   │             \u001b[38;5;34m264\u001b[0m │\n",
       "├──────────────────────────────────────┼─────────────────────────────┼─────────────────┤\n",
       "│ dense_2 (\u001b[38;5;33mDense\u001b[0m)                      │ (\u001b[38;5;45mNone\u001b[0m, \u001b[38;5;34m1\u001b[0m)                   │               \u001b[38;5;34m9\u001b[0m │\n",
       "└──────────────────────────────────────┴─────────────────────────────┴─────────────────┘\n"
      ]
     },
     "metadata": {},
     "output_type": "display_data"
    },
    {
     "data": {
      "text/html": [
       "<pre style=\"white-space:pre;overflow-x:auto;line-height:normal;font-family:Menlo,'DejaVu Sans Mono',consolas,'Courier New',monospace\"><span style=\"font-weight: bold\"> Total params: </span><span style=\"color: #00af00; text-decoration-color: #00af00\">18,929</span> (73.94 KB)\n",
       "</pre>\n"
      ],
      "text/plain": [
       "\u001b[1m Total params: \u001b[0m\u001b[38;5;34m18,929\u001b[0m (73.94 KB)\n"
      ]
     },
     "metadata": {},
     "output_type": "display_data"
    },
    {
     "data": {
      "text/html": [
       "<pre style=\"white-space:pre;overflow-x:auto;line-height:normal;font-family:Menlo,'DejaVu Sans Mono',consolas,'Courier New',monospace\"><span style=\"font-weight: bold\"> Trainable params: </span><span style=\"color: #00af00; text-decoration-color: #00af00\">18,929</span> (73.94 KB)\n",
       "</pre>\n"
      ],
      "text/plain": [
       "\u001b[1m Trainable params: \u001b[0m\u001b[38;5;34m18,929\u001b[0m (73.94 KB)\n"
      ]
     },
     "metadata": {},
     "output_type": "display_data"
    },
    {
     "data": {
      "text/html": [
       "<pre style=\"white-space:pre;overflow-x:auto;line-height:normal;font-family:Menlo,'DejaVu Sans Mono',consolas,'Courier New',monospace\"><span style=\"font-weight: bold\"> Non-trainable params: </span><span style=\"color: #00af00; text-decoration-color: #00af00\">0</span> (0.00 B)\n",
       "</pre>\n"
      ],
      "text/plain": [
       "\u001b[1m Non-trainable params: \u001b[0m\u001b[38;5;34m0\u001b[0m (0.00 B)\n"
      ]
     },
     "metadata": {},
     "output_type": "display_data"
    }
   ],
   "source": [
    "clear_session()\n",
    "nfeatures = static_b_model_x_train.shape[1]\n",
    "\n",
    "model3 = Sequential([\n",
    "    Input(shape=(nfeatures,)),\n",
    "    Dense(32, activation='relu'),\n",
    "    Dense(8, activation='relu'),\n",
    "    Dense(1, activation='sigmoid')\n",
    "])\n",
    "\n",
    "model3.summary()"
   ]
  },
  {
   "cell_type": "code",
   "execution_count": 26,
   "metadata": {
    "colab": {
     "base_uri": "https://localhost:8080/",
     "height": 1000
    },
    "executionInfo": {
     "elapsed": 12244,
     "status": "ok",
     "timestamp": 1729231851853,
     "user": {
      "displayName": "강해찬",
      "userId": "08180896618044652518"
     },
     "user_tz": -540
    },
    "id": "Eidd8nVA_QTL",
    "outputId": "57580bd0-d22a-449e-c101-0e49543bd5bd"
   },
   "outputs": [
    {
     "name": "stdout",
     "output_type": "stream",
     "text": [
      "Epoch 1/40\n",
      "\u001b[1m43/43\u001b[0m \u001b[32m━━━━━━━━━━━━━━━━━━━━\u001b[0m\u001b[37m\u001b[0m \u001b[1m2s\u001b[0m 7ms/step - accuracy: 0.5595 - loss: 0.6723 - val_accuracy: 0.7935 - val_loss: 0.5594\n",
      "Epoch 2/40\n",
      "\u001b[1m43/43\u001b[0m \u001b[32m━━━━━━━━━━━━━━━━━━━━\u001b[0m\u001b[37m\u001b[0m \u001b[1m0s\u001b[0m 3ms/step - accuracy: 0.8217 - loss: 0.5112 - val_accuracy: 0.8938 - val_loss: 0.3685\n",
      "Epoch 3/40\n",
      "\u001b[1m43/43\u001b[0m \u001b[32m━━━━━━━━━━━━━━━━━━━━\u001b[0m\u001b[37m\u001b[0m \u001b[1m0s\u001b[0m 4ms/step - accuracy: 0.8992 - loss: 0.3298 - val_accuracy: 0.9115 - val_loss: 0.2564\n",
      "Epoch 4/40\n",
      "\u001b[1m43/43\u001b[0m \u001b[32m━━━━━━━━━━━━━━━━━━━━\u001b[0m\u001b[37m\u001b[0m \u001b[1m0s\u001b[0m 3ms/step - accuracy: 0.9342 - loss: 0.2097 - val_accuracy: 0.9558 - val_loss: 0.1836\n",
      "Epoch 5/40\n",
      "\u001b[1m43/43\u001b[0m \u001b[32m━━━━━━━━━━━━━━━━━━━━\u001b[0m\u001b[37m\u001b[0m \u001b[1m0s\u001b[0m 3ms/step - accuracy: 0.9551 - loss: 0.1465 - val_accuracy: 0.9558 - val_loss: 0.1572\n",
      "Epoch 6/40\n",
      "\u001b[1m43/43\u001b[0m \u001b[32m━━━━━━━━━━━━━━━━━━━━\u001b[0m\u001b[37m\u001b[0m \u001b[1m0s\u001b[0m 3ms/step - accuracy: 0.9522 - loss: 0.1373 - val_accuracy: 0.9617 - val_loss: 0.1349\n",
      "Epoch 7/40\n",
      "\u001b[1m43/43\u001b[0m \u001b[32m━━━━━━━━━━━━━━━━━━━━\u001b[0m\u001b[37m\u001b[0m \u001b[1m0s\u001b[0m 3ms/step - accuracy: 0.9616 - loss: 0.1158 - val_accuracy: 0.9440 - val_loss: 0.1540\n",
      "Epoch 8/40\n",
      "\u001b[1m43/43\u001b[0m \u001b[32m━━━━━━━━━━━━━━━━━━━━\u001b[0m\u001b[37m\u001b[0m \u001b[1m0s\u001b[0m 3ms/step - accuracy: 0.9636 - loss: 0.1111 - val_accuracy: 0.9735 - val_loss: 0.1045\n",
      "Epoch 9/40\n",
      "\u001b[1m43/43\u001b[0m \u001b[32m━━━━━━━━━━━━━━━━━━━━\u001b[0m\u001b[37m\u001b[0m \u001b[1m0s\u001b[0m 3ms/step - accuracy: 0.9692 - loss: 0.0856 - val_accuracy: 0.9676 - val_loss: 0.1100\n",
      "Epoch 10/40\n",
      "\u001b[1m43/43\u001b[0m \u001b[32m━━━━━━━━━━━━━━━━━━━━\u001b[0m\u001b[37m\u001b[0m \u001b[1m0s\u001b[0m 3ms/step - accuracy: 0.9735 - loss: 0.0844 - val_accuracy: 0.9469 - val_loss: 0.1437\n",
      "Epoch 11/40\n",
      "\u001b[1m43/43\u001b[0m \u001b[32m━━━━━━━━━━━━━━━━━━━━\u001b[0m\u001b[37m\u001b[0m \u001b[1m0s\u001b[0m 3ms/step - accuracy: 0.9660 - loss: 0.0819 - val_accuracy: 0.9764 - val_loss: 0.0907\n",
      "Epoch 12/40\n",
      "\u001b[1m43/43\u001b[0m \u001b[32m━━━━━━━━━━━━━━━━━━━━\u001b[0m\u001b[37m\u001b[0m \u001b[1m0s\u001b[0m 3ms/step - accuracy: 0.9835 - loss: 0.0645 - val_accuracy: 0.9794 - val_loss: 0.0998\n",
      "Epoch 13/40\n",
      "\u001b[1m43/43\u001b[0m \u001b[32m━━━━━━━━━━━━━━━━━━━━\u001b[0m\u001b[37m\u001b[0m \u001b[1m0s\u001b[0m 4ms/step - accuracy: 0.9744 - loss: 0.0768 - val_accuracy: 0.9735 - val_loss: 0.0721\n",
      "Epoch 14/40\n",
      "\u001b[1m43/43\u001b[0m \u001b[32m━━━━━━━━━━━━━━━━━━━━\u001b[0m\u001b[37m\u001b[0m \u001b[1m0s\u001b[0m 3ms/step - accuracy: 0.9805 - loss: 0.0534 - val_accuracy: 0.9469 - val_loss: 0.1335\n",
      "Epoch 15/40\n",
      "\u001b[1m43/43\u001b[0m \u001b[32m━━━━━━━━━━━━━━━━━━━━\u001b[0m\u001b[37m\u001b[0m \u001b[1m0s\u001b[0m 3ms/step - accuracy: 0.9550 - loss: 0.1002 - val_accuracy: 0.9440 - val_loss: 0.1274\n",
      "Epoch 16/40\n",
      "\u001b[1m43/43\u001b[0m \u001b[32m━━━━━━━━━━━━━━━━━━━━\u001b[0m\u001b[37m\u001b[0m \u001b[1m0s\u001b[0m 3ms/step - accuracy: 0.9783 - loss: 0.0547 - val_accuracy: 0.9882 - val_loss: 0.0679\n",
      "Epoch 17/40\n",
      "\u001b[1m43/43\u001b[0m \u001b[32m━━━━━━━━━━━━━━━━━━━━\u001b[0m\u001b[37m\u001b[0m \u001b[1m0s\u001b[0m 3ms/step - accuracy: 0.9798 - loss: 0.0566 - val_accuracy: 0.9823 - val_loss: 0.0624\n",
      "Epoch 18/40\n",
      "\u001b[1m43/43\u001b[0m \u001b[32m━━━━━━━━━━━━━━━━━━━━\u001b[0m\u001b[37m\u001b[0m \u001b[1m0s\u001b[0m 3ms/step - accuracy: 0.9694 - loss: 0.0747 - val_accuracy: 0.9882 - val_loss: 0.0673\n",
      "Epoch 19/40\n",
      "\u001b[1m43/43\u001b[0m \u001b[32m━━━━━━━━━━━━━━━━━━━━\u001b[0m\u001b[37m\u001b[0m \u001b[1m0s\u001b[0m 3ms/step - accuracy: 0.9901 - loss: 0.0401 - val_accuracy: 0.9705 - val_loss: 0.1020\n",
      "Epoch 20/40\n",
      "\u001b[1m43/43\u001b[0m \u001b[32m━━━━━━━━━━━━━━━━━━━━\u001b[0m\u001b[37m\u001b[0m \u001b[1m0s\u001b[0m 3ms/step - accuracy: 0.9758 - loss: 0.0581 - val_accuracy: 0.9823 - val_loss: 0.0634\n",
      "Epoch 21/40\n",
      "\u001b[1m43/43\u001b[0m \u001b[32m━━━━━━━━━━━━━━━━━━━━\u001b[0m\u001b[37m\u001b[0m \u001b[1m0s\u001b[0m 3ms/step - accuracy: 0.9883 - loss: 0.0407 - val_accuracy: 0.9823 - val_loss: 0.0606\n",
      "Epoch 22/40\n",
      "\u001b[1m43/43\u001b[0m \u001b[32m━━━━━━━━━━━━━━━━━━━━\u001b[0m\u001b[37m\u001b[0m \u001b[1m0s\u001b[0m 4ms/step - accuracy: 0.9929 - loss: 0.0296 - val_accuracy: 0.9823 - val_loss: 0.0623\n",
      "Epoch 23/40\n",
      "\u001b[1m43/43\u001b[0m \u001b[32m━━━━━━━━━━━━━━━━━━━━\u001b[0m\u001b[37m\u001b[0m \u001b[1m0s\u001b[0m 3ms/step - accuracy: 0.9909 - loss: 0.0329 - val_accuracy: 0.9853 - val_loss: 0.0695\n",
      "Epoch 24/40\n",
      "\u001b[1m43/43\u001b[0m \u001b[32m━━━━━━━━━━━━━━━━━━━━\u001b[0m\u001b[37m\u001b[0m \u001b[1m0s\u001b[0m 7ms/step - accuracy: 0.9869 - loss: 0.0367 - val_accuracy: 0.9853 - val_loss: 0.0587\n",
      "Epoch 25/40\n",
      "\u001b[1m43/43\u001b[0m \u001b[32m━━━━━━━━━━━━━━━━━━━━\u001b[0m\u001b[37m\u001b[0m \u001b[1m1s\u001b[0m 5ms/step - accuracy: 0.9860 - loss: 0.0358 - val_accuracy: 0.9853 - val_loss: 0.0656\n",
      "Epoch 26/40\n",
      "\u001b[1m43/43\u001b[0m \u001b[32m━━━━━━━━━━━━━━━━━━━━\u001b[0m\u001b[37m\u001b[0m \u001b[1m0s\u001b[0m 6ms/step - accuracy: 0.9914 - loss: 0.0275 - val_accuracy: 0.9823 - val_loss: 0.0703\n",
      "Epoch 27/40\n",
      "\u001b[1m43/43\u001b[0m \u001b[32m━━━━━━━━━━━━━━━━━━━━\u001b[0m\u001b[37m\u001b[0m \u001b[1m1s\u001b[0m 5ms/step - accuracy: 0.9887 - loss: 0.0300 - val_accuracy: 0.9853 - val_loss: 0.0837\n",
      "Epoch 28/40\n",
      "\u001b[1m43/43\u001b[0m \u001b[32m━━━━━━━━━━━━━━━━━━━━\u001b[0m\u001b[37m\u001b[0m \u001b[1m0s\u001b[0m 6ms/step - accuracy: 0.9893 - loss: 0.0378 - val_accuracy: 0.9853 - val_loss: 0.0839\n",
      "Epoch 29/40\n",
      "\u001b[1m43/43\u001b[0m \u001b[32m━━━━━━━━━━━━━━━━━━━━\u001b[0m\u001b[37m\u001b[0m \u001b[1m0s\u001b[0m 4ms/step - accuracy: 0.9969 - loss: 0.0204 - val_accuracy: 0.9823 - val_loss: 0.0711\n",
      "Epoch 30/40\n",
      "\u001b[1m43/43\u001b[0m \u001b[32m━━━━━━━━━━━━━━━━━━━━\u001b[0m\u001b[37m\u001b[0m \u001b[1m0s\u001b[0m 7ms/step - accuracy: 0.9830 - loss: 0.0394 - val_accuracy: 0.9882 - val_loss: 0.0813\n",
      "Epoch 31/40\n",
      "\u001b[1m43/43\u001b[0m \u001b[32m━━━━━━━━━━━━━━━━━━━━\u001b[0m\u001b[37m\u001b[0m \u001b[1m1s\u001b[0m 6ms/step - accuracy: 0.9953 - loss: 0.0213 - val_accuracy: 0.9853 - val_loss: 0.0765\n",
      "Epoch 32/40\n",
      "\u001b[1m43/43\u001b[0m \u001b[32m━━━━━━━━━━━━━━━━━━━━\u001b[0m\u001b[37m\u001b[0m \u001b[1m0s\u001b[0m 3ms/step - accuracy: 0.9954 - loss: 0.0199 - val_accuracy: 0.9853 - val_loss: 0.0744\n",
      "Epoch 33/40\n",
      "\u001b[1m43/43\u001b[0m \u001b[32m━━━━━━━━━━━━━━━━━━━━\u001b[0m\u001b[37m\u001b[0m \u001b[1m0s\u001b[0m 3ms/step - accuracy: 0.9946 - loss: 0.0271 - val_accuracy: 0.9823 - val_loss: 0.0854\n",
      "Epoch 34/40\n",
      "\u001b[1m43/43\u001b[0m \u001b[32m━━━━━━━━━━━━━━━━━━━━\u001b[0m\u001b[37m\u001b[0m \u001b[1m0s\u001b[0m 3ms/step - accuracy: 0.9938 - loss: 0.0222 - val_accuracy: 0.9882 - val_loss: 0.0796\n",
      "Epoch 35/40\n",
      "\u001b[1m43/43\u001b[0m \u001b[32m━━━━━━━━━━━━━━━━━━━━\u001b[0m\u001b[37m\u001b[0m \u001b[1m0s\u001b[0m 3ms/step - accuracy: 0.9975 - loss: 0.0175 - val_accuracy: 0.9882 - val_loss: 0.0804\n",
      "Epoch 36/40\n",
      "\u001b[1m43/43\u001b[0m \u001b[32m━━━━━━━━━━━━━━━━━━━━\u001b[0m\u001b[37m\u001b[0m \u001b[1m0s\u001b[0m 3ms/step - accuracy: 0.9949 - loss: 0.0227 - val_accuracy: 0.9764 - val_loss: 0.1039\n",
      "Epoch 37/40\n",
      "\u001b[1m43/43\u001b[0m \u001b[32m━━━━━━━━━━━━━━━━━━━━\u001b[0m\u001b[37m\u001b[0m \u001b[1m0s\u001b[0m 3ms/step - accuracy: 0.9892 - loss: 0.0316 - val_accuracy: 0.9882 - val_loss: 0.0823\n",
      "Epoch 38/40\n",
      "\u001b[1m43/43\u001b[0m \u001b[32m━━━━━━━━━━━━━━━━━━━━\u001b[0m\u001b[37m\u001b[0m \u001b[1m0s\u001b[0m 3ms/step - accuracy: 0.9847 - loss: 0.0337 - val_accuracy: 0.9676 - val_loss: 0.1252\n",
      "Epoch 39/40\n",
      "\u001b[1m43/43\u001b[0m \u001b[32m━━━━━━━━━━━━━━━━━━━━\u001b[0m\u001b[37m\u001b[0m \u001b[1m0s\u001b[0m 3ms/step - accuracy: 0.9882 - loss: 0.0321 - val_accuracy: 0.9764 - val_loss: 0.1045\n",
      "Epoch 40/40\n",
      "\u001b[1m43/43\u001b[0m \u001b[32m━━━━━━━━━━━━━━━━━━━━\u001b[0m\u001b[37m\u001b[0m \u001b[1m0s\u001b[0m 3ms/step - accuracy: 0.9946 - loss: 0.0190 - val_accuracy: 0.9882 - val_loss: 0.0840\n"
     ]
    },
    {
     "data": {
      "image/png": "[encoded data removed]",
      "text/plain": [
       "<Figure size 1000x600 with 1 Axes>"
      ]
     },
     "metadata": {},
     "output_type": "display_data"
    }
   ],
   "source": [
    "model3.compile(optimizer=Adam(learning_rate=0.002), loss='binary_crossentropy', metrics=['accuracy'])\n",
    "history3 = model3.fit(static_b_model_x_train, static_b_model_y_train, epochs = 40, validation_split=0.2).history\n",
    "\n",
    "dl_history_plot(history3)"
   ]
  },
  {
   "cell_type": "code",
   "execution_count": 27,
   "metadata": {
    "colab": {
     "base_uri": "https://localhost:8080/"
    },
    "executionInfo": {
     "elapsed": 449,
     "status": "ok",
     "timestamp": 1729231852298,
     "user": {
      "displayName": "강해찬",
      "userId": "08180896618044652518"
     },
     "user_tz": -540
    },
    "id": "vTsBq1qP_QTL",
    "outputId": "071d30bf-8e35-4095-db7c-13e147290088"
   },
   "outputs": [
    {
     "name": "stdout",
     "output_type": "stream",
     "text": [
      "\u001b[1m14/14\u001b[0m \u001b[32m━━━━━━━━━━━━━━━━━━━━\u001b[0m\u001b[37m\u001b[0m \u001b[1m0s\u001b[0m 4ms/step\n",
      "              precision    recall  f1-score   support\n",
      "\n",
      "           0       0.98      0.98      0.98       218\n",
      "           1       0.98      0.98      0.98       206\n",
      "\n",
      "    accuracy                           0.98       424\n",
      "   macro avg       0.98      0.98      0.98       424\n",
      "weighted avg       0.98      0.98      0.98       424\n",
      "\n"
     ]
    }
   ],
   "source": [
    "static_b_model_pred = model3.predict(static_b_model_x_val)\n",
    "static_b_model_pred = np.where(static_b_model_pred >= .5, 1, 0)\n",
    "print(classification_report(static_b_model_y_val, static_b_model_pred))"
   ]
  },
  {
   "cell_type": "markdown",
   "metadata": {
    "id": "WFaqIRAy0pJ-"
   },
   "source": [
    "#### 2) 단계2-2 : 동적 동작 세부 분류"
   ]
  },
  {
   "cell_type": "markdown",
   "metadata": {
    "id": "dwGTMsJ60pJ-"
   },
   "source": [
    "* 세부 요구사항\n",
    "    * 동동적 행동(Walking, Walking Upstairs, Walking Downstairs)인 데이터 추출\n",
    "    * Walking, Walking Upstairs, Walking Downstairs 를 분류하는 모델을 생성\n",
    "    * 몇가지 모델을 만들고 가장 성능이 좋은 모델을 선정하시오."
   ]
  },
  {
   "cell_type": "code",
   "execution_count": 28,
   "metadata": {
    "executionInfo": {
     "elapsed": 15,
     "status": "ok",
     "timestamp": 1729231852298,
     "user": {
      "displayName": "강해찬",
      "userId": "08180896618044652518"
     },
     "user_tz": -540
    },
    "id": "tfLclxZB00V9"
   },
   "outputs": [],
   "source": [
    "dynamic_model_data = model1_data.loc[model1_data['Activity'].isin(['WALKING', 'WALKING_UPSTAIRS', 'WALKING_DOWNSTAIRS'])].copy()\n",
    "dynamic_model_data['Activity'] = dynamic_model_data['Activity'].map({'WALKING':0, 'WALKING_UPSTAIRS':1, 'WALKING_DOWNSTAIRS':2})\n",
    "\n",
    "dynamic_model_x = dynamic_model_data.drop(['is_dynamic', 'Activity', 'subject'], axis=1)\n",
    "dynamic_model_y = dynamic_model_data.loc[:, 'Activity']\n",
    "\n",
    "scaler = MinMaxScaler()\n",
    "dynamic_model_x = scaler.fit_transform(dynamic_model_x)"
   ]
  },
  {
   "cell_type": "code",
   "execution_count": 29,
   "metadata": {
    "executionInfo": {
     "elapsed": 15,
     "status": "ok",
     "timestamp": 1729231852299,
     "user": {
      "displayName": "강해찬",
      "userId": "08180896618044652518"
     },
     "user_tz": -540
    },
    "id": "ErvefaZL00SZ"
   },
   "outputs": [],
   "source": [
    "dynamic_model_x_train, dynamic_model_x_val, dynamic_model_y_train, dynamic_model_y_val = train_test_split(dynamic_model_x, dynamic_model_y, test_size=.2, random_state = 20)"
   ]
  },
  {
   "cell_type": "code",
   "execution_count": 30,
   "metadata": {
    "colab": {
     "base_uri": "https://localhost:8080/",
     "height": 1000
    },
    "executionInfo": {
     "elapsed": 8927,
     "status": "ok",
     "timestamp": 1729231861212,
     "user": {
      "displayName": "강해찬",
      "userId": "08180896618044652518"
     },
     "user_tz": -540
    },
    "id": "-pG1CDkk00PJ",
    "outputId": "9d275003-4361-48c1-aea3-cfa56dbfc64e",
    "scrolled": true
   },
   "outputs": [
    {
     "data": {
      "text/html": [
       "<pre style=\"white-space:pre;overflow-x:auto;line-height:normal;font-family:Menlo,'DejaVu Sans Mono',consolas,'Courier New',monospace\"><span style=\"font-weight: bold\">Model: \"sequential\"</span>\n",
       "</pre>\n"
      ],
      "text/plain": [
       "\u001b[1mModel: \"sequential\"\u001b[0m\n"
      ]
     },
     "metadata": {},
     "output_type": "display_data"
    },
    {
     "data": {
      "text/html": [
       "<pre style=\"white-space:pre;overflow-x:auto;line-height:normal;font-family:Menlo,'DejaVu Sans Mono',consolas,'Courier New',monospace\">┏━━━━━━━━━━━━━━━━━━━━━━━━━━━━━━━━━━━━━━┳━━━━━━━━━━━━━━━━━━━━━━━━━━━━━┳━━━━━━━━━━━━━━━━━┓\n",
       "┃<span style=\"font-weight: bold\"> Layer (type)                         </span>┃<span style=\"font-weight: bold\"> Output Shape                </span>┃<span style=\"font-weight: bold\">         Param # </span>┃\n",
       "┡━━━━━━━━━━━━━━━━━━━━━━━━━━━━━━━━━━━━━━╇━━━━━━━━━━━━━━━━━━━━━━━━━━━━━╇━━━━━━━━━━━━━━━━━┩\n",
       "│ dense (<span style=\"color: #0087ff; text-decoration-color: #0087ff\">Dense</span>)                        │ (<span style=\"color: #00d7ff; text-decoration-color: #00d7ff\">None</span>, <span style=\"color: #00af00; text-decoration-color: #00af00\">3</span>)                   │           <span style=\"color: #00af00; text-decoration-color: #00af00\">1,686</span> │\n",
       "└──────────────────────────────────────┴─────────────────────────────┴─────────────────┘\n",
       "</pre>\n"
      ],
      "text/plain": [
       "┏━━━━━━━━━━━━━━━━━━━━━━━━━━━━━━━━━━━━━━┳━━━━━━━━━━━━━━━━━━━━━━━━━━━━━┳━━━━━━━━━━━━━━━━━┓\n",
       "┃\u001b[1m \u001b[0m\u001b[1mLayer (type)                        \u001b[0m\u001b[1m \u001b[0m┃\u001b[1m \u001b[0m\u001b[1mOutput Shape               \u001b[0m\u001b[1m \u001b[0m┃\u001b[1m \u001b[0m\u001b[1m        Param #\u001b[0m\u001b[1m \u001b[0m┃\n",
       "┡━━━━━━━━━━━━━━━━━━━━━━━━━━━━━━━━━━━━━━╇━━━━━━━━━━━━━━━━━━━━━━━━━━━━━╇━━━━━━━━━━━━━━━━━┩\n",
       "│ dense (\u001b[38;5;33mDense\u001b[0m)                        │ (\u001b[38;5;45mNone\u001b[0m, \u001b[38;5;34m3\u001b[0m)                   │           \u001b[38;5;34m1,686\u001b[0m │\n",
       "└──────────────────────────────────────┴─────────────────────────────┴─────────────────┘\n"
      ]
     },
     "metadata": {},
     "output_type": "display_data"
    },
    {
     "data": {
      "text/html": [
       "<pre style=\"white-space:pre;overflow-x:auto;line-height:normal;font-family:Menlo,'DejaVu Sans Mono',consolas,'Courier New',monospace\"><span style=\"font-weight: bold\"> Total params: </span><span style=\"color: #00af00; text-decoration-color: #00af00\">1,686</span> (6.59 KB)\n",
       "</pre>\n"
      ],
      "text/plain": [
       "\u001b[1m Total params: \u001b[0m\u001b[38;5;34m1,686\u001b[0m (6.59 KB)\n"
      ]
     },
     "metadata": {},
     "output_type": "display_data"
    },
    {
     "data": {
      "text/html": [
       "<pre style=\"white-space:pre;overflow-x:auto;line-height:normal;font-family:Menlo,'DejaVu Sans Mono',consolas,'Courier New',monospace\"><span style=\"font-weight: bold\"> Trainable params: </span><span style=\"color: #00af00; text-decoration-color: #00af00\">1,686</span> (6.59 KB)\n",
       "</pre>\n"
      ],
      "text/plain": [
       "\u001b[1m Trainable params: \u001b[0m\u001b[38;5;34m1,686\u001b[0m (6.59 KB)\n"
      ]
     },
     "metadata": {},
     "output_type": "display_data"
    },
    {
     "data": {
      "text/html": [
       "<pre style=\"white-space:pre;overflow-x:auto;line-height:normal;font-family:Menlo,'DejaVu Sans Mono',consolas,'Courier New',monospace\"><span style=\"font-weight: bold\"> Non-trainable params: </span><span style=\"color: #00af00; text-decoration-color: #00af00\">0</span> (0.00 B)\n",
       "</pre>\n"
      ],
      "text/plain": [
       "\u001b[1m Non-trainable params: \u001b[0m\u001b[38;5;34m0\u001b[0m (0.00 B)\n"
      ]
     },
     "metadata": {},
     "output_type": "display_data"
    },
    {
     "name": "stdout",
     "output_type": "stream",
     "text": [
      "Epoch 1/30\n",
      "\u001b[1m53/53\u001b[0m \u001b[32m━━━━━━━━━━━━━━━━━━━━\u001b[0m\u001b[37m\u001b[0m \u001b[1m1s\u001b[0m 5ms/step - loss: 0.7309 - val_loss: 0.2407\n",
      "Epoch 2/30\n",
      "\u001b[1m53/53\u001b[0m \u001b[32m━━━━━━━━━━━━━━━━━━━━\u001b[0m\u001b[37m\u001b[0m \u001b[1m0s\u001b[0m 2ms/step - loss: 0.1955 - val_loss: 0.1731\n",
      "Epoch 3/30\n",
      "\u001b[1m53/53\u001b[0m \u001b[32m━━━━━━━━━━━━━━━━━━━━\u001b[0m\u001b[37m\u001b[0m \u001b[1m0s\u001b[0m 2ms/step - loss: 0.1393 - val_loss: 0.1213\n",
      "Epoch 4/30\n",
      "\u001b[1m53/53\u001b[0m \u001b[32m━━━━━━━━━━━━━━━━━━━━\u001b[0m\u001b[37m\u001b[0m \u001b[1m0s\u001b[0m 2ms/step - loss: 0.0994 - val_loss: 0.1086\n",
      "Epoch 5/30\n",
      "\u001b[1m53/53\u001b[0m \u001b[32m━━━━━━━━━━━━━━━━━━━━\u001b[0m\u001b[37m\u001b[0m \u001b[1m0s\u001b[0m 2ms/step - loss: 0.0832 - val_loss: 0.0853\n",
      "Epoch 6/30\n",
      "\u001b[1m53/53\u001b[0m \u001b[32m━━━━━━━━━━━━━━━━━━━━\u001b[0m\u001b[37m\u001b[0m \u001b[1m0s\u001b[0m 2ms/step - loss: 0.0660 - val_loss: 0.0774\n",
      "Epoch 7/30\n",
      "\u001b[1m53/53\u001b[0m \u001b[32m━━━━━━━━━━━━━━━━━━━━\u001b[0m\u001b[37m\u001b[0m \u001b[1m0s\u001b[0m 2ms/step - loss: 0.0677 - val_loss: 0.0735\n",
      "Epoch 8/30\n",
      "\u001b[1m53/53\u001b[0m \u001b[32m━━━━━━━━━━━━━━━━━━━━\u001b[0m\u001b[37m\u001b[0m \u001b[1m0s\u001b[0m 3ms/step - loss: 0.0594 - val_loss: 0.0700\n",
      "Epoch 9/30\n",
      "\u001b[1m53/53\u001b[0m \u001b[32m━━━━━━━━━━━━━━━━━━━━\u001b[0m\u001b[37m\u001b[0m \u001b[1m0s\u001b[0m 2ms/step - loss: 0.0522 - val_loss: 0.0631\n",
      "Epoch 10/30\n",
      "\u001b[1m53/53\u001b[0m \u001b[32m━━━━━━━━━━━━━━━━━━━━\u001b[0m\u001b[37m\u001b[0m \u001b[1m0s\u001b[0m 3ms/step - loss: 0.0450 - val_loss: 0.0942\n",
      "Epoch 11/30\n",
      "\u001b[1m53/53\u001b[0m \u001b[32m━━━━━━━━━━━━━━━━━━━━\u001b[0m\u001b[37m\u001b[0m \u001b[1m0s\u001b[0m 2ms/step - loss: 0.0537 - val_loss: 0.0569\n",
      "Epoch 12/30\n",
      "\u001b[1m53/53\u001b[0m \u001b[32m━━━━━━━━━━━━━━━━━━━━\u001b[0m\u001b[37m\u001b[0m \u001b[1m0s\u001b[0m 2ms/step - loss: 0.0383 - val_loss: 0.0557\n",
      "Epoch 13/30\n",
      "\u001b[1m53/53\u001b[0m \u001b[32m━━━━━━━━━━━━━━━━━━━━\u001b[0m\u001b[37m\u001b[0m \u001b[1m0s\u001b[0m 3ms/step - loss: 0.0391 - val_loss: 0.0518\n",
      "Epoch 14/30\n",
      "\u001b[1m53/53\u001b[0m \u001b[32m━━━━━━━━━━━━━━━━━━━━\u001b[0m\u001b[37m\u001b[0m \u001b[1m0s\u001b[0m 2ms/step - loss: 0.0385 - val_loss: 0.0529\n",
      "Epoch 15/30\n",
      "\u001b[1m53/53\u001b[0m \u001b[32m━━━━━━━━━━━━━━━━━━━━\u001b[0m\u001b[37m\u001b[0m \u001b[1m0s\u001b[0m 2ms/step - loss: 0.0375 - val_loss: 0.0487\n",
      "Epoch 16/30\n",
      "\u001b[1m53/53\u001b[0m \u001b[32m━━━━━━━━━━━━━━━━━━━━\u001b[0m\u001b[37m\u001b[0m \u001b[1m0s\u001b[0m 2ms/step - loss: 0.0362 - val_loss: 0.0463\n",
      "Epoch 17/30\n",
      "\u001b[1m53/53\u001b[0m \u001b[32m━━━━━━━━━━━━━━━━━━━━\u001b[0m\u001b[37m\u001b[0m \u001b[1m0s\u001b[0m 2ms/step - loss: 0.0338 - val_loss: 0.0544\n",
      "Epoch 18/30\n",
      "\u001b[1m53/53\u001b[0m \u001b[32m━━━━━━━━━━━━━━━━━━━━\u001b[0m\u001b[37m\u001b[0m \u001b[1m0s\u001b[0m 2ms/step - loss: 0.0411 - val_loss: 0.0461\n",
      "Epoch 19/30\n",
      "\u001b[1m53/53\u001b[0m \u001b[32m━━━━━━━━━━━━━━━━━━━━\u001b[0m\u001b[37m\u001b[0m \u001b[1m0s\u001b[0m 2ms/step - loss: 0.0308 - val_loss: 0.0445\n",
      "Epoch 20/30\n",
      "\u001b[1m53/53\u001b[0m \u001b[32m━━━━━━━━━━━━━━━━━━━━\u001b[0m\u001b[37m\u001b[0m \u001b[1m0s\u001b[0m 2ms/step - loss: 0.0316 - val_loss: 0.0434\n",
      "Epoch 21/30\n",
      "\u001b[1m53/53\u001b[0m \u001b[32m━━━━━━━━━━━━━━━━━━━━\u001b[0m\u001b[37m\u001b[0m \u001b[1m0s\u001b[0m 2ms/step - loss: 0.0355 - val_loss: 0.0424\n",
      "Epoch 22/30\n",
      "\u001b[1m53/53\u001b[0m \u001b[32m━━━━━━━━━━━━━━━━━━━━\u001b[0m\u001b[37m\u001b[0m \u001b[1m0s\u001b[0m 2ms/step - loss: 0.0316 - val_loss: 0.0479\n",
      "Epoch 23/30\n",
      "\u001b[1m53/53\u001b[0m \u001b[32m━━━━━━━━━━━━━━━━━━━━\u001b[0m\u001b[37m\u001b[0m \u001b[1m0s\u001b[0m 2ms/step - loss: 0.0314 - val_loss: 0.0534\n",
      "Epoch 24/30\n",
      "\u001b[1m53/53\u001b[0m \u001b[32m━━━━━━━━━━━━━━━━━━━━\u001b[0m\u001b[37m\u001b[0m \u001b[1m0s\u001b[0m 2ms/step - loss: 0.0313 - val_loss: 0.0459\n",
      "Epoch 25/30\n",
      "\u001b[1m53/53\u001b[0m \u001b[32m━━━━━━━━━━━━━━━━━━━━\u001b[0m\u001b[37m\u001b[0m \u001b[1m0s\u001b[0m 3ms/step - loss: 0.0297 - val_loss: 0.0426\n",
      "Epoch 26/30\n",
      "\u001b[1m53/53\u001b[0m \u001b[32m━━━━━━━━━━━━━━━━━━━━\u001b[0m\u001b[37m\u001b[0m \u001b[1m0s\u001b[0m 2ms/step - loss: 0.0273 - val_loss: 0.0419\n",
      "Epoch 27/30\n",
      "\u001b[1m53/53\u001b[0m \u001b[32m━━━━━━━━━━━━━━━━━━━━\u001b[0m\u001b[37m\u001b[0m \u001b[1m0s\u001b[0m 3ms/step - loss: 0.0287 - val_loss: 0.0461\n",
      "Epoch 28/30\n",
      "\u001b[1m53/53\u001b[0m \u001b[32m━━━━━━━━━━━━━━━━━━━━\u001b[0m\u001b[37m\u001b[0m \u001b[1m0s\u001b[0m 4ms/step - loss: 0.0358 - val_loss: 0.0405\n",
      "Epoch 29/30\n",
      "\u001b[1m53/53\u001b[0m \u001b[32m━━━━━━━━━━━━━━━━━━━━\u001b[0m\u001b[37m\u001b[0m \u001b[1m0s\u001b[0m 4ms/step - loss: 0.0283 - val_loss: 0.0395\n",
      "Epoch 30/30\n",
      "\u001b[1m53/53\u001b[0m \u001b[32m━━━━━━━━━━━━━━━━━━━━\u001b[0m\u001b[37m\u001b[0m \u001b[1m0s\u001b[0m 4ms/step - loss: 0.0280 - val_loss: 0.0572\n"
     ]
    },
    {
     "data": {
      "image/png": "[encoded data removed]",
      "text/plain": [
       "<Figure size 1000x600 with 1 Axes>"
      ]
     },
     "metadata": {},
     "output_type": "display_data"
    }
   ],
   "source": [
    "nfeatures = dynamic_model_x_train.shape[1]\n",
    "\n",
    "clear_session()\n",
    "model4 = Sequential([Input(shape = (nfeatures,)),\n",
    "                     Dense(3, activation = 'softmax', kernel_regularizer=l2(0.0001))])\n",
    "model4.summary()\n",
    "\n",
    "model4.compile(optimizer=Adam(learning_rate=0.01), loss= 'sparse_categorical_crossentropy')\n",
    "history4 = model4.fit(dynamic_model_x_train, dynamic_model_y_train, epochs = 30, validation_split=0.2).history\n",
    "dl_history_plot(history4)"
   ]
  },
  {
   "cell_type": "code",
   "execution_count": 31,
   "metadata": {
    "colab": {
     "base_uri": "https://localhost:8080/"
    },
    "executionInfo": {
     "elapsed": 659,
     "status": "ok",
     "timestamp": 1729231861862,
     "user": {
      "displayName": "강해찬",
      "userId": "08180896618044652518"
     },
     "user_tz": -540
    },
    "id": "zJgQEt07_QTM",
    "outputId": "2f3c5da8-e818-4ed8-e2da-dc712b861d54"
   },
   "outputs": [
    {
     "name": "stdout",
     "output_type": "stream",
     "text": [
      "\u001b[1m17/17\u001b[0m \u001b[32m━━━━━━━━━━━━━━━━━━━━\u001b[0m\u001b[37m\u001b[0m \u001b[1m0s\u001b[0m 4ms/step\n",
      "              precision    recall  f1-score   support\n",
      "\n",
      "           0       0.98      0.99      0.98       199\n",
      "           1       0.99      0.98      0.99       175\n",
      "           2       0.99      0.99      0.99       156\n",
      "\n",
      "    accuracy                           0.98       530\n",
      "   macro avg       0.99      0.98      0.99       530\n",
      "weighted avg       0.99      0.98      0.98       530\n",
      "\n"
     ]
    }
   ],
   "source": [
    "dynamic_model_pred = model4.predict(dynamic_model_x_val)\n",
    "dynamic_model_pred_1 = dynamic_model_pred.argmax(axis=1)\n",
    "print(classification_report(dynamic_model_y_val, dynamic_model_pred_1))"
   ]
  },
  {
   "cell_type": "markdown",
   "metadata": {
    "id": "G0vxLxBy1MHk"
   },
   "source": [
    "### (3) 분류 모델 파이프라인 구성\n"
   ]
  },
  {
   "cell_type": "markdown",
   "metadata": {
    "id": "6ypgwVbm1MHl"
   },
   "source": [
    "* 세부 요구사항\n",
    "    * 두 단계 모델을 통합하고, 새로운 데이터(test)에 대해서 최종 예측결과와 성능평가가 나오도록 함수로 만들기\n",
    "    * 데이터 파이프라인 구축 : test데이터가 로딩되어 전처리 과정을 거치고, 예측 및 성능 평가 수행"
   ]
  },
  {
   "cell_type": "markdown",
   "metadata": {
    "id": "M7nRJsL1_QTN"
   },
   "source": [
    "![image.png](data:image/png;base64,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)"
   ]
  },
  {
   "cell_type": "markdown",
   "metadata": {
    "id": "Re6LpNYhi5d3"
   },
   "source": [
    "#### 1) 함수 만들기"
   ]
  },
  {
   "cell_type": "code",
   "execution_count": 32,
   "metadata": {
    "executionInfo": {
     "elapsed": 10,
     "status": "ok",
     "timestamp": 1729231861862,
     "user": {
      "displayName": "강해찬",
      "userId": "08180896618044652518"
     },
     "user_tz": -540
    },
    "id": "9UAXQTmk_QTN"
   },
   "outputs": [],
   "source": [
    "def model_pipeline(model_data, models=[model1, model2, model3, model4]):\n",
    "    m_data = model_data.copy()\n",
    "\n",
    "    t_x2 = model_data.drop(['is_dynamic', 'Activity'], axis=1)\n",
    "    t_x1 = model_data.drop(['is_dynamic', 'Activity', 'subject'], axis=1)\n",
    "    t_y1 = model_data.loc[:, 'is_dynamic']\n",
    "    t_y2 = model_data.loc[:, 'Activity']\n",
    "\n",
    "    scaler = MinMaxScaler()\n",
    "    t_x1 = scaler.fit_transform(t_x1)\n",
    "\n",
    "    pred1 = model1.predict(t_x1)\n",
    "    pred1 = np.where(pred1 >= .5, 1, 0)\n",
    "\n",
    "    dynamic_x1 = t_x1[pred1.flatten() == 1]\n",
    "    dynamic_y1 = t_y2[pred1.flatten() == 1]\n",
    "\n",
    "    static_x1 = t_x1[pred1.flatten() == 0]\n",
    "    static_x2 = t_x2[pred1.flatten() == 0]\n",
    "    static_y1 = t_y2[pred1.flatten() == 0]\n",
    "\n",
    "    static_pred1 = model2.predict(static_x1)\n",
    "    static_pred1 = np.where(static_pred1 >= .5, 1, 0)\n",
    "\n",
    "    static_b_x1 = static_x1[static_pred1.flatten() == 0]\n",
    "    static_b_x2 = static_x2[static_pred1.flatten() == 1]\n",
    "    static_b_y1 = static_y1[static_pred1.flatten() == 0]\n",
    "    static_b_y2 = static_y1[static_pred1.flatten() == 1]\n",
    "\n",
    "\n",
    "    static_b_pred1_1 = static_pred1[static_pred1.flatten() == 0]\n",
    "    static_b_x2 = pd.get_dummies(static_b_x2, columns=['subject'], dtype = int)\n",
    "    static_b_pred1_2 = model3.predict(static_b_x2)\n",
    "    static_b_pred1_2 = np.where(static_b_pred1_2 >= .5, 2, 1)\n",
    "\n",
    "\n",
    "    dynamic_pred1 = model4.predict(dynamic_x1)\n",
    "    dynamic_pred_1 = dynamic_pred1.argmax(axis=1) + 3\n",
    "\n",
    "\n",
    "    total_pred = np.concatenate((static_b_pred1_1.flatten(), static_b_pred1_2.flatten()), axis=0)\n",
    "    total_pred = np.concatenate((total_pred, dynamic_pred_1), axis=0)\n",
    "    total_y1 = pd.concat([static_b_y1, static_b_y2], axis = 0, join = 'outer')\n",
    "    total_y1 = pd.concat([total_y1, dynamic_y1], axis = 0, join = 'outer')\n",
    "\n",
    "    print(confusion_matrix(total_pred, total_y1))\n",
    "    print(classification_report(total_pred, total_y1))\n"
   ]
  },
  {
   "cell_type": "code",
   "execution_count": 33,
   "metadata": {
    "executionInfo": {
     "elapsed": 9,
     "status": "ok",
     "timestamp": 1729231861862,
     "user": {
      "displayName": "강해찬",
      "userId": "08180896618044652518"
     },
     "user_tz": -540
    },
    "id": "THvjpwK31MHn"
   },
   "outputs": [],
   "source": [
    "def data_pipeline(test_data):\n",
    "    temp = test_data.copy()\n",
    "    temp['is_dynamic'] = temp['Activity'].map({'STANDING':0, 'SITTING':0, 'LAYING':0, 'WALKING':1, 'WALKING_UPSTAIRS':1, 'WALKING_DOWNSTAIRS':1})\n",
    "    temp['Activity'] = temp['Activity'].map({'LAYING':0, 'SITTING':1, 'STANDING':2, 'WALKING':3, 'WALKING_UPSTAIRS':4, 'WALKING_DOWNSTAIRS':5})\n",
    "\n",
    "    model_pipeline(temp)\n"
   ]
  },
  {
   "cell_type": "markdown",
   "metadata": {
    "id": "pk2Efe1K1MHn"
   },
   "source": [
    "#### 2) test 셋으로 예측하고 평가하기"
   ]
  },
  {
   "cell_type": "code",
   "execution_count": 34,
   "metadata": {
    "colab": {
     "base_uri": "https://localhost:8080/"
    },
    "executionInfo": {
     "elapsed": 780,
     "status": "ok",
     "timestamp": 1729231862633,
     "user": {
      "displayName": "강해찬",
      "userId": "08180896618044652518"
     },
     "user_tz": -540
    },
    "id": "eVLnQbdfUyx9",
    "outputId": "ada42327-0d6a-485a-f77c-8cc75762b484"
   },
   "outputs": [
    {
     "name": "stdout",
     "output_type": "stream",
     "text": [
      "\u001b[1m46/46\u001b[0m \u001b[32m━━━━━━━━━━━━━━━━━━━━\u001b[0m\u001b[37m\u001b[0m \u001b[1m0s\u001b[0m 2ms/step\n",
      "\u001b[1m27/27\u001b[0m \u001b[32m━━━━━━━━━━━━━━━━━━━━\u001b[0m\u001b[37m\u001b[0m \u001b[1m0s\u001b[0m 4ms/step\n",
      "\u001b[1m17/17\u001b[0m \u001b[32m━━━━━━━━━━━━━━━━━━━━\u001b[0m\u001b[37m\u001b[0m \u001b[1m0s\u001b[0m 4ms/step\n",
      "\u001b[1m20/20\u001b[0m \u001b[32m━━━━━━━━━━━━━━━━━━━━\u001b[0m\u001b[37m\u001b[0m \u001b[1m0s\u001b[0m 2ms/step \n",
      "[[292   0   0   0   0   0]\n",
      " [  0 237  10   0   0   0]\n",
      " [  0  17 277   0   0   0]\n",
      " [  0   0   0 228  15   0]\n",
      " [  0   0   0   0 197   0]\n",
      " [  0   0   0   0   3 195]]\n",
      "              precision    recall  f1-score   support\n",
      "\n",
      "           0       1.00      1.00      1.00       292\n",
      "           1       0.93      0.96      0.95       247\n",
      "           2       0.97      0.94      0.95       294\n",
      "           3       1.00      0.94      0.97       243\n",
      "           4       0.92      1.00      0.96       197\n",
      "           5       1.00      0.98      0.99       198\n",
      "\n",
      "    accuracy                           0.97      1471\n",
      "   macro avg       0.97      0.97      0.97      1471\n",
      "weighted avg       0.97      0.97      0.97      1471\n",
      "\n"
     ]
    }
   ],
   "source": [
    "test_data = data2.copy()\n",
    "data_pipeline(test_data)"
   ]
  },
  {
   "cell_type": "code",
   "execution_count": 34,
   "metadata": {
    "executionInfo": {
     "elapsed": 11,
     "status": "ok",
     "timestamp": 1729231862634,
     "user": {
      "displayName": "강해찬",
      "userId": "08180896618044652518"
     },
     "user_tz": -540
    },
    "id": "wrE1VCoSOLyo"
   },
   "outputs": [],
   "source": []
  }
 ],
 "metadata": {
  "colab": {
   "provenance": []
  },
  "kernelspec": {
   "display_name": "Python 3 (ipykernel)",
   "language": "python",
   "name": "python3"
  },
  "language_info": {
   "codemirror_mode": {
    "name": "ipython",
    "version": 3
   },
   "file_extension": ".py",
   "mimetype": "text/x-python",
   "name": "python",
   "nbconvert_exporter": "python",
   "pygments_lexer": "ipython3",
   "version": "3.12.4"
  }
 },
 "nbformat": 4,
 "nbformat_minor": 0
}
